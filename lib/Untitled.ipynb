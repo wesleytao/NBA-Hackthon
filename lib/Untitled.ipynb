{
 "cells": [
  {
   "cell_type": "code",
   "execution_count": 4,
   "metadata": {},
   "outputs": [
    {
     "name": "stdout",
     "output_type": "stream",
     "text": [
      "[1, 2, 3, 1]\n",
      "[1, 2, 3, 1, 2]\n"
     ]
    }
   ],
   "source": [
    "def append(number, number_list = None):\n",
    "    if not number_list:\n",
    "        number_list=[]\n",
    "    number_list.append(number)\n",
    "    return number_list\n",
    "\n",
    "mylist=[1,2,3]\n",
    "print(append(1,mylist))\n",
    "print(append(2,mylist))"
   ]
  }
 ],
 "metadata": {
  "kernelspec": {
   "display_name": "Python 3",
   "language": "python",
   "name": "python3"
  },
  "language_info": {
   "codemirror_mode": {
    "name": "ipython",
    "version": 3
   },
   "file_extension": ".py",
   "mimetype": "text/x-python",
   "name": "python",
   "nbconvert_exporter": "python",
   "pygments_lexer": "ipython3",
   "version": "3.6.1"
  }
 },
 "nbformat": 4,
 "nbformat_minor": 2
}

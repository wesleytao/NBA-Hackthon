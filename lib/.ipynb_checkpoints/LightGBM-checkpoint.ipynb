{
 "cells": [
  {
   "cell_type": "code",
   "execution_count": 2,
   "metadata": {
    "collapsed": true
   },
   "outputs": [],
   "source": [
    "import gc\n",
    "import pandas as pd \n",
    "import numpy as np\n",
    "import glob\n",
    "import matplotlib.pyplot as plt\n",
    "from sklearn.preprocessing import LabelEncoder"
   ]
  },
  {
   "cell_type": "code",
   "execution_count": 3,
   "metadata": {
    "collapsed": true
   },
   "outputs": [],
   "source": [
    "train_data=pd.read_csv(\"../data/RAW_training_set.csv\")\n",
    "test_data=pd.read_csv(\"../data/RAW_test_set.csv\")"
   ]
  },
  {
   "cell_type": "markdown",
   "metadata": {},
   "source": [
    "# Feature Generation"
   ]
  },
  {
   "cell_type": "markdown",
   "metadata": {},
   "source": [
    "## 1.Date"
   ]
  },
  {
   "cell_type": "code",
   "execution_count": 5,
   "metadata": {
    "collapsed": true
   },
   "outputs": [],
   "source": [
    "# dir(train_data['Game_Date'].dt)"
   ]
  },
  {
   "cell_type": "code",
   "execution_count": 4,
   "metadata": {
    "collapsed": true
   },
   "outputs": [],
   "source": [
    "train_data['Game_Date']=pd.to_datetime(train_data['Game_Date'])\n",
    "train_data['day_of_week']=train_data['Game_Date'].dt.weekday_name\n",
    "train_data['month']=train_data['Game_Date'].dt.month"
   ]
  },
  {
   "cell_type": "code",
   "execution_count": 5,
   "metadata": {
    "collapsed": true
   },
   "outputs": [],
   "source": [
    "test_data['Game_Date']=pd.to_datetime(test_data['Game_Date'])\n",
    "test_data['day_of_week']=test_data['Game_Date'].dt.weekday_name\n",
    "test_data['month']=test_data['Game_Date'].dt.month"
   ]
  },
  {
   "cell_type": "code",
   "execution_count": 6,
   "metadata": {},
   "outputs": [
    {
     "data": {
      "text/html": [
       "<div>\n",
       "<style scoped>\n",
       "    .dataframe tbody tr th:only-of-type {\n",
       "        vertical-align: middle;\n",
       "    }\n",
       "\n",
       "    .dataframe tbody tr th {\n",
       "        vertical-align: top;\n",
       "    }\n",
       "\n",
       "    .dataframe thead th {\n",
       "        text-align: right;\n",
       "    }\n",
       "</style>\n",
       "<table border=\"1\" class=\"dataframe\">\n",
       "  <thead>\n",
       "    <tr style=\"text-align: right;\">\n",
       "      <th></th>\n",
       "      <th>Season</th>\n",
       "      <th>Game_ID</th>\n",
       "      <th>Game_Date</th>\n",
       "      <th>Away_Team</th>\n",
       "      <th>Home_Team</th>\n",
       "      <th>Country</th>\n",
       "      <th>Rounded Viewers</th>\n",
       "      <th>day_of_week</th>\n",
       "      <th>month</th>\n",
       "    </tr>\n",
       "  </thead>\n",
       "  <tbody>\n",
       "    <tr>\n",
       "      <th>0</th>\n",
       "      <td>2016-17</td>\n",
       "      <td>21600001</td>\n",
       "      <td>2016-10-25</td>\n",
       "      <td>NYK</td>\n",
       "      <td>CLE</td>\n",
       "      <td>C113</td>\n",
       "      <td>18</td>\n",
       "      <td>Tuesday</td>\n",
       "      <td>10</td>\n",
       "    </tr>\n",
       "    <tr>\n",
       "      <th>1</th>\n",
       "      <td>2016-17</td>\n",
       "      <td>21600001</td>\n",
       "      <td>2016-10-25</td>\n",
       "      <td>NYK</td>\n",
       "      <td>CLE</td>\n",
       "      <td>C193</td>\n",
       "      <td>1</td>\n",
       "      <td>Tuesday</td>\n",
       "      <td>10</td>\n",
       "    </tr>\n",
       "    <tr>\n",
       "      <th>2</th>\n",
       "      <td>2016-17</td>\n",
       "      <td>21600001</td>\n",
       "      <td>2016-10-25</td>\n",
       "      <td>NYK</td>\n",
       "      <td>CLE</td>\n",
       "      <td>C126</td>\n",
       "      <td>4</td>\n",
       "      <td>Tuesday</td>\n",
       "      <td>10</td>\n",
       "    </tr>\n",
       "    <tr>\n",
       "      <th>3</th>\n",
       "      <td>2016-17</td>\n",
       "      <td>21600001</td>\n",
       "      <td>2016-10-25</td>\n",
       "      <td>NYK</td>\n",
       "      <td>CLE</td>\n",
       "      <td>C163</td>\n",
       "      <td>11</td>\n",
       "      <td>Tuesday</td>\n",
       "      <td>10</td>\n",
       "    </tr>\n",
       "    <tr>\n",
       "      <th>4</th>\n",
       "      <td>2016-17</td>\n",
       "      <td>21600001</td>\n",
       "      <td>2016-10-25</td>\n",
       "      <td>NYK</td>\n",
       "      <td>CLE</td>\n",
       "      <td>C73</td>\n",
       "      <td>3</td>\n",
       "      <td>Tuesday</td>\n",
       "      <td>10</td>\n",
       "    </tr>\n",
       "  </tbody>\n",
       "</table>\n",
       "</div>"
      ],
      "text/plain": [
       "    Season   Game_ID  Game_Date Away_Team Home_Team Country  Rounded Viewers  \\\n",
       "0  2016-17  21600001 2016-10-25       NYK       CLE    C113               18   \n",
       "1  2016-17  21600001 2016-10-25       NYK       CLE    C193                1   \n",
       "2  2016-17  21600001 2016-10-25       NYK       CLE    C126                4   \n",
       "3  2016-17  21600001 2016-10-25       NYK       CLE    C163               11   \n",
       "4  2016-17  21600001 2016-10-25       NYK       CLE     C73                3   \n",
       "\n",
       "  day_of_week  month  \n",
       "0     Tuesday     10  \n",
       "1     Tuesday     10  \n",
       "2     Tuesday     10  \n",
       "3     Tuesday     10  \n",
       "4     Tuesday     10  "
      ]
     },
     "execution_count": 6,
     "metadata": {},
     "output_type": "execute_result"
    }
   ],
   "source": [
    "train_data.head()"
   ]
  },
  {
   "cell_type": "markdown",
   "metadata": {},
   "source": [
    "# 2.country"
   ]
  },
  {
   "cell_type": "code",
   "execution_count": 7,
   "metadata": {},
   "outputs": [
    {
     "name": "stdout",
     "output_type": "stream",
     "text": [
      "there are 228 countries.\n"
     ]
    }
   ],
   "source": [
    "print(\"there are {} countries.\".format(len(np.unique(train_data['Country']))))"
   ]
  },
  {
   "cell_type": "code",
   "execution_count": 8,
   "metadata": {},
   "outputs": [
    {
     "data": {
      "image/png": "[encoded data removed]",
      "text/plain": [
       "<matplotlib.figure.Figure at 0x201f8cc6cc0>"
      ]
     },
     "metadata": {},
     "output_type": "display_data"
    }
   ],
   "source": [
    "view_table=pd.pivot_table(train_data,values='Rounded Viewers',index='Country',aggfunc=np.sum)\n",
    "view_table=view_table.sort_values(by=['Rounded Viewers'],ascending=False)\n",
    "label=view_table.index[0:30]\n",
    "value=view_table.values[0:30]\n",
    "index=np.arange(len(label))\n",
    "plt.bar(index,value)\n",
    "plt.xticks(index,label,rotation=90)\n",
    "plt.title(\"view count by contry\")\n",
    "plt.show()"
   ]
  },
  {
   "cell_type": "code",
   "execution_count": 9,
   "metadata": {
    "collapsed": true
   },
   "outputs": [],
   "source": [
    "# choose top 50 and put all other into 'others' catogory"
   ]
  },
  {
   "cell_type": "code",
   "execution_count": 10,
   "metadata": {
    "collapsed": true
   },
   "outputs": [],
   "source": [
    "top_50_country=view_table.index[0:50]\n",
    "top_50_idx=list(map(lambda thiscountry: True if thiscountry in top_50_country else False, train_data['Country']))\n",
    "not_top_50_idx=[not idx  for idx in top_50_idx]"
   ]
  },
  {
   "cell_type": "code",
   "execution_count": 11,
   "metadata": {},
   "outputs": [
    {
     "name": "stdout",
     "output_type": "stream",
     "text": [
      "top 50 country shape (99988, 9)\n"
     ]
    }
   ],
   "source": [
    "print (\"top 50 country shape\",train_data[top_50_idx].shape)"
   ]
  },
  {
   "cell_type": "code",
   "execution_count": 12,
   "metadata": {},
   "outputs": [
    {
     "name": "stdout",
     "output_type": "stream",
     "text": [
      "reset shape  (180637, 9)\n"
     ]
    }
   ],
   "source": [
    "print(\"reset shape \",train_data[not_top_50_idx].shape)"
   ]
  },
  {
   "cell_type": "code",
   "execution_count": 13,
   "metadata": {},
   "outputs": [
    {
     "name": "stdout",
     "output_type": "stream",
     "text": [
      "total data shape (280625, 9)\n"
     ]
    }
   ],
   "source": [
    "print(\"total data shape\",train_data.shape)"
   ]
  },
  {
   "cell_type": "code",
   "execution_count": 14,
   "metadata": {
    "collapsed": true
   },
   "outputs": [],
   "source": [
    "top_50_train_data =train_data[top_50_idx].copy()\n",
    "other=train_data[not_top_50_idx].copy()"
   ]
  },
  {
   "cell_type": "code",
   "execution_count": 15,
   "metadata": {
    "collapsed": true
   },
   "outputs": [],
   "source": [
    "other_count=other.groupby(['Game_ID']).sum()\n",
    "del other_count['month']\n",
    "other_count.reset_index(inplace=True)"
   ]
  },
  {
   "cell_type": "code",
   "execution_count": 16,
   "metadata": {
    "collapsed": true
   },
   "outputs": [],
   "source": [
    "del other['Rounded Viewers']\n",
    "del other['Country']"
   ]
  },
  {
   "cell_type": "code",
   "execution_count": 17,
   "metadata": {
    "collapsed": true
   },
   "outputs": [],
   "source": [
    "aggregate_df =pd.DataFrame()\n",
    "aggregate_df=other.drop_duplicates().reset_index(drop=True)\n",
    "aggregate_df['Country']='other'\n",
    "aggregate_df.sort_values(['Game_ID'],inplace=True)\n",
    "aggregate_df=aggregate_df.merge(other_count, left_on='Game_ID', right_on='Game_ID', how='outer')"
   ]
  },
  {
   "cell_type": "code",
   "execution_count": 18,
   "metadata": {
    "collapsed": true
   },
   "outputs": [],
   "source": [
    "new_train_data=pd.concat([aggregate_df,top_50_train_data],axis=0)"
   ]
  },
  {
   "cell_type": "code",
   "execution_count": 19,
   "metadata": {},
   "outputs": [
    {
     "data": {
      "text/plain": [
       "True"
      ]
     },
     "execution_count": 19,
     "metadata": {},
     "output_type": "execute_result"
    }
   ],
   "source": [
    "new_train_data.shape[0]==top_50_train_data.shape[0]+2000"
   ]
  },
  {
   "cell_type": "code",
   "execution_count": 20,
   "metadata": {
    "collapsed": true
   },
   "outputs": [],
   "source": [
    "country_list=list(set(new_train_data['Country']))"
   ]
  },
  {
   "cell_type": "code",
   "execution_count": null,
   "metadata": {
    "collapsed": true
   },
   "outputs": [],
   "source": [
    "# insert country into test_data"
   ]
  },
  {
   "cell_type": "code",
   "execution_count": 21,
   "metadata": {
    "collapsed": true
   },
   "outputs": [],
   "source": [
    "country_df=pd.DataFrame(country_list,columns=['Country'])\n",
    "# country_df\n",
    "country_df['key'] = 0\n",
    "test_data['key'] = 0\n",
    "new_test=pd.merge(test_data,country_df,on='key')\n",
    "del new_test['key']"
   ]
  },
  {
   "cell_type": "code",
   "execution_count": 22,
   "metadata": {},
   "outputs": [
    {
     "data": {
      "text/plain": [
       "True"
      ]
     },
     "execution_count": 22,
     "metadata": {},
     "output_type": "execute_result"
    }
   ],
   "source": [
    "# new_test.shape[0]==len(country_df)*len(test_data)"
   ]
  },
  {
   "cell_type": "code",
   "execution_count": 24,
   "metadata": {
    "collapsed": true
   },
   "outputs": [],
   "source": [
    "test=new_test\n",
    "train=new_train_data\n",
    "# del new_test\n",
    "# del new_train_data"
   ]
  },
  {
   "cell_type": "code",
   "execution_count": 25,
   "metadata": {},
   "outputs": [
    {
     "data": {
      "text/plain": [
       "12185"
      ]
     },
     "execution_count": 25,
     "metadata": {},
     "output_type": "execute_result"
    }
   ],
   "source": [
    "gc.collect()"
   ]
  },
  {
   "cell_type": "code",
   "execution_count": 26,
   "metadata": {},
   "outputs": [
    {
     "data": {
      "image/png": "[encoded data removed]",
      "text/plain": [
       "<matplotlib.figure.Figure at 0x201f8c1ba90>"
      ]
     },
     "metadata": {},
     "output_type": "display_data"
    }
   ],
   "source": [
    "view_table=pd.pivot_table(train,values='Rounded Viewers',index='Country',aggfunc=np.sum)\n",
    "view_table=view_table.sort_values(by=['Rounded Viewers'],ascending=False)\n",
    "label=view_table.index\n",
    "value=view_table.values\n",
    "index=np.arange(len(label))\n",
    "plt.bar(index,value)\n",
    "plt.xticks(index,label,rotation=90)\n",
    "plt.title(\"view count by contry\")\n",
    "plt.show()"
   ]
  },
  {
   "cell_type": "markdown",
   "metadata": {},
   "source": [
    "# Categorical encoder"
   ]
  },
  {
   "cell_type": "code",
   "execution_count": 34,
   "metadata": {
    "collapsed": true
   },
   "outputs": [],
   "source": [
    "y_train=train['Rounded Viewers']\n",
    "y_train_log =np.log1p(y_train)\n",
    "X_train=train.drop(columns=['Rounded Viewers'])\n",
    "X_train['month']=X_train['month'].astype('category')\n",
    "# X_train=pd.get_dummies(X_train,drop_first=True)\n",
    "del X_train['Game_ID']\n",
    "del X_train['Game_Date']"
   ]
  },
  {
   "cell_type": "code",
   "execution_count": 35,
   "metadata": {
    "collapsed": true
   },
   "outputs": [],
   "source": [
    "X_test=test.drop(columns=['Total_Viewers','Game_ID',\"Game_Date\"])\n",
    "X_test['month']=X_test['month'].astype('category')\n",
    "X_test=X_test.sort_index(axis=1)"
   ]
  },
  {
   "cell_type": "code",
   "execution_count": 36,
   "metadata": {
    "collapsed": true
   },
   "outputs": [],
   "source": [
    "from sklearn.preprocessing import LabelEncoder"
   ]
  },
  {
   "cell_type": "code",
   "execution_count": 37,
   "metadata": {
    "collapsed": true
   },
   "outputs": [],
   "source": [
    "cat_encoder=LabelEncoder()"
   ]
  },
  {
   "cell_type": "code",
   "execution_count": 38,
   "metadata": {},
   "outputs": [],
   "source": [
    "for feature in X_train.columns:\n",
    "    if feature !=\"month\":\n",
    "        X_train[feature]=cat_encoder.fit_transform(X_train[feature])\n",
    "        X_test[feature]=cat_encoder.transform(X_test[feature])"
   ]
  },
  {
   "cell_type": "code",
   "execution_count": 39,
   "metadata": {},
   "outputs": [
    {
     "data": {
      "text/html": [
       "<div>\n",
       "<style scoped>\n",
       "    .dataframe tbody tr th:only-of-type {\n",
       "        vertical-align: middle;\n",
       "    }\n",
       "\n",
       "    .dataframe tbody tr th {\n",
       "        vertical-align: top;\n",
       "    }\n",
       "\n",
       "    .dataframe thead th {\n",
       "        text-align: right;\n",
       "    }\n",
       "</style>\n",
       "<table border=\"1\" class=\"dataframe\">\n",
       "  <thead>\n",
       "    <tr style=\"text-align: right;\">\n",
       "      <th></th>\n",
       "      <th>Away_Team</th>\n",
       "      <th>Country</th>\n",
       "      <th>Home_Team</th>\n",
       "      <th>Season</th>\n",
       "      <th>day_of_week</th>\n",
       "      <th>month</th>\n",
       "    </tr>\n",
       "  </thead>\n",
       "  <tbody>\n",
       "    <tr>\n",
       "      <th>0</th>\n",
       "      <td>19</td>\n",
       "      <td>50</td>\n",
       "      <td>5</td>\n",
       "      <td>0</td>\n",
       "      <td>5</td>\n",
       "      <td>10</td>\n",
       "    </tr>\n",
       "    <tr>\n",
       "      <th>1</th>\n",
       "      <td>28</td>\n",
       "      <td>50</td>\n",
       "      <td>24</td>\n",
       "      <td>0</td>\n",
       "      <td>5</td>\n",
       "      <td>10</td>\n",
       "    </tr>\n",
       "    <tr>\n",
       "      <th>2</th>\n",
       "      <td>26</td>\n",
       "      <td>50</td>\n",
       "      <td>9</td>\n",
       "      <td>0</td>\n",
       "      <td>5</td>\n",
       "      <td>10</td>\n",
       "    </tr>\n",
       "    <tr>\n",
       "      <th>3</th>\n",
       "      <td>15</td>\n",
       "      <td>50</td>\n",
       "      <td>21</td>\n",
       "      <td>0</td>\n",
       "      <td>6</td>\n",
       "      <td>10</td>\n",
       "    </tr>\n",
       "    <tr>\n",
       "      <th>4</th>\n",
       "      <td>6</td>\n",
       "      <td>50</td>\n",
       "      <td>11</td>\n",
       "      <td>0</td>\n",
       "      <td>6</td>\n",
       "      <td>10</td>\n",
       "    </tr>\n",
       "  </tbody>\n",
       "</table>\n",
       "</div>"
      ],
      "text/plain": [
       "   Away_Team  Country  Home_Team  Season  day_of_week month\n",
       "0         19       50          5       0            5    10\n",
       "1         28       50         24       0            5    10\n",
       "2         26       50          9       0            5    10\n",
       "3         15       50         21       0            6    10\n",
       "4          6       50         11       0            6    10"
      ]
     },
     "execution_count": 39,
     "metadata": {},
     "output_type": "execute_result"
    }
   ],
   "source": [
    "X_train.head()"
   ]
  },
  {
   "cell_type": "code",
   "execution_count": 40,
   "metadata": {},
   "outputs": [
    {
     "data": {
      "text/html": [
       "<div>\n",
       "<style scoped>\n",
       "    .dataframe tbody tr th:only-of-type {\n",
       "        vertical-align: middle;\n",
       "    }\n",
       "\n",
       "    .dataframe tbody tr th {\n",
       "        vertical-align: top;\n",
       "    }\n",
       "\n",
       "    .dataframe thead th {\n",
       "        text-align: right;\n",
       "    }\n",
       "</style>\n",
       "<table border=\"1\" class=\"dataframe\">\n",
       "  <thead>\n",
       "    <tr style=\"text-align: right;\">\n",
       "      <th></th>\n",
       "      <th>Away_Team</th>\n",
       "      <th>Country</th>\n",
       "      <th>Home_Team</th>\n",
       "      <th>Season</th>\n",
       "      <th>day_of_week</th>\n",
       "      <th>month</th>\n",
       "    </tr>\n",
       "  </thead>\n",
       "  <tbody>\n",
       "    <tr>\n",
       "      <th>0</th>\n",
       "      <td>7</td>\n",
       "      <td>30</td>\n",
       "      <td>18</td>\n",
       "      <td>0</td>\n",
       "      <td>6</td>\n",
       "      <td>10</td>\n",
       "    </tr>\n",
       "    <tr>\n",
       "      <th>1</th>\n",
       "      <td>7</td>\n",
       "      <td>29</td>\n",
       "      <td>18</td>\n",
       "      <td>0</td>\n",
       "      <td>6</td>\n",
       "      <td>10</td>\n",
       "    </tr>\n",
       "    <tr>\n",
       "      <th>2</th>\n",
       "      <td>7</td>\n",
       "      <td>39</td>\n",
       "      <td>18</td>\n",
       "      <td>0</td>\n",
       "      <td>6</td>\n",
       "      <td>10</td>\n",
       "    </tr>\n",
       "    <tr>\n",
       "      <th>3</th>\n",
       "      <td>7</td>\n",
       "      <td>1</td>\n",
       "      <td>18</td>\n",
       "      <td>0</td>\n",
       "      <td>6</td>\n",
       "      <td>10</td>\n",
       "    </tr>\n",
       "    <tr>\n",
       "      <th>4</th>\n",
       "      <td>7</td>\n",
       "      <td>11</td>\n",
       "      <td>18</td>\n",
       "      <td>0</td>\n",
       "      <td>6</td>\n",
       "      <td>10</td>\n",
       "    </tr>\n",
       "  </tbody>\n",
       "</table>\n",
       "</div>"
      ],
      "text/plain": [
       "   Away_Team  Country  Home_Team  Season  day_of_week month\n",
       "0          7       30         18       0            6    10\n",
       "1          7       29         18       0            6    10\n",
       "2          7       39         18       0            6    10\n",
       "3          7        1         18       0            6    10\n",
       "4          7       11         18       0            6    10"
      ]
     },
     "execution_count": 40,
     "metadata": {},
     "output_type": "execute_result"
    }
   ],
   "source": [
    "X_test.head()"
   ]
  },
  {
   "cell_type": "markdown",
   "metadata": {},
   "source": [
    "# light GBM\n",
    "LightGBM offers good accuracy with integer-encoded categorical features.   \n",
    "LightGBM applies Fisher (1958) to find the optimal split over categories as described here. This often performs better than one-hot encoding.  \n",
    "Use categorical_feature to specify the categorical features. Refer to the parameter categorical_feature in Parameters.  \n",
    "\n",
    "**Categorical features** must be encoded as non-negative integers (int) less than Int32.MaxValue (2147483647). It is best to use a **contiguous range of integers**.  \n",
    "\n",
    "Use **min_data_per_group, cat_smooth** to deal with over-fitting (when #data is small or #category is large).  \n",
    "\n",
    "For a categorical feature with high cardinality (#category is large), it often works best to treat the feature as numeric, either by simply ignoring the categorical interpretation of the integers or by embedding the categories in a low-dimensional numeric space.  \n"
   ]
  },
  {
   "cell_type": "code",
   "execution_count": 41,
   "metadata": {},
   "outputs": [
    {
     "data": {
      "text/plain": [
       "LGBMRegressor(boosting_type='dart', class_weight=None, colsample_bytree=1.0,\n",
       "       learning_rate=0.1, max_depth=-1, metric='rmse',\n",
       "       min_child_samples=20, min_child_weight=0.001, min_data_in_leaf=30,\n",
       "       min_split_gain=0.0, n_estimators=60, n_jobs=-1, num_leaves=10,\n",
       "       objective=None, random_state=None, reg_alpha=0.0, reg_lambda=0.0,\n",
       "       silent=True, subsample=1.0, subsample_for_bin=200000,\n",
       "       subsample_freq=0)"
      ]
     },
     "execution_count": 41,
     "metadata": {},
     "output_type": "execute_result"
    }
   ],
   "source": [
    "# model xgboost\n",
    "import lightgbm as lgb\n",
    "from lightgbm import LGBMRegressor\n",
    "lgb_model=LGBMRegressor()\n",
    "lgbm_params = {\n",
    "    \"n_estimators\":60,\n",
    "    \"boosting_type\":\"dart\",\n",
    "#     \"application\":\"conitunous\",\n",
    "    \"learning_rate\":0.1,\n",
    "    \"min_data_in_leaf\":30,\n",
    "    \"num_leaves\":10,\n",
    "#     \"min_data_per_group\":[10,30,50],\n",
    "#     \"cat_smooth\":[0,0.5,1],\n",
    "    \"max_depth\":-1,\n",
    "#     \"scale_pos_weight\":2,\n",
    "#     \"drop_rate\":0.02,\n",
    "    \"metric\":\"rmse\",\n",
    "    \"min_split_gain\":0.0,\n",
    "#     \"colsample_bytree\":0.0\n",
    "}\n",
    "lgb_model.set_params(**lgbm_params) #base model"
   ]
  },
  {
   "cell_type": "markdown",
   "metadata": {},
   "source": [
    "###  tune n_booster round/n_estimator"
   ]
  },
  {
   "cell_type": "code",
   "execution_count": 42,
   "metadata": {},
   "outputs": [],
   "source": [
    "lgbm_train = lgb.Dataset(data=X_train,\n",
    "                          label=y_train_log,\n",
    "                          categorical_feature=list(X_train.columns),\n",
    "                          free_raw_data=False)"
   ]
  },
  {
   "cell_type": "code",
   "execution_count": 43,
   "metadata": {},
   "outputs": [
    {
     "name": "stderr",
     "output_type": "stream",
     "text": [
      "C:\\Wesley_Tao\\6.Software\\Anaconda\\lib\\site-packages\\lightgbm\\engine.py:394: UserWarning: Found `n_estimators` in params. Will use it instead of argument\n",
      "  warnings.warn(\"Found `{}` in params. Will use it instead of argument\".format(alias))\n",
      "C:\\Wesley_Tao\\6.Software\\Anaconda\\lib\\site-packages\\lightgbm\\basic.py:1040: UserWarning: Using categorical_feature in Dataset.\n",
      "  warnings.warn('Using categorical_feature in Dataset.')\n"
     ]
    },
    {
     "name": "stdout",
     "output_type": "stream",
     "text": [
      "[50]\tcv_agg's l2: 0.571006 + 0.00456193\n"
     ]
    }
   ],
   "source": [
    "cv_results = lgb.cv(train_set=lgbm_train,\n",
    "                     params=lgbm_params,\n",
    "                     nfold=5,\n",
    "                     num_boost_round=1000,\n",
    "                     early_stopping_rounds=200,\n",
    "                     stratified=False,\n",
    "#                      objective=\"regression\",\n",
    "                     verbose_eval=50,\n",
    "                     metrics=['mse'])"
   ]
  },
  {
   "cell_type": "code",
   "execution_count": 44,
   "metadata": {},
   "outputs": [],
   "source": [
    "# cv_results"
   ]
  },
  {
   "cell_type": "code",
   "execution_count": 45,
   "metadata": {},
   "outputs": [
    {
     "name": "stdout",
     "output_type": "stream",
     "text": [
      "Optimum boost rounds = 0\n",
      "Best LGBM CV result = 1.5152772312008718\n"
     ]
    }
   ],
   "source": [
    "optimum_boost_rounds = np.argmax(cv_results['l2-mean'])\n",
    "print('Optimum boost rounds = {}'.format(optimum_boost_rounds))\n",
    "print('Best LGBM CV result = {}'.format(np.max(cv_results['l2-mean'])))"
   ]
  },
  {
   "cell_type": "code",
   "execution_count": 47,
   "metadata": {},
   "outputs": [
    {
     "name": "stderr",
     "output_type": "stream",
     "text": [
      "C:\\Wesley_Tao\\6.Software\\Anaconda\\lib\\site-packages\\lightgbm\\basic.py:1040: UserWarning: Using categorical_feature in Dataset.\n",
      "  warnings.warn('Using categorical_feature in Dataset.')\n"
     ]
    }
   ],
   "source": [
    "clf = lgb.train(train_set=lgbm_train,\n",
    "                 params=lgbm_params,\n",
    "                 num_boost_round=60)"
   ]
  },
  {
   "cell_type": "markdown",
   "metadata": {},
   "source": [
    "# parameter tuning"
   ]
  },
  {
   "cell_type": "markdown",
   "metadata": {},
   "source": [
    "**max num_leaves**  This is the main parameter to control the complexity of the tree model.   \n",
    "Theoretically, we can set num_leaves = 2^(max_depth) to obtain the same number of leaves as depth-wise tree. "
   ]
  },
  {
   "cell_type": "markdown",
   "metadata": {},
   "source": [
    "**min_data_in_leaf** This is a very important parameter to prevent over-fitting in a leaf-wise tree.   \n",
    "Its optimal value depends on the number of training samples and num_leaves.   \n",
    "Setting it to a large value can avoid growing too deep a tree, but may cause under-fitting.   \n",
    "In practice, setting it to hundreds or thousands is enough for a large dataset.\n",
    "\n",
    "**max_depth. ** You also can use max_depth to limit the tree depth explicitly."
   ]
  },
  {
   "cell_type": "code",
   "execution_count": 48,
   "metadata": {
    "collapsed": true
   },
   "outputs": [],
   "source": [
    "# from sklearn.utils import check_arrays\n",
    "def mean_absolute_percentage_error(y, y_pred): \n",
    "    return np.mean(np.abs((y - y_pred) / y))\n",
    "import sklearn.metrics\n",
    "mape=sklearn.metrics.make_scorer(mean_absolute_percentage_error,greater_is_better=True)"
   ]
  },
  {
   "cell_type": "code",
   "execution_count": 49,
   "metadata": {},
   "outputs": [
    {
     "data": {
      "text/plain": [
       "LGBMRegressor(boosting_type='dart', categorical_feature=[0, 1, 2, 3, 4, 5],\n",
       "       class_weight=None, colsample_bytree=1.0, learning_rate=0.1,\n",
       "       max_depth=-1, metric='rmse', min_child_samples=20,\n",
       "       min_child_weight=0.001, min_data_in_leaf=30, min_split_gain=0.0,\n",
       "       n_estimators=60, n_jobs=-1, num_leaves=10, objective=None,\n",
       "       random_state=None, reg_alpha=0.0, reg_lambda=0.0, silent=True,\n",
       "       subsample=1.0, subsample_for_bin=200000, subsample_freq=0)"
      ]
     },
     "execution_count": 49,
     "metadata": {},
     "output_type": "execute_result"
    }
   ],
   "source": [
    "lgb_model.set_params(categorical_feature=list(range(X_train.shape[1])))"
   ]
  },
  {
   "cell_type": "code",
   "execution_count": null,
   "metadata": {},
   "outputs": [],
   "source": [
    "# X_train"
   ]
  },
  {
   "cell_type": "code",
   "execution_count": null,
   "metadata": {},
   "outputs": [],
   "source": [
    "from sklearn.model_selection import GridSearchCV\n",
    "param_test1 = {\n",
    "     \"min_data_per_group\":[10,30,50],\n",
    "#     \"cat_smooth\":[0,0.5,1],\n",
    "#  'min_data_in_leaf':list(range(1,100,20))\n",
    "}\n",
    "gsearch1 = GridSearchCV(estimator = lgb_model, \n",
    "param_grid = param_test1, scoring=mape,n_jobs=4,iid=False, cv=5,verbose=20)\n",
    "\n",
    "gsearch1.fit(X_train,y_train_log)\n",
    "\n",
    "gsearch1.grid_scores_, gsearch1.best_params_, gsearch1.best_score_\n"
   ]
  },
  {
   "cell_type": "code",
   "execution_count": 48,
   "metadata": {},
   "outputs": [
    {
     "data": {
      "text/plain": [
       "LGBMRegressor(boosting_type='dart', class_weight=None, colsample_bytree=1.0,\n",
       "       learning_rate=0.1, max_depth=-1, metric='rmse',\n",
       "       min_child_samples=20, min_child_weight=0.001, min_data_in_leaf=30,\n",
       "       min_split_gain=0.0, n_estimators=121, n_jobs=-1, num_leaf=2,\n",
       "       num_leaves=10, objective=None, random_state=None, reg_alpha=0.0,\n",
       "       reg_lambda=0.0, silent=True, subsample=1.0,\n",
       "       subsample_for_bin=200000, subsample_freq=0)"
      ]
     },
     "execution_count": 48,
     "metadata": {},
     "output_type": "execute_result"
    }
   ],
   "source": [
    "lgb_model.set_params(**gsearch1.best_params_)"
   ]
  },
  {
   "cell_type": "code",
   "execution_count": null,
   "metadata": {},
   "outputs": [],
   "source": [
    "param_test2 = {\n",
    " 'min_data_in_leaf':list(range(11,1000,100))\n",
    "}\n",
    "gsearch2 = GridSearchCV(estimator = lgb_model, \n",
    "param_grid = param_test2, scoring='neg_mean_squared_error',n_jobs=4,iid=False, cv=5,verbose=10)\n",
    "\n",
    "gsearch2.fit(X_train,y_train)\n",
    "\n",
    "gsearch2.grid_scores_, gsearch2.best_params_, gsearch2.best_score_"
   ]
  },
  {
   "cell_type": "code",
   "execution_count": 42,
   "metadata": {},
   "outputs": [
    {
     "data": {
      "text/plain": [
       "LGBMRegressor(boosting_type='dart', class_weight=None, colsample_bytree=1.0,\n",
       "       learning_rate=0.1, max_depth=-1, metric='rmse',\n",
       "       min_child_samples=20, min_child_weight=0.001, min_data_in_leaf=11,\n",
       "       min_split_gain=0.0, n_estimators=100, n_jobs=-1, num_leaf=1,\n",
       "       num_leaves=31, objective=None, random_state=None, reg_alpha=0.0,\n",
       "       reg_lambda=0.0, silent=True, subsample=1.0,\n",
       "       subsample_for_bin=200000, subsample_freq=0)"
      ]
     },
     "execution_count": 42,
     "metadata": {},
     "output_type": "execute_result"
    }
   ],
   "source": [
    "lgb_model.set_params(**gsearch2.best_params_)"
   ]
  },
  {
   "cell_type": "code",
   "execution_count": 47,
   "metadata": {},
   "outputs": [
    {
     "data": {
      "text/plain": [
       "LGBMRegressor(boosting_type='dart', class_weight=None, colsample_bytree=1.0,\n",
       "       learning_rate=0.1, max_depth=-1, metric='rmse',\n",
       "       min_child_samples=20, min_child_weight=0.001, min_data_in_leaf=11,\n",
       "       min_split_gain=0.0, n_estimators=127, n_jobs=-1, num_leaf=1,\n",
       "       num_leaves=31, objective=None, random_state=None, reg_alpha=0.0,\n",
       "       reg_lambda=0.0, silent=True, subsample=1.0,\n",
       "       subsample_for_bin=200000, subsample_freq=0)"
      ]
     },
     "execution_count": 47,
     "metadata": {},
     "output_type": "execute_result"
    }
   ],
   "source": [
    "lgb_model.set_params(n_estimators=X_train.shape[1])"
   ]
  },
  {
   "cell_type": "code",
   "execution_count": 48,
   "metadata": {},
   "outputs": [
    {
     "data": {
      "text/plain": [
       "LGBMRegressor(boosting_type='dart', class_weight=None, colsample_bytree=1.0,\n",
       "       learning_rate=0.1, max_depth=-1, metric='rmse',\n",
       "       min_child_samples=20, min_child_weight=0.001, min_data_in_leaf=11,\n",
       "       min_split_gain=0.0, n_estimators=127, n_jobs=-1, num_leaf=1,\n",
       "       num_leaves=31, objective=None, random_state=None, reg_alpha=0.0,\n",
       "       reg_lambda=0.0, silent=True, subsample=1.0,\n",
       "       subsample_for_bin=200000, subsample_freq=0)"
      ]
     },
     "execution_count": 48,
     "metadata": {},
     "output_type": "execute_result"
    }
   ],
   "source": [
    "lgb_model.fit(X_train,y_train)"
   ]
  },
  {
   "cell_type": "code",
   "execution_count": 53,
   "metadata": {
    "collapsed": true
   },
   "outputs": [],
   "source": [
    "def plot_feature(alg,dtrain,top=100):\n",
    "    feat_imp = pd.Series(alg.feature_importances_,index=dtrain.columns).sort_values(ascending=False)[0:top]\n",
    "    feat_imp.plot(kind='bar', title='top {} Feature Importances'.format(top))\n",
    "    plt.ylabel('Feature Importance Score')\n",
    "    plt.show()"
   ]
  },
  {
   "cell_type": "code",
   "execution_count": 55,
   "metadata": {},
   "outputs": [
    {
     "data": {
      "image/png": "[encoded data removed]",
      "text/plain": [
       "<matplotlib.figure.Figure at 0x21751364438>"
      ]
     },
     "metadata": {},
     "output_type": "display_data"
    }
   ],
   "source": [
    "plot_feature(lgb_model,X_train,top=50)"
   ]
  },
  {
   "cell_type": "markdown",
   "metadata": {},
   "source": [
    "# evaluation"
   ]
  },
  {
   "cell_type": "code",
   "execution_count": 56,
   "metadata": {
    "collapsed": true
   },
   "outputs": [],
   "source": [
    "# from sklearn.utils import check_arrays\n",
    "def mean_absolute_percentage_error(y, y_pred): \n",
    "    return np.mean(np.abs((y - y_pred) / y))\n",
    "import sklearn.metrics\n",
    "mape=sklearn.metrics.make_scorer(mean_absolute_percentage_error,greater_is_better=True)"
   ]
  },
  {
   "cell_type": "code",
   "execution_count": 57,
   "metadata": {
    "collapsed": true
   },
   "outputs": [],
   "source": []
  },
  {
   "cell_type": "code",
   "execution_count": 58,
   "metadata": {
    "collapsed": true
   },
   "outputs": [],
   "source": [
    "from sklearn.model_selection import KFold, cross_val_score, train_test_split\n",
    "NUM_FOLDS = 5 \n",
    "def mape_cv(model):\n",
    "    kf = KFold(NUM_FOLDS, shuffle=True, random_state=42).get_n_splits(train.values)\n",
    "    rmse= cross_val_score(model, X_train.values, y_train,verbose=0, scoring=mape, cv = kf)\n",
    "    return(rmse)"
   ]
  },
  {
   "cell_type": "code",
   "execution_count": 59,
   "metadata": {},
   "outputs": [
    {
     "data": {
      "text/plain": [
       "array([0.77328742, 1.00562237, 1.36888596, 1.33191833, 1.64621535])"
      ]
     },
     "execution_count": 59,
     "metadata": {},
     "output_type": "execute_result"
    }
   ],
   "source": [
    "mape_cv(lgb_model)"
   ]
  },
  {
   "cell_type": "code",
   "execution_count": 60,
   "metadata": {},
   "outputs": [
    {
     "data": {
      "text/plain": [
       "LGBMRegressor(boosting_type='dart', class_weight=None, colsample_bytree=1.0,\n",
       "       learning_rate=0.1, max_depth=-1, metric='rmse',\n",
       "       min_child_samples=20, min_child_weight=0.001, min_data_in_leaf=11,\n",
       "       min_split_gain=0.0, n_estimators=127, n_jobs=-1, num_leaf=1,\n",
       "       num_leaves=31, objective=None, random_state=None, reg_alpha=0.0,\n",
       "       reg_lambda=0.0, silent=True, subsample=1.0,\n",
       "       subsample_for_bin=200000, subsample_freq=0)"
      ]
     },
     "execution_count": 60,
     "metadata": {},
     "output_type": "execute_result"
    }
   ],
   "source": [
    "# final score\n",
    "lgb_model.fit(X_train,np.log1p(y_train))"
   ]
  },
  {
   "cell_type": "code",
   "execution_count": 64,
   "metadata": {
    "collapsed": true
   },
   "outputs": [],
   "source": [
    "y_insample_pred=np.expm1(lgb_model.predict(X_train))"
   ]
  },
  {
   "cell_type": "code",
   "execution_count": 69,
   "metadata": {},
   "outputs": [
    {
     "data": {
      "image/png": "[encoded data removed]",
      "text/plain": [
       "<matplotlib.figure.Figure at 0x217513a07b8>"
      ]
     },
     "metadata": {},
     "output_type": "display_data"
    }
   ],
   "source": [
    "plt.hist(np.log1p(y_insample_pred),bins=100)\n",
    "plt.show()"
   ]
  },
  {
   "cell_type": "code",
   "execution_count": 68,
   "metadata": {},
   "outputs": [
    {
     "data": {
      "image/png": "[encoded data removed]",
      "text/plain": [
       "<matplotlib.figure.Figure at 0x2175148f128>"
      ]
     },
     "metadata": {},
     "output_type": "display_data"
    }
   ],
   "source": [
    "plt.hist(np.log1p(y_train),bins=100)\n",
    "plt.show()"
   ]
  },
  {
   "cell_type": "code",
   "execution_count": 70,
   "metadata": {},
   "outputs": [
    {
     "data": {
      "text/html": [
       "<div>\n",
       "<style scoped>\n",
       "    .dataframe tbody tr th:only-of-type {\n",
       "        vertical-align: middle;\n",
       "    }\n",
       "\n",
       "    .dataframe tbody tr th {\n",
       "        vertical-align: top;\n",
       "    }\n",
       "\n",
       "    .dataframe thead th {\n",
       "        text-align: right;\n",
       "    }\n",
       "</style>\n",
       "<table border=\"1\" class=\"dataframe\">\n",
       "  <thead>\n",
       "    <tr style=\"text-align: right;\">\n",
       "      <th></th>\n",
       "      <th>Away_Team</th>\n",
       "      <th>Country</th>\n",
       "      <th>Game_Date</th>\n",
       "      <th>Game_ID</th>\n",
       "      <th>Home_Team</th>\n",
       "      <th>Rounded Viewers</th>\n",
       "      <th>Season</th>\n",
       "      <th>day_of_week</th>\n",
       "      <th>month</th>\n",
       "    </tr>\n",
       "  </thead>\n",
       "  <tbody>\n",
       "    <tr>\n",
       "      <th>0</th>\n",
       "      <td>NYK</td>\n",
       "      <td>other</td>\n",
       "      <td>2016-10-25</td>\n",
       "      <td>21600001</td>\n",
       "      <td>CLE</td>\n",
       "      <td>2771</td>\n",
       "      <td>2016-17</td>\n",
       "      <td>Tuesday</td>\n",
       "      <td>10</td>\n",
       "    </tr>\n",
       "    <tr>\n",
       "      <th>1</th>\n",
       "      <td>UTA</td>\n",
       "      <td>other</td>\n",
       "      <td>2016-10-25</td>\n",
       "      <td>21600002</td>\n",
       "      <td>POR</td>\n",
       "      <td>1648</td>\n",
       "      <td>2016-17</td>\n",
       "      <td>Tuesday</td>\n",
       "      <td>10</td>\n",
       "    </tr>\n",
       "    <tr>\n",
       "      <th>2</th>\n",
       "      <td>SAS</td>\n",
       "      <td>other</td>\n",
       "      <td>2016-10-25</td>\n",
       "      <td>21600003</td>\n",
       "      <td>GSW</td>\n",
       "      <td>3106</td>\n",
       "      <td>2016-17</td>\n",
       "      <td>Tuesday</td>\n",
       "      <td>10</td>\n",
       "    </tr>\n",
       "    <tr>\n",
       "      <th>3</th>\n",
       "      <td>MIA</td>\n",
       "      <td>other</td>\n",
       "      <td>2016-10-26</td>\n",
       "      <td>21600004</td>\n",
       "      <td>ORL</td>\n",
       "      <td>1033</td>\n",
       "      <td>2016-17</td>\n",
       "      <td>Wednesday</td>\n",
       "      <td>10</td>\n",
       "    </tr>\n",
       "    <tr>\n",
       "      <th>4</th>\n",
       "      <td>DAL</td>\n",
       "      <td>other</td>\n",
       "      <td>2016-10-26</td>\n",
       "      <td>21600005</td>\n",
       "      <td>IND</td>\n",
       "      <td>1272</td>\n",
       "      <td>2016-17</td>\n",
       "      <td>Wednesday</td>\n",
       "      <td>10</td>\n",
       "    </tr>\n",
       "  </tbody>\n",
       "</table>\n",
       "</div>"
      ],
      "text/plain": [
       "  Away_Team Country  Game_Date   Game_ID Home_Team  Rounded Viewers   Season  \\\n",
       "0       NYK   other 2016-10-25  21600001       CLE             2771  2016-17   \n",
       "1       UTA   other 2016-10-25  21600002       POR             1648  2016-17   \n",
       "2       SAS   other 2016-10-25  21600003       GSW             3106  2016-17   \n",
       "3       MIA   other 2016-10-26  21600004       ORL             1033  2016-17   \n",
       "4       DAL   other 2016-10-26  21600005       IND             1272  2016-17   \n",
       "\n",
       "  day_of_week  month  \n",
       "0     Tuesday     10  \n",
       "1     Tuesday     10  \n",
       "2     Tuesday     10  \n",
       "3   Wednesday     10  \n",
       "4   Wednesday     10  "
      ]
     },
     "execution_count": 70,
     "metadata": {},
     "output_type": "execute_result"
    }
   ],
   "source": [
    "train.head()"
   ]
  },
  {
   "cell_type": "code",
   "execution_count": 78,
   "metadata": {
    "collapsed": true
   },
   "outputs": [],
   "source": [
    "train['pred_view']=y_insample_pred"
   ]
  },
  {
   "cell_type": "code",
   "execution_count": 81,
   "metadata": {
    "collapsed": true
   },
   "outputs": [],
   "source": [
    "train_game_2000=train[['Game_ID','Rounded Viewers','pred_view']].groupby('Game_ID').sum()"
   ]
  },
  {
   "cell_type": "code",
   "execution_count": 83,
   "metadata": {},
   "outputs": [
    {
     "data": {
      "text/plain": [
       "0.4404987781428546"
      ]
     },
     "execution_count": 83,
     "metadata": {},
     "output_type": "execute_result"
    }
   ],
   "source": [
    "mean_absolute_percentage_error(train_game_2000['Rounded Viewers'],train_game_2000['pred_view'])"
   ]
  },
  {
   "cell_type": "markdown",
   "metadata": {},
   "source": [
    "# submission"
   ]
  },
  {
   "cell_type": "code",
   "execution_count": 422,
   "metadata": {},
   "outputs": [
    {
     "data": {
      "text/plain": [
       "LGBMRegressor(boosting_type='gbdt', class_weight=None, colsample_bytree=1.0,\n",
       "       learning_rate=0.1, max_depth=-1, metric='rmse',\n",
       "       min_child_samples=20, min_child_weight=0.001, min_data_in_leaf=11,\n",
       "       min_split_gain=0.0, n_estimators=100, n_jobs=-1, num_leaf=1,\n",
       "       num_leaves=31, objective=None, random_state=None, reg_alpha=0.0,\n",
       "       reg_lambda=0.0, silent=True, subsample=1.0,\n",
       "       subsample_for_bin=200000, subsample_freq=0)"
      ]
     },
     "execution_count": 422,
     "metadata": {},
     "output_type": "execute_result"
    }
   ],
   "source": [
    "y_pred=lgb_model.predict(X_test)"
   ]
  },
  {
   "cell_type": "code",
   "execution_count": 428,
   "metadata": {},
   "outputs": [
    {
     "data": {
      "image/png": "[encoded data removed]",
      "text/plain": [
       "<matplotlib.figure.Figure at 0x2db3f30e860>"
      ]
     },
     "metadata": {},
     "output_type": "display_data"
    }
   ],
   "source": [
    "plt.hist(y_pred,bins=100)\n",
    "plt.show()"
   ]
  },
  {
   "cell_type": "code",
   "execution_count": 430,
   "metadata": {},
   "outputs": [
    {
     "data": {
      "image/png": "[encoded data removed]",
      "text/plain": [
       "<matplotlib.figure.Figure at 0x2db43f6e2b0>"
      ]
     },
     "metadata": {},
     "output_type": "display_data"
    }
   ],
   "source": [
    "plt.hist(y_train,bins=100)\n",
    "plt.show()"
   ]
  },
  {
   "cell_type": "code",
   "execution_count": 437,
   "metadata": {
    "collapsed": true
   },
   "outputs": [],
   "source": [
    "test['Total_Viewers']=y_pred"
   ]
  },
  {
   "cell_type": "code",
   "execution_count": 438,
   "metadata": {},
   "outputs": [
    {
     "data": {
      "text/html": [
       "<div>\n",
       "<style scoped>\n",
       "    .dataframe tbody tr th:only-of-type {\n",
       "        vertical-align: middle;\n",
       "    }\n",
       "\n",
       "    .dataframe tbody tr th {\n",
       "        vertical-align: top;\n",
       "    }\n",
       "\n",
       "    .dataframe thead th {\n",
       "        text-align: right;\n",
       "    }\n",
       "</style>\n",
       "<table border=\"1\" class=\"dataframe\">\n",
       "  <thead>\n",
       "    <tr style=\"text-align: right;\">\n",
       "      <th></th>\n",
       "      <th>Season</th>\n",
       "      <th>Game_ID</th>\n",
       "      <th>Game_Date</th>\n",
       "      <th>Away_Team</th>\n",
       "      <th>Home_Team</th>\n",
       "      <th>Total_Viewers</th>\n",
       "      <th>day_of_week</th>\n",
       "      <th>month</th>\n",
       "      <th>Country</th>\n",
       "    </tr>\n",
       "  </thead>\n",
       "  <tbody>\n",
       "    <tr>\n",
       "      <th>0</th>\n",
       "      <td>2016-17</td>\n",
       "      <td>21600010</td>\n",
       "      <td>2016-10-26</td>\n",
       "      <td>DEN</td>\n",
       "      <td>NOP</td>\n",
       "      <td>350.055154</td>\n",
       "      <td>Wednesday</td>\n",
       "      <td>10</td>\n",
       "      <td>C75</td>\n",
       "    </tr>\n",
       "    <tr>\n",
       "      <th>1</th>\n",
       "      <td>2016-17</td>\n",
       "      <td>21600010</td>\n",
       "      <td>2016-10-26</td>\n",
       "      <td>DEN</td>\n",
       "      <td>NOP</td>\n",
       "      <td>141.286416</td>\n",
       "      <td>Wednesday</td>\n",
       "      <td>10</td>\n",
       "      <td>C117</td>\n",
       "    </tr>\n",
       "    <tr>\n",
       "      <th>2</th>\n",
       "      <td>2016-17</td>\n",
       "      <td>21600010</td>\n",
       "      <td>2016-10-26</td>\n",
       "      <td>DEN</td>\n",
       "      <td>NOP</td>\n",
       "      <td>188.538805</td>\n",
       "      <td>Wednesday</td>\n",
       "      <td>10</td>\n",
       "      <td>C211</td>\n",
       "    </tr>\n",
       "    <tr>\n",
       "      <th>3</th>\n",
       "      <td>2016-17</td>\n",
       "      <td>21600010</td>\n",
       "      <td>2016-10-26</td>\n",
       "      <td>DEN</td>\n",
       "      <td>NOP</td>\n",
       "      <td>74.394198</td>\n",
       "      <td>Wednesday</td>\n",
       "      <td>10</td>\n",
       "      <td>C77</td>\n",
       "    </tr>\n",
       "    <tr>\n",
       "      <th>4</th>\n",
       "      <td>2016-17</td>\n",
       "      <td>21600010</td>\n",
       "      <td>2016-10-26</td>\n",
       "      <td>DEN</td>\n",
       "      <td>NOP</td>\n",
       "      <td>103.896034</td>\n",
       "      <td>Wednesday</td>\n",
       "      <td>10</td>\n",
       "      <td>C80</td>\n",
       "    </tr>\n",
       "  </tbody>\n",
       "</table>\n",
       "</div>"
      ],
      "text/plain": [
       "    Season   Game_ID  Game_Date Away_Team Home_Team  Total_Viewers  \\\n",
       "0  2016-17  21600010 2016-10-26       DEN       NOP     350.055154   \n",
       "1  2016-17  21600010 2016-10-26       DEN       NOP     141.286416   \n",
       "2  2016-17  21600010 2016-10-26       DEN       NOP     188.538805   \n",
       "3  2016-17  21600010 2016-10-26       DEN       NOP      74.394198   \n",
       "4  2016-17  21600010 2016-10-26       DEN       NOP     103.896034   \n",
       "\n",
       "  day_of_week  month Country  \n",
       "0   Wednesday     10     C75  \n",
       "1   Wednesday     10    C117  \n",
       "2   Wednesday     10    C211  \n",
       "3   Wednesday     10     C77  \n",
       "4   Wednesday     10     C80  "
      ]
     },
     "execution_count": 438,
     "metadata": {},
     "output_type": "execute_result"
    }
   ],
   "source": [
    "test.head()"
   ]
  },
  {
   "cell_type": "code",
   "execution_count": null,
   "metadata": {
    "collapsed": true
   },
   "outputs": [],
   "source": [
    "# aggregate over country"
   ]
  },
  {
   "cell_type": "code",
   "execution_count": 441,
   "metadata": {
    "collapsed": true
   },
   "outputs": [],
   "source": [
    "submission=test.drop(columns=['month','Country','day_of_week'])"
   ]
  },
  {
   "cell_type": "code",
   "execution_count": 444,
   "metadata": {
    "collapsed": true
   },
   "outputs": [],
   "source": [
    "submission=submission.groupby(by=['Season','Game_Date','Game_ID','Away_Team','Home_Team']).sum()"
   ]
  },
  {
   "cell_type": "code",
   "execution_count": 448,
   "metadata": {
    "collapsed": true
   },
   "outputs": [],
   "source": [
    "submission.reset_index(inplace=True)"
   ]
  },
  {
   "cell_type": "code",
   "execution_count": 453,
   "metadata": {
    "collapsed": true
   },
   "outputs": [],
   "source": [
    "submission['Total_Viewers']=submission['Total_Viewers'].round(0)"
   ]
  },
  {
   "cell_type": "code",
   "execution_count": 454,
   "metadata": {},
   "outputs": [
    {
     "data": {
      "text/html": [
       "<div>\n",
       "<style scoped>\n",
       "    .dataframe tbody tr th:only-of-type {\n",
       "        vertical-align: middle;\n",
       "    }\n",
       "\n",
       "    .dataframe tbody tr th {\n",
       "        vertical-align: top;\n",
       "    }\n",
       "\n",
       "    .dataframe thead th {\n",
       "        text-align: right;\n",
       "    }\n",
       "</style>\n",
       "<table border=\"1\" class=\"dataframe\">\n",
       "  <thead>\n",
       "    <tr style=\"text-align: right;\">\n",
       "      <th></th>\n",
       "      <th>Season</th>\n",
       "      <th>Game_Date</th>\n",
       "      <th>Game_ID</th>\n",
       "      <th>Away_Team</th>\n",
       "      <th>Home_Team</th>\n",
       "      <th>Total_Viewers</th>\n",
       "    </tr>\n",
       "  </thead>\n",
       "  <tbody>\n",
       "    <tr>\n",
       "      <th>0</th>\n",
       "      <td>2016-17</td>\n",
       "      <td>2016-10-26</td>\n",
       "      <td>21600010</td>\n",
       "      <td>DEN</td>\n",
       "      <td>NOP</td>\n",
       "      <td>18875.0</td>\n",
       "    </tr>\n",
       "    <tr>\n",
       "      <th>1</th>\n",
       "      <td>2016-17</td>\n",
       "      <td>2016-10-28</td>\n",
       "      <td>21600023</td>\n",
       "      <td>HOU</td>\n",
       "      <td>DAL</td>\n",
       "      <td>26079.0</td>\n",
       "    </tr>\n",
       "    <tr>\n",
       "      <th>2</th>\n",
       "      <td>2016-17</td>\n",
       "      <td>2016-10-29</td>\n",
       "      <td>21600026</td>\n",
       "      <td>ATL</td>\n",
       "      <td>PHI</td>\n",
       "      <td>27130.0</td>\n",
       "    </tr>\n",
       "    <tr>\n",
       "      <th>3</th>\n",
       "      <td>2016-17</td>\n",
       "      <td>2016-10-29</td>\n",
       "      <td>21600027</td>\n",
       "      <td>BOS</td>\n",
       "      <td>CHA</td>\n",
       "      <td>35885.0</td>\n",
       "    </tr>\n",
       "    <tr>\n",
       "      <th>4</th>\n",
       "      <td>2016-17</td>\n",
       "      <td>2016-11-01</td>\n",
       "      <td>21600048</td>\n",
       "      <td>LAL</td>\n",
       "      <td>IND</td>\n",
       "      <td>21443.0</td>\n",
       "    </tr>\n",
       "  </tbody>\n",
       "</table>\n",
       "</div>"
      ],
      "text/plain": [
       "    Season  Game_Date   Game_ID Away_Team Home_Team  Total_Viewers\n",
       "0  2016-17 2016-10-26  21600010       DEN       NOP        18875.0\n",
       "1  2016-17 2016-10-28  21600023       HOU       DAL        26079.0\n",
       "2  2016-17 2016-10-29  21600026       ATL       PHI        27130.0\n",
       "3  2016-17 2016-10-29  21600027       BOS       CHA        35885.0\n",
       "4  2016-17 2016-11-01  21600048       LAL       IND        21443.0"
      ]
     },
     "execution_count": 454,
     "metadata": {},
     "output_type": "execute_result"
    }
   ],
   "source": [
    "submission.head()"
   ]
  },
  {
   "cell_type": "code",
   "execution_count": 455,
   "metadata": {
    "collapsed": true
   },
   "outputs": [],
   "source": [
    "submission.to_csv(\"submission.csv\",index=False)"
   ]
  }
 ],
 "metadata": {
  "kernelspec": {
   "display_name": "Python 3",
   "language": "python",
   "name": "python3"
  },
  "language_info": {
   "codemirror_mode": {
    "name": "ipython",
    "version": 3
   },
   "file_extension": ".py",
   "mimetype": "text/x-python",
   "name": "python",
   "nbconvert_exporter": "python",
   "pygments_lexer": "ipython3",
   "version": "3.6.1"
  }
 },
 "nbformat": 4,
 "nbformat_minor": 2
}

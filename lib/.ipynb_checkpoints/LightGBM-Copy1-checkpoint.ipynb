{
 "cells": [
  {
   "cell_type": "code",
   "execution_count": 2,
   "metadata": {
    "collapsed": true
   },
   "outputs": [],
   "source": [
    "import gc\n",
    "import pandas as pd \n",
    "import numpy as np\n",
    "import glob\n",
    "import matplotlib.pyplot as plt\n",
    "from sklearn.preprocessing import LabelEncoder\n",
    "from tqdm import tqdm"
   ]
  },
  {
   "cell_type": "code",
   "execution_count": 3,
   "metadata": {
    "collapsed": true
   },
   "outputs": [],
   "source": [
    "train_data=pd.read_csv(\"../data/BusinessTrack/RAW_training_set.csv\")\n",
    "test_data=pd.read_csv(\"../data/BusinessTrack/RAW_test_set.csv\")\n",
    "player_data=pd.read_csv(\"../data/BusinessTrack/RAW_player_data.csv\")\n",
    "game_data=pd.read_csv(\"../data/BusinessTrack/RAW_game_data.csv\")"
   ]
  },
  {
   "cell_type": "code",
   "execution_count": 4,
   "metadata": {},
   "outputs": [
    {
     "name": "stderr",
     "output_type": "stream",
     "text": [
      "C:\\Wesley_Tao\\6.Software\\Anaconda\\lib\\site-packages\\IPython\\core\\interactiveshell.py:2717: DtypeWarning: Columns (9) have mixed types. Specify dtype option on import or set low_memory=False.\n",
      "  interactivity=interactivity, compiler=compiler, result=result)\n"
     ]
    }
   ],
   "source": [
    "train_by=pd.read_csv(\"../data/BusinessTrack/training_with_br_reference v5.csv\")"
   ]
  },
  {
   "cell_type": "code",
   "execution_count": 5,
   "metadata": {
    "collapsed": true
   },
   "outputs": [],
   "source": [
    "test_by =pd.read_csv(\"../data/BusinessTrack/test_set_all_variables v2.csv\")"
   ]
  },
  {
   "cell_type": "markdown",
   "metadata": {},
   "source": [
    "# Feature Extraction"
   ]
  },
  {
   "cell_type": "markdown",
   "metadata": {},
   "source": [
    "# 0 power rankning"
   ]
  },
  {
   "cell_type": "code",
   "execution_count": 6,
   "metadata": {
    "collapsed": true
   },
   "outputs": [],
   "source": [
    "train_power=train_by[['Game_ID','Country','Away_PR','Home_PR','Avg_PR']]\n",
    "test_power=test_by[['Game_ID','Away_PR','Home_PR','Avg_PR']]"
   ]
  },
  {
   "cell_type": "code",
   "execution_count": 7,
   "metadata": {},
   "outputs": [],
   "source": [
    "train_data=pd.merge(train_data,train_power,left_on=['Game_ID','Country'],right_on=['Game_ID','Country'])"
   ]
  },
  {
   "cell_type": "code",
   "execution_count": 8,
   "metadata": {
    "collapsed": true
   },
   "outputs": [],
   "source": [
    "train_data['Away_PR_2']=np.power(train_data['Away_PR'],2)\n",
    "train_data['Home_PR_2']=np.power(train_data['Home_PR'],2)\n",
    "train_data['Avg_PR_2']=np.power(train_data['Avg_PR'],2)"
   ]
  },
  {
   "cell_type": "code",
   "execution_count": 9,
   "metadata": {},
   "outputs": [],
   "source": [
    "test_data=pd.merge(test_data,test_power,on=['Game_ID'])\n",
    "test_data['Away_PR_2']=np.power(test_data['Away_PR'],2)\n",
    "test_data['Home_PR_2']=np.power(test_data['Home_PR'],2)\n",
    "test_data['Avg_PR_2']=np.power(test_data['Avg_PR'],2)"
   ]
  },
  {
   "cell_type": "markdown",
   "metadata": {},
   "source": [
    "## 1 All star number\n",
    "We believe the number of all star players will play a important role in views prediction  \n",
    "The intuition is if a team has more popular team players, people are more likely to watch that game"
   ]
  },
  {
   "cell_type": "code",
   "execution_count": 10,
   "metadata": {
    "collapsed": true
   },
   "outputs": [],
   "source": [
    "all_start_id = player_data['ASG_Team']!='None'\n",
    "all_star = player_data.loc[all_start_id,['Team','Name']].sort_values(by='Team').reset_index(drop=True)\n",
    "all_star = all_star.drop_duplicates().reset_index(drop=True)\n",
    "all_star_number = all_star.groupby(\"Team\").count().reset_index()\n",
    "all_star_number.columns = ['Team','Count_ASG']\n",
    "patch = pd.DataFrame()\n",
    "patch['Team']=list(set(train_data['Away_Team'])-set(all_star_number['Team']))\n",
    "patch['Count_ASG']=0\n",
    "all_star_number=pd.concat([all_star_number,patch],axis=0).reset_index(drop=True)"
   ]
  },
  {
   "cell_type": "code",
   "execution_count": 11,
   "metadata": {},
   "outputs": [
    {
     "data": {
      "text/html": [
       "<div>\n",
       "<style scoped>\n",
       "    .dataframe tbody tr th:only-of-type {\n",
       "        vertical-align: middle;\n",
       "    }\n",
       "\n",
       "    .dataframe tbody tr th {\n",
       "        vertical-align: top;\n",
       "    }\n",
       "\n",
       "    .dataframe thead th {\n",
       "        text-align: right;\n",
       "    }\n",
       "</style>\n",
       "<table border=\"1\" class=\"dataframe\">\n",
       "  <thead>\n",
       "    <tr style=\"text-align: right;\">\n",
       "      <th></th>\n",
       "      <th>Team</th>\n",
       "      <th>Count_ASG</th>\n",
       "    </tr>\n",
       "  </thead>\n",
       "  <tbody>\n",
       "    <tr>\n",
       "      <th>0</th>\n",
       "      <td>ATL</td>\n",
       "      <td>1</td>\n",
       "    </tr>\n",
       "    <tr>\n",
       "      <th>1</th>\n",
       "      <td>BOS</td>\n",
       "      <td>3</td>\n",
       "    </tr>\n",
       "    <tr>\n",
       "      <th>2</th>\n",
       "      <td>CHA</td>\n",
       "      <td>1</td>\n",
       "    </tr>\n",
       "    <tr>\n",
       "      <th>3</th>\n",
       "      <td>CHI</td>\n",
       "      <td>1</td>\n",
       "    </tr>\n",
       "    <tr>\n",
       "      <th>4</th>\n",
       "      <td>CLE</td>\n",
       "      <td>3</td>\n",
       "    </tr>\n",
       "  </tbody>\n",
       "</table>\n",
       "</div>"
      ],
      "text/plain": [
       "  Team  Count_ASG\n",
       "0  ATL          1\n",
       "1  BOS          3\n",
       "2  CHA          1\n",
       "3  CHI          1\n",
       "4  CLE          3"
      ]
     },
     "execution_count": 11,
     "metadata": {},
     "output_type": "execute_result"
    }
   ],
   "source": [
    "all_star_number.head()"
   ]
  },
  {
   "cell_type": "code",
   "execution_count": 12,
   "metadata": {},
   "outputs": [
    {
     "data": {
      "text/html": [
       "<div>\n",
       "<style scoped>\n",
       "    .dataframe tbody tr th:only-of-type {\n",
       "        vertical-align: middle;\n",
       "    }\n",
       "\n",
       "    .dataframe tbody tr th {\n",
       "        vertical-align: top;\n",
       "    }\n",
       "\n",
       "    .dataframe thead th {\n",
       "        text-align: right;\n",
       "    }\n",
       "</style>\n",
       "<table border=\"1\" class=\"dataframe\">\n",
       "  <thead>\n",
       "    <tr style=\"text-align: right;\">\n",
       "      <th></th>\n",
       "      <th>Season</th>\n",
       "      <th>Game_ID</th>\n",
       "      <th>Game_Date</th>\n",
       "      <th>Away_Team</th>\n",
       "      <th>Home_Team</th>\n",
       "      <th>Country</th>\n",
       "      <th>Rounded Viewers</th>\n",
       "      <th>Away_PR</th>\n",
       "      <th>Home_PR</th>\n",
       "      <th>Avg_PR</th>\n",
       "      <th>Away_PR_2</th>\n",
       "      <th>Home_PR_2</th>\n",
       "      <th>Avg_PR_2</th>\n",
       "    </tr>\n",
       "  </thead>\n",
       "  <tbody>\n",
       "    <tr>\n",
       "      <th>0</th>\n",
       "      <td>2016-17</td>\n",
       "      <td>21600001</td>\n",
       "      <td>10/25/2016</td>\n",
       "      <td>NYK</td>\n",
       "      <td>CLE</td>\n",
       "      <td>C113</td>\n",
       "      <td>18</td>\n",
       "      <td>21.0</td>\n",
       "      <td>1.0</td>\n",
       "      <td>11.0</td>\n",
       "      <td>441.0</td>\n",
       "      <td>1.0</td>\n",
       "      <td>121.0</td>\n",
       "    </tr>\n",
       "    <tr>\n",
       "      <th>1</th>\n",
       "      <td>2016-17</td>\n",
       "      <td>21600001</td>\n",
       "      <td>10/25/2016</td>\n",
       "      <td>NYK</td>\n",
       "      <td>CLE</td>\n",
       "      <td>C193</td>\n",
       "      <td>1</td>\n",
       "      <td>21.0</td>\n",
       "      <td>1.0</td>\n",
       "      <td>11.0</td>\n",
       "      <td>441.0</td>\n",
       "      <td>1.0</td>\n",
       "      <td>121.0</td>\n",
       "    </tr>\n",
       "    <tr>\n",
       "      <th>2</th>\n",
       "      <td>2016-17</td>\n",
       "      <td>21600001</td>\n",
       "      <td>10/25/2016</td>\n",
       "      <td>NYK</td>\n",
       "      <td>CLE</td>\n",
       "      <td>C126</td>\n",
       "      <td>4</td>\n",
       "      <td>21.0</td>\n",
       "      <td>1.0</td>\n",
       "      <td>11.0</td>\n",
       "      <td>441.0</td>\n",
       "      <td>1.0</td>\n",
       "      <td>121.0</td>\n",
       "    </tr>\n",
       "    <tr>\n",
       "      <th>3</th>\n",
       "      <td>2016-17</td>\n",
       "      <td>21600001</td>\n",
       "      <td>10/25/2016</td>\n",
       "      <td>NYK</td>\n",
       "      <td>CLE</td>\n",
       "      <td>C163</td>\n",
       "      <td>11</td>\n",
       "      <td>21.0</td>\n",
       "      <td>1.0</td>\n",
       "      <td>11.0</td>\n",
       "      <td>441.0</td>\n",
       "      <td>1.0</td>\n",
       "      <td>121.0</td>\n",
       "    </tr>\n",
       "    <tr>\n",
       "      <th>4</th>\n",
       "      <td>2016-17</td>\n",
       "      <td>21600001</td>\n",
       "      <td>10/25/2016</td>\n",
       "      <td>NYK</td>\n",
       "      <td>CLE</td>\n",
       "      <td>C73</td>\n",
       "      <td>3</td>\n",
       "      <td>21.0</td>\n",
       "      <td>1.0</td>\n",
       "      <td>11.0</td>\n",
       "      <td>441.0</td>\n",
       "      <td>1.0</td>\n",
       "      <td>121.0</td>\n",
       "    </tr>\n",
       "  </tbody>\n",
       "</table>\n",
       "</div>"
      ],
      "text/plain": [
       "    Season   Game_ID   Game_Date Away_Team Home_Team Country  Rounded Viewers  \\\n",
       "0  2016-17  21600001  10/25/2016       NYK       CLE    C113               18   \n",
       "1  2016-17  21600001  10/25/2016       NYK       CLE    C193                1   \n",
       "2  2016-17  21600001  10/25/2016       NYK       CLE    C126                4   \n",
       "3  2016-17  21600001  10/25/2016       NYK       CLE    C163               11   \n",
       "4  2016-17  21600001  10/25/2016       NYK       CLE     C73                3   \n",
       "\n",
       "   Away_PR  Home_PR  Avg_PR  Away_PR_2  Home_PR_2  Avg_PR_2  \n",
       "0     21.0      1.0    11.0      441.0        1.0     121.0  \n",
       "1     21.0      1.0    11.0      441.0        1.0     121.0  \n",
       "2     21.0      1.0    11.0      441.0        1.0     121.0  \n",
       "3     21.0      1.0    11.0      441.0        1.0     121.0  \n",
       "4     21.0      1.0    11.0      441.0        1.0     121.0  "
      ]
     },
     "execution_count": 12,
     "metadata": {},
     "output_type": "execute_result"
    }
   ],
   "source": [
    "train_data.head()"
   ]
  },
  {
   "cell_type": "code",
   "execution_count": 14,
   "metadata": {},
   "outputs": [],
   "source": [
    "# pd.merge(train_data,all_star_number,how='outer',left_on='Away_Team',right_on='Team')"
   ]
  },
  {
   "cell_type": "code",
   "execution_count": 15,
   "metadata": {
    "collapsed": true
   },
   "outputs": [],
   "source": [
    "train_data=pd.merge(train_data,all_star_number,how='outer',left_on='Away_Team',right_on='Team')\n",
    "train_data=train_data.drop(columns=['Team']).rename(mapper={\"Count_ASG\":\"Away_Count_ASG\"},axis='columns')"
   ]
  },
  {
   "cell_type": "code",
   "execution_count": 17,
   "metadata": {},
   "outputs": [],
   "source": [
    "# train_data.head()"
   ]
  },
  {
   "cell_type": "code",
   "execution_count": 18,
   "metadata": {
    "collapsed": true
   },
   "outputs": [],
   "source": [
    "train_data=pd.merge(train_data,all_star_number,how='outer',left_on='Home_Team',right_on='Team')\n",
    "train_data=train_data.drop(columns=['Team']).rename(mapper={\"Count_ASG\":\"Home_Count_ASG\"},axis='columns')"
   ]
  },
  {
   "cell_type": "code",
   "execution_count": 19,
   "metadata": {
    "collapsed": true
   },
   "outputs": [],
   "source": [
    "test_data=pd.merge(test_data,all_star_number,how='outer',left_on='Away_Team',right_on='Team')\n",
    "test_data=test_data.drop(columns=['Team']).rename(mapper={\"Count_ASG\":\"Away_Count_ASG\"},axis='columns')\n",
    "test_data=pd.merge(test_data,all_star_number,how='outer',left_on='Home_Team',right_on='Team')\n",
    "test_data=test_data.drop(columns=['Team']).rename(mapper={\"Count_ASG\":\"Home_Count_ASG\"},axis='columns')"
   ]
  },
  {
   "cell_type": "code",
   "execution_count": 21,
   "metadata": {},
   "outputs": [],
   "source": [
    "# train_data.head()"
   ]
  },
  {
   "cell_type": "markdown",
   "metadata": {},
   "source": [
    "## 2.Date\n",
    "we believe weekday or month will influence the future trend."
   ]
  },
  {
   "cell_type": "code",
   "execution_count": 22,
   "metadata": {},
   "outputs": [],
   "source": [
    "train_data['Game_Date']=pd.to_datetime(train_data['Game_Date'])\n",
    "train_data['day_of_week']=train_data['Game_Date'].dt.weekday_name\n",
    "train_data['month']=train_data['Game_Date'].dt.month\n",
    "test_data['Game_Date']=pd.to_datetime(test_data['Game_Date'])\n",
    "test_data['day_of_week']=test_data['Game_Date'].dt.weekday_name\n",
    "test_data['month']=test_data['Game_Date'].dt.month\n",
    "train_data.to_csv(\"../output/train.csv\",index=False)\n",
    "test_data.to_csv(\"../output/test.csv\",index=False)"
   ]
  },
  {
   "cell_type": "code",
   "execution_count": 51,
   "metadata": {
    "collapsed": true
   },
   "outputs": [],
   "source": [
    "train_data=pd.read_csv(\"../output/train.csv\")\n",
    "test_data=pd.read_csv(\"../output/test.csv\")"
   ]
  },
  {
   "cell_type": "code",
   "execution_count": 52,
   "metadata": {},
   "outputs": [
    {
     "data": {
      "text/html": [
       "<div>\n",
       "<style scoped>\n",
       "    .dataframe tbody tr th:only-of-type {\n",
       "        vertical-align: middle;\n",
       "    }\n",
       "\n",
       "    .dataframe tbody tr th {\n",
       "        vertical-align: top;\n",
       "    }\n",
       "\n",
       "    .dataframe thead th {\n",
       "        text-align: right;\n",
       "    }\n",
       "</style>\n",
       "<table border=\"1\" class=\"dataframe\">\n",
       "  <thead>\n",
       "    <tr style=\"text-align: right;\">\n",
       "      <th></th>\n",
       "      <th>Season</th>\n",
       "      <th>Game_ID</th>\n",
       "      <th>Game_Date</th>\n",
       "      <th>Away_Team</th>\n",
       "      <th>Home_Team</th>\n",
       "      <th>Country</th>\n",
       "      <th>Rounded Viewers</th>\n",
       "      <th>Away_PR</th>\n",
       "      <th>Home_PR</th>\n",
       "      <th>Avg_PR</th>\n",
       "      <th>Away_PR_2</th>\n",
       "      <th>Home_PR_2</th>\n",
       "      <th>Avg_PR_2</th>\n",
       "      <th>Away_Count_ASG</th>\n",
       "      <th>Home_Count_ASG</th>\n",
       "      <th>day_of_week</th>\n",
       "      <th>month</th>\n",
       "    </tr>\n",
       "  </thead>\n",
       "  <tbody>\n",
       "    <tr>\n",
       "      <th>0</th>\n",
       "      <td>2016-17</td>\n",
       "      <td>21600001</td>\n",
       "      <td>2016-10-25</td>\n",
       "      <td>NYK</td>\n",
       "      <td>CLE</td>\n",
       "      <td>C113</td>\n",
       "      <td>18</td>\n",
       "      <td>21.0</td>\n",
       "      <td>1.0</td>\n",
       "      <td>11.0</td>\n",
       "      <td>441.0</td>\n",
       "      <td>1.0</td>\n",
       "      <td>121.0</td>\n",
       "      <td>2</td>\n",
       "      <td>3</td>\n",
       "      <td>Tuesday</td>\n",
       "      <td>10</td>\n",
       "    </tr>\n",
       "    <tr>\n",
       "      <th>1</th>\n",
       "      <td>2016-17</td>\n",
       "      <td>21600001</td>\n",
       "      <td>2016-10-25</td>\n",
       "      <td>NYK</td>\n",
       "      <td>CLE</td>\n",
       "      <td>C193</td>\n",
       "      <td>1</td>\n",
       "      <td>21.0</td>\n",
       "      <td>1.0</td>\n",
       "      <td>11.0</td>\n",
       "      <td>441.0</td>\n",
       "      <td>1.0</td>\n",
       "      <td>121.0</td>\n",
       "      <td>2</td>\n",
       "      <td>3</td>\n",
       "      <td>Tuesday</td>\n",
       "      <td>10</td>\n",
       "    </tr>\n",
       "    <tr>\n",
       "      <th>2</th>\n",
       "      <td>2016-17</td>\n",
       "      <td>21600001</td>\n",
       "      <td>2016-10-25</td>\n",
       "      <td>NYK</td>\n",
       "      <td>CLE</td>\n",
       "      <td>C126</td>\n",
       "      <td>4</td>\n",
       "      <td>21.0</td>\n",
       "      <td>1.0</td>\n",
       "      <td>11.0</td>\n",
       "      <td>441.0</td>\n",
       "      <td>1.0</td>\n",
       "      <td>121.0</td>\n",
       "      <td>2</td>\n",
       "      <td>3</td>\n",
       "      <td>Tuesday</td>\n",
       "      <td>10</td>\n",
       "    </tr>\n",
       "    <tr>\n",
       "      <th>3</th>\n",
       "      <td>2016-17</td>\n",
       "      <td>21600001</td>\n",
       "      <td>2016-10-25</td>\n",
       "      <td>NYK</td>\n",
       "      <td>CLE</td>\n",
       "      <td>C163</td>\n",
       "      <td>11</td>\n",
       "      <td>21.0</td>\n",
       "      <td>1.0</td>\n",
       "      <td>11.0</td>\n",
       "      <td>441.0</td>\n",
       "      <td>1.0</td>\n",
       "      <td>121.0</td>\n",
       "      <td>2</td>\n",
       "      <td>3</td>\n",
       "      <td>Tuesday</td>\n",
       "      <td>10</td>\n",
       "    </tr>\n",
       "    <tr>\n",
       "      <th>4</th>\n",
       "      <td>2016-17</td>\n",
       "      <td>21600001</td>\n",
       "      <td>2016-10-25</td>\n",
       "      <td>NYK</td>\n",
       "      <td>CLE</td>\n",
       "      <td>C73</td>\n",
       "      <td>3</td>\n",
       "      <td>21.0</td>\n",
       "      <td>1.0</td>\n",
       "      <td>11.0</td>\n",
       "      <td>441.0</td>\n",
       "      <td>1.0</td>\n",
       "      <td>121.0</td>\n",
       "      <td>2</td>\n",
       "      <td>3</td>\n",
       "      <td>Tuesday</td>\n",
       "      <td>10</td>\n",
       "    </tr>\n",
       "  </tbody>\n",
       "</table>\n",
       "</div>"
      ],
      "text/plain": [
       "    Season   Game_ID   Game_Date Away_Team Home_Team Country  Rounded Viewers  \\\n",
       "0  2016-17  21600001  2016-10-25       NYK       CLE    C113               18   \n",
       "1  2016-17  21600001  2016-10-25       NYK       CLE    C193                1   \n",
       "2  2016-17  21600001  2016-10-25       NYK       CLE    C126                4   \n",
       "3  2016-17  21600001  2016-10-25       NYK       CLE    C163               11   \n",
       "4  2016-17  21600001  2016-10-25       NYK       CLE     C73                3   \n",
       "\n",
       "   Away_PR  Home_PR  Avg_PR  Away_PR_2  Home_PR_2  Avg_PR_2  Away_Count_ASG  \\\n",
       "0     21.0      1.0    11.0      441.0        1.0     121.0               2   \n",
       "1     21.0      1.0    11.0      441.0        1.0     121.0               2   \n",
       "2     21.0      1.0    11.0      441.0        1.0     121.0               2   \n",
       "3     21.0      1.0    11.0      441.0        1.0     121.0               2   \n",
       "4     21.0      1.0    11.0      441.0        1.0     121.0               2   \n",
       "\n",
       "   Home_Count_ASG day_of_week  month  \n",
       "0               3     Tuesday     10  \n",
       "1               3     Tuesday     10  \n",
       "2               3     Tuesday     10  \n",
       "3               3     Tuesday     10  \n",
       "4               3     Tuesday     10  "
      ]
     },
     "execution_count": 52,
     "metadata": {},
     "output_type": "execute_result"
    }
   ],
   "source": [
    "train_data.head()"
   ]
  },
  {
   "cell_type": "code",
   "execution_count": 64,
   "metadata": {},
   "outputs": [
    {
     "data": {
      "text/html": [
       "<div>\n",
       "<style scoped>\n",
       "    .dataframe tbody tr th:only-of-type {\n",
       "        vertical-align: middle;\n",
       "    }\n",
       "\n",
       "    .dataframe tbody tr th {\n",
       "        vertical-align: top;\n",
       "    }\n",
       "\n",
       "    .dataframe thead th {\n",
       "        text-align: right;\n",
       "    }\n",
       "</style>\n",
       "<table border=\"1\" class=\"dataframe\">\n",
       "  <thead>\n",
       "    <tr style=\"text-align: right;\">\n",
       "      <th></th>\n",
       "      <th>Season</th>\n",
       "      <th>Game_ID</th>\n",
       "      <th>Game_Date</th>\n",
       "      <th>Away_Team</th>\n",
       "      <th>Home_Team</th>\n",
       "      <th>Total_Viewers</th>\n",
       "      <th>Away_PR</th>\n",
       "      <th>Home_PR</th>\n",
       "      <th>Avg_PR</th>\n",
       "      <th>Away_PR_2</th>\n",
       "      <th>Home_PR_2</th>\n",
       "      <th>Avg_PR_2</th>\n",
       "      <th>Away_Count_ASG</th>\n",
       "      <th>Home_Count_ASG</th>\n",
       "      <th>day_of_week</th>\n",
       "      <th>month</th>\n",
       "    </tr>\n",
       "  </thead>\n",
       "  <tbody>\n",
       "    <tr>\n",
       "      <th>0</th>\n",
       "      <td>2016-17</td>\n",
       "      <td>21600010</td>\n",
       "      <td>2016-10-26</td>\n",
       "      <td>DEN</td>\n",
       "      <td>NOP</td>\n",
       "      <td>NaN</td>\n",
       "      <td>24.00</td>\n",
       "      <td>26.00</td>\n",
       "      <td>25.000</td>\n",
       "      <td>576.0000</td>\n",
       "      <td>676.0000</td>\n",
       "      <td>625.000000</td>\n",
       "      <td>0</td>\n",
       "      <td>2</td>\n",
       "      <td>Wednesday</td>\n",
       "      <td>10</td>\n",
       "    </tr>\n",
       "    <tr>\n",
       "      <th>1</th>\n",
       "      <td>2016-17</td>\n",
       "      <td>21601158</td>\n",
       "      <td>2017-04-04</td>\n",
       "      <td>DEN</td>\n",
       "      <td>NOP</td>\n",
       "      <td>NaN</td>\n",
       "      <td>15.25</td>\n",
       "      <td>21.00</td>\n",
       "      <td>18.125</td>\n",
       "      <td>232.5625</td>\n",
       "      <td>441.0000</td>\n",
       "      <td>328.515625</td>\n",
       "      <td>0</td>\n",
       "      <td>2</td>\n",
       "      <td>Tuesday</td>\n",
       "      <td>4</td>\n",
       "    </tr>\n",
       "    <tr>\n",
       "      <th>2</th>\n",
       "      <td>2016-17</td>\n",
       "      <td>21600148</td>\n",
       "      <td>2016-11-14</td>\n",
       "      <td>BOS</td>\n",
       "      <td>NOP</td>\n",
       "      <td>NaN</td>\n",
       "      <td>8.50</td>\n",
       "      <td>27.50</td>\n",
       "      <td>18.000</td>\n",
       "      <td>72.2500</td>\n",
       "      <td>756.2500</td>\n",
       "      <td>324.000000</td>\n",
       "      <td>3</td>\n",
       "      <td>2</td>\n",
       "      <td>Monday</td>\n",
       "      <td>11</td>\n",
       "    </tr>\n",
       "    <tr>\n",
       "      <th>3</th>\n",
       "      <td>2016-17</td>\n",
       "      <td>21600539</td>\n",
       "      <td>2017-01-05</td>\n",
       "      <td>ATL</td>\n",
       "      <td>NOP</td>\n",
       "      <td>NaN</td>\n",
       "      <td>15.00</td>\n",
       "      <td>26.00</td>\n",
       "      <td>20.500</td>\n",
       "      <td>225.0000</td>\n",
       "      <td>676.0000</td>\n",
       "      <td>420.250000</td>\n",
       "      <td>1</td>\n",
       "      <td>2</td>\n",
       "      <td>Thursday</td>\n",
       "      <td>1</td>\n",
       "    </tr>\n",
       "    <tr>\n",
       "      <th>4</th>\n",
       "      <td>2017-18</td>\n",
       "      <td>21700373</td>\n",
       "      <td>2017-12-08</td>\n",
       "      <td>SAC</td>\n",
       "      <td>NOP</td>\n",
       "      <td>NaN</td>\n",
       "      <td>27.25</td>\n",
       "      <td>15.25</td>\n",
       "      <td>21.250</td>\n",
       "      <td>742.5625</td>\n",
       "      <td>232.5625</td>\n",
       "      <td>451.562500</td>\n",
       "      <td>1</td>\n",
       "      <td>2</td>\n",
       "      <td>Friday</td>\n",
       "      <td>12</td>\n",
       "    </tr>\n",
       "  </tbody>\n",
       "</table>\n",
       "</div>"
      ],
      "text/plain": [
       "    Season   Game_ID   Game_Date Away_Team Home_Team  Total_Viewers  Away_PR  \\\n",
       "0  2016-17  21600010  2016-10-26       DEN       NOP            NaN    24.00   \n",
       "1  2016-17  21601158  2017-04-04       DEN       NOP            NaN    15.25   \n",
       "2  2016-17  21600148  2016-11-14       BOS       NOP            NaN     8.50   \n",
       "3  2016-17  21600539  2017-01-05       ATL       NOP            NaN    15.00   \n",
       "4  2017-18  21700373  2017-12-08       SAC       NOP            NaN    27.25   \n",
       "\n",
       "   Home_PR  Avg_PR  Away_PR_2  Home_PR_2    Avg_PR_2  Away_Count_ASG  \\\n",
       "0    26.00  25.000   576.0000   676.0000  625.000000               0   \n",
       "1    21.00  18.125   232.5625   441.0000  328.515625               0   \n",
       "2    27.50  18.000    72.2500   756.2500  324.000000               3   \n",
       "3    26.00  20.500   225.0000   676.0000  420.250000               1   \n",
       "4    15.25  21.250   742.5625   232.5625  451.562500               1   \n",
       "\n",
       "   Home_Count_ASG day_of_week  month  \n",
       "0               2   Wednesday     10  \n",
       "1               2     Tuesday      4  \n",
       "2               2      Monday     11  \n",
       "3               2    Thursday      1  \n",
       "4               2      Friday     12  "
      ]
     },
     "execution_count": 64,
     "metadata": {},
     "output_type": "execute_result"
    }
   ],
   "source": [
    "test_data.head()"
   ]
  },
  {
   "cell_type": "markdown",
   "metadata": {},
   "source": [
    "## 3.country"
   ]
  },
  {
   "cell_type": "code",
   "execution_count": 54,
   "metadata": {},
   "outputs": [
    {
     "name": "stdout",
     "output_type": "stream",
     "text": [
      "there are 228 countries.\n"
     ]
    }
   ],
   "source": [
    "print(\"there are {} countries.\".format(len(np.unique(train_data['Country']))))"
   ]
  },
  {
   "cell_type": "code",
   "execution_count": 28,
   "metadata": {},
   "outputs": [],
   "source": [
    "# view_table=pd.pivot_table(train_data,values='Rounded Viewers',index='Country',aggfunc=np.sum)\n",
    "# view_table=view_table.sort_values(by=['Rounded Viewers'],ascending=False)\n",
    "# label=view_table.index[0:30]\n",
    "# value=view_table.values[0:30]\n",
    "# index=np.arange(len(label))\n",
    "# plt.bar(index,value)\n",
    "# plt.xticks(index,label,rotation=90)\n",
    "# plt.title(\"view count by contry\")\n",
    "# plt.show()"
   ]
  },
  {
   "cell_type": "code",
   "execution_count": null,
   "metadata": {
    "collapsed": true
   },
   "outputs": [],
   "source": [
    "# choose top 50 and put all other into 'others' catogory"
   ]
  },
  {
   "cell_type": "code",
   "execution_count": 55,
   "metadata": {
    "collapsed": true
   },
   "outputs": [],
   "source": [
    "top_50_country=view_table.index[0:50]\n",
    "top_50_idx    =list(map(lambda thiscountry: True if thiscountry in top_50_country else False, train_data['Country']))\n",
    "not_top_50_idx=[not idx  for idx in top_50_idx]"
   ]
  },
  {
   "cell_type": "code",
   "execution_count": 31,
   "metadata": {},
   "outputs": [],
   "source": [
    "# print (\"top 50 country shape\",train_data[top_50_idx].shape)\n",
    "# print(\"reset shape \",train_data[not_top_50_idx].shape) reset shape  (180637, 11)\n",
    "# print(\"total data shape\",train_data.shape) total data shape (280625, 11)"
   ]
  },
  {
   "cell_type": "code",
   "execution_count": 114,
   "metadata": {
    "collapsed": true
   },
   "outputs": [],
   "source": [
    "train_data_half_50  = train_data[top_50_idx].copy()\n",
    "train_data_half_other = train_data[not_top_50_idx].copy()"
   ]
  },
  {
   "cell_type": "code",
   "execution_count": 115,
   "metadata": {},
   "outputs": [
    {
     "data": {
      "text/html": [
       "<div>\n",
       "<style scoped>\n",
       "    .dataframe tbody tr th:only-of-type {\n",
       "        vertical-align: middle;\n",
       "    }\n",
       "\n",
       "    .dataframe tbody tr th {\n",
       "        vertical-align: top;\n",
       "    }\n",
       "\n",
       "    .dataframe thead th {\n",
       "        text-align: right;\n",
       "    }\n",
       "</style>\n",
       "<table border=\"1\" class=\"dataframe\">\n",
       "  <thead>\n",
       "    <tr style=\"text-align: right;\">\n",
       "      <th></th>\n",
       "      <th>Season</th>\n",
       "      <th>Game_ID</th>\n",
       "      <th>Game_Date</th>\n",
       "      <th>Away_Team</th>\n",
       "      <th>Home_Team</th>\n",
       "      <th>Country</th>\n",
       "      <th>Rounded Viewers</th>\n",
       "      <th>Away_PR</th>\n",
       "      <th>Home_PR</th>\n",
       "      <th>Avg_PR</th>\n",
       "      <th>Away_PR_2</th>\n",
       "      <th>Home_PR_2</th>\n",
       "      <th>Avg_PR_2</th>\n",
       "      <th>Away_Count_ASG</th>\n",
       "      <th>Home_Count_ASG</th>\n",
       "      <th>day_of_week</th>\n",
       "      <th>month</th>\n",
       "    </tr>\n",
       "  </thead>\n",
       "  <tbody>\n",
       "    <tr>\n",
       "      <th>0</th>\n",
       "      <td>2016-17</td>\n",
       "      <td>21600001</td>\n",
       "      <td>2016-10-25</td>\n",
       "      <td>NYK</td>\n",
       "      <td>CLE</td>\n",
       "      <td>C113</td>\n",
       "      <td>18</td>\n",
       "      <td>21.0</td>\n",
       "      <td>1.0</td>\n",
       "      <td>11.0</td>\n",
       "      <td>441.0</td>\n",
       "      <td>1.0</td>\n",
       "      <td>121.0</td>\n",
       "      <td>2</td>\n",
       "      <td>3</td>\n",
       "      <td>Tuesday</td>\n",
       "      <td>10</td>\n",
       "    </tr>\n",
       "    <tr>\n",
       "      <th>1</th>\n",
       "      <td>2016-17</td>\n",
       "      <td>21600001</td>\n",
       "      <td>2016-10-25</td>\n",
       "      <td>NYK</td>\n",
       "      <td>CLE</td>\n",
       "      <td>C193</td>\n",
       "      <td>1</td>\n",
       "      <td>21.0</td>\n",
       "      <td>1.0</td>\n",
       "      <td>11.0</td>\n",
       "      <td>441.0</td>\n",
       "      <td>1.0</td>\n",
       "      <td>121.0</td>\n",
       "      <td>2</td>\n",
       "      <td>3</td>\n",
       "      <td>Tuesday</td>\n",
       "      <td>10</td>\n",
       "    </tr>\n",
       "    <tr>\n",
       "      <th>2</th>\n",
       "      <td>2016-17</td>\n",
       "      <td>21600001</td>\n",
       "      <td>2016-10-25</td>\n",
       "      <td>NYK</td>\n",
       "      <td>CLE</td>\n",
       "      <td>C126</td>\n",
       "      <td>4</td>\n",
       "      <td>21.0</td>\n",
       "      <td>1.0</td>\n",
       "      <td>11.0</td>\n",
       "      <td>441.0</td>\n",
       "      <td>1.0</td>\n",
       "      <td>121.0</td>\n",
       "      <td>2</td>\n",
       "      <td>3</td>\n",
       "      <td>Tuesday</td>\n",
       "      <td>10</td>\n",
       "    </tr>\n",
       "    <tr>\n",
       "      <th>3</th>\n",
       "      <td>2016-17</td>\n",
       "      <td>21600001</td>\n",
       "      <td>2016-10-25</td>\n",
       "      <td>NYK</td>\n",
       "      <td>CLE</td>\n",
       "      <td>C163</td>\n",
       "      <td>11</td>\n",
       "      <td>21.0</td>\n",
       "      <td>1.0</td>\n",
       "      <td>11.0</td>\n",
       "      <td>441.0</td>\n",
       "      <td>1.0</td>\n",
       "      <td>121.0</td>\n",
       "      <td>2</td>\n",
       "      <td>3</td>\n",
       "      <td>Tuesday</td>\n",
       "      <td>10</td>\n",
       "    </tr>\n",
       "    <tr>\n",
       "      <th>4</th>\n",
       "      <td>2016-17</td>\n",
       "      <td>21600001</td>\n",
       "      <td>2016-10-25</td>\n",
       "      <td>NYK</td>\n",
       "      <td>CLE</td>\n",
       "      <td>C73</td>\n",
       "      <td>3</td>\n",
       "      <td>21.0</td>\n",
       "      <td>1.0</td>\n",
       "      <td>11.0</td>\n",
       "      <td>441.0</td>\n",
       "      <td>1.0</td>\n",
       "      <td>121.0</td>\n",
       "      <td>2</td>\n",
       "      <td>3</td>\n",
       "      <td>Tuesday</td>\n",
       "      <td>10</td>\n",
       "    </tr>\n",
       "  </tbody>\n",
       "</table>\n",
       "</div>"
      ],
      "text/plain": [
       "    Season   Game_ID   Game_Date Away_Team Home_Team Country  Rounded Viewers  \\\n",
       "0  2016-17  21600001  2016-10-25       NYK       CLE    C113               18   \n",
       "1  2016-17  21600001  2016-10-25       NYK       CLE    C193                1   \n",
       "2  2016-17  21600001  2016-10-25       NYK       CLE    C126                4   \n",
       "3  2016-17  21600001  2016-10-25       NYK       CLE    C163               11   \n",
       "4  2016-17  21600001  2016-10-25       NYK       CLE     C73                3   \n",
       "\n",
       "   Away_PR  Home_PR  Avg_PR  Away_PR_2  Home_PR_2  Avg_PR_2  Away_Count_ASG  \\\n",
       "0     21.0      1.0    11.0      441.0        1.0     121.0               2   \n",
       "1     21.0      1.0    11.0      441.0        1.0     121.0               2   \n",
       "2     21.0      1.0    11.0      441.0        1.0     121.0               2   \n",
       "3     21.0      1.0    11.0      441.0        1.0     121.0               2   \n",
       "4     21.0      1.0    11.0      441.0        1.0     121.0               2   \n",
       "\n",
       "   Home_Count_ASG day_of_week  month  \n",
       "0               3     Tuesday     10  \n",
       "1               3     Tuesday     10  \n",
       "2               3     Tuesday     10  \n",
       "3               3     Tuesday     10  \n",
       "4               3     Tuesday     10  "
      ]
     },
     "execution_count": 115,
     "metadata": {},
     "output_type": "execute_result"
    }
   ],
   "source": [
    "train_data_half_other.head()"
   ]
  },
  {
   "cell_type": "code",
   "execution_count": 116,
   "metadata": {
    "collapsed": true
   },
   "outputs": [],
   "source": [
    "aggregate_df =train_data_half_other.groupby(['Game_ID']).sum()"
   ]
  },
  {
   "cell_type": "code",
   "execution_count": 117,
   "metadata": {},
   "outputs": [],
   "source": [
    "aggregate_df=aggregate_df[['Rounded Viewers']]\n",
    "aggregate_df.reset_index(inplace=True)"
   ]
  },
  {
   "cell_type": "code",
   "execution_count": 118,
   "metadata": {},
   "outputs": [],
   "source": [
    "aggregate_df['Country']='other'\n",
    "aggregate_df.sort_values(['Game_ID'],inplace=True)"
   ]
  },
  {
   "cell_type": "code",
   "execution_count": 121,
   "metadata": {},
   "outputs": [
    {
     "data": {
      "text/html": [
       "<div>\n",
       "<style scoped>\n",
       "    .dataframe tbody tr th:only-of-type {\n",
       "        vertical-align: middle;\n",
       "    }\n",
       "\n",
       "    .dataframe tbody tr th {\n",
       "        vertical-align: top;\n",
       "    }\n",
       "\n",
       "    .dataframe thead th {\n",
       "        text-align: right;\n",
       "    }\n",
       "</style>\n",
       "<table border=\"1\" class=\"dataframe\">\n",
       "  <thead>\n",
       "    <tr style=\"text-align: right;\">\n",
       "      <th></th>\n",
       "      <th>Season</th>\n",
       "      <th>Game_ID</th>\n",
       "      <th>Game_Date</th>\n",
       "      <th>Away_Team</th>\n",
       "      <th>Home_Team</th>\n",
       "      <th>Country</th>\n",
       "      <th>Rounded Viewers</th>\n",
       "      <th>Away_PR</th>\n",
       "      <th>Home_PR</th>\n",
       "      <th>Avg_PR</th>\n",
       "      <th>Away_PR_2</th>\n",
       "      <th>Home_PR_2</th>\n",
       "      <th>Avg_PR_2</th>\n",
       "      <th>Away_Count_ASG</th>\n",
       "      <th>Home_Count_ASG</th>\n",
       "      <th>day_of_week</th>\n",
       "      <th>month</th>\n",
       "    </tr>\n",
       "  </thead>\n",
       "  <tbody>\n",
       "    <tr>\n",
       "      <th>0</th>\n",
       "      <td>2016-17</td>\n",
       "      <td>21600001</td>\n",
       "      <td>2016-10-25</td>\n",
       "      <td>NYK</td>\n",
       "      <td>CLE</td>\n",
       "      <td>C113</td>\n",
       "      <td>18</td>\n",
       "      <td>21.0</td>\n",
       "      <td>1.0</td>\n",
       "      <td>11.0</td>\n",
       "      <td>441.0</td>\n",
       "      <td>1.0</td>\n",
       "      <td>121.0</td>\n",
       "      <td>2</td>\n",
       "      <td>3</td>\n",
       "      <td>Tuesday</td>\n",
       "      <td>10</td>\n",
       "    </tr>\n",
       "    <tr>\n",
       "      <th>1</th>\n",
       "      <td>2016-17</td>\n",
       "      <td>21600001</td>\n",
       "      <td>2016-10-25</td>\n",
       "      <td>NYK</td>\n",
       "      <td>CLE</td>\n",
       "      <td>C193</td>\n",
       "      <td>1</td>\n",
       "      <td>21.0</td>\n",
       "      <td>1.0</td>\n",
       "      <td>11.0</td>\n",
       "      <td>441.0</td>\n",
       "      <td>1.0</td>\n",
       "      <td>121.0</td>\n",
       "      <td>2</td>\n",
       "      <td>3</td>\n",
       "      <td>Tuesday</td>\n",
       "      <td>10</td>\n",
       "    </tr>\n",
       "    <tr>\n",
       "      <th>2</th>\n",
       "      <td>2016-17</td>\n",
       "      <td>21600001</td>\n",
       "      <td>2016-10-25</td>\n",
       "      <td>NYK</td>\n",
       "      <td>CLE</td>\n",
       "      <td>C126</td>\n",
       "      <td>4</td>\n",
       "      <td>21.0</td>\n",
       "      <td>1.0</td>\n",
       "      <td>11.0</td>\n",
       "      <td>441.0</td>\n",
       "      <td>1.0</td>\n",
       "      <td>121.0</td>\n",
       "      <td>2</td>\n",
       "      <td>3</td>\n",
       "      <td>Tuesday</td>\n",
       "      <td>10</td>\n",
       "    </tr>\n",
       "    <tr>\n",
       "      <th>3</th>\n",
       "      <td>2016-17</td>\n",
       "      <td>21600001</td>\n",
       "      <td>2016-10-25</td>\n",
       "      <td>NYK</td>\n",
       "      <td>CLE</td>\n",
       "      <td>C163</td>\n",
       "      <td>11</td>\n",
       "      <td>21.0</td>\n",
       "      <td>1.0</td>\n",
       "      <td>11.0</td>\n",
       "      <td>441.0</td>\n",
       "      <td>1.0</td>\n",
       "      <td>121.0</td>\n",
       "      <td>2</td>\n",
       "      <td>3</td>\n",
       "      <td>Tuesday</td>\n",
       "      <td>10</td>\n",
       "    </tr>\n",
       "    <tr>\n",
       "      <th>4</th>\n",
       "      <td>2016-17</td>\n",
       "      <td>21600001</td>\n",
       "      <td>2016-10-25</td>\n",
       "      <td>NYK</td>\n",
       "      <td>CLE</td>\n",
       "      <td>C73</td>\n",
       "      <td>3</td>\n",
       "      <td>21.0</td>\n",
       "      <td>1.0</td>\n",
       "      <td>11.0</td>\n",
       "      <td>441.0</td>\n",
       "      <td>1.0</td>\n",
       "      <td>121.0</td>\n",
       "      <td>2</td>\n",
       "      <td>3</td>\n",
       "      <td>Tuesday</td>\n",
       "      <td>10</td>\n",
       "    </tr>\n",
       "  </tbody>\n",
       "</table>\n",
       "</div>"
      ],
      "text/plain": [
       "    Season   Game_ID   Game_Date Away_Team Home_Team Country  Rounded Viewers  \\\n",
       "0  2016-17  21600001  2016-10-25       NYK       CLE    C113               18   \n",
       "1  2016-17  21600001  2016-10-25       NYK       CLE    C193                1   \n",
       "2  2016-17  21600001  2016-10-25       NYK       CLE    C126                4   \n",
       "3  2016-17  21600001  2016-10-25       NYK       CLE    C163               11   \n",
       "4  2016-17  21600001  2016-10-25       NYK       CLE     C73                3   \n",
       "\n",
       "   Away_PR  Home_PR  Avg_PR  Away_PR_2  Home_PR_2  Avg_PR_2  Away_Count_ASG  \\\n",
       "0     21.0      1.0    11.0      441.0        1.0     121.0               2   \n",
       "1     21.0      1.0    11.0      441.0        1.0     121.0               2   \n",
       "2     21.0      1.0    11.0      441.0        1.0     121.0               2   \n",
       "3     21.0      1.0    11.0      441.0        1.0     121.0               2   \n",
       "4     21.0      1.0    11.0      441.0        1.0     121.0               2   \n",
       "\n",
       "   Home_Count_ASG day_of_week  month  \n",
       "0               3     Tuesday     10  \n",
       "1               3     Tuesday     10  \n",
       "2               3     Tuesday     10  \n",
       "3               3     Tuesday     10  \n",
       "4               3     Tuesday     10  "
      ]
     },
     "execution_count": 121,
     "metadata": {},
     "output_type": "execute_result"
    }
   ],
   "source": [
    "train_data_half_other.head()"
   ]
  },
  {
   "cell_type": "code",
   "execution_count": 127,
   "metadata": {},
   "outputs": [],
   "source": [
    "train_data_half_other_info=train_data_half_other.drop(columns=['Country','Rounded Viewers']).drop_duplicates()"
   ]
  },
  {
   "cell_type": "code",
   "execution_count": 129,
   "metadata": {},
   "outputs": [],
   "source": [
    "aggregate_df=aggregate_df.merge(train_data_half_other_info, left_on='Game_ID', right_on='Game_ID', how='outer')"
   ]
  },
  {
   "cell_type": "code",
   "execution_count": 131,
   "metadata": {
    "collapsed": true
   },
   "outputs": [],
   "source": [
    "new_train_data=pd.concat([aggregate_df,top_50_train_data],axis=0)"
   ]
  },
  {
   "cell_type": "code",
   "execution_count": 134,
   "metadata": {
    "collapsed": true
   },
   "outputs": [],
   "source": [
    "country_list=list(set(new_train_data['Country']))"
   ]
  },
  {
   "cell_type": "code",
   "execution_count": 135,
   "metadata": {
    "collapsed": true
   },
   "outputs": [],
   "source": [
    "country_df=pd.DataFrame(country_list,columns=['Country'])\n",
    "# country_df\n",
    "country_df['key'] = 0\n",
    "test_data['key'] = 0\n",
    "new_test=pd.merge(test_data,country_df,on='key')\n",
    "del new_test['key']"
   ]
  },
  {
   "cell_type": "code",
   "execution_count": 39,
   "metadata": {},
   "outputs": [],
   "source": [
    "# new_test.shape[0]==len(country_df)*len(test_data)"
   ]
  },
  {
   "cell_type": "code",
   "execution_count": 136,
   "metadata": {
    "collapsed": true
   },
   "outputs": [],
   "source": [
    "test=new_test\n",
    "train=new_train_data\n",
    "# del new_test\n",
    "# del new_train_data"
   ]
  },
  {
   "cell_type": "code",
   "execution_count": 138,
   "metadata": {},
   "outputs": [
    {
     "data": {
      "text/plain": [
       "272"
      ]
     },
     "execution_count": 138,
     "metadata": {},
     "output_type": "execute_result"
    }
   ],
   "source": [
    "gc.collect()"
   ]
  },
  {
   "cell_type": "code",
   "execution_count": 137,
   "metadata": {},
   "outputs": [],
   "source": [
    "# view_table=pd.pivot_table(train,values='Rounded Viewers',index='Country',aggfunc=np.sum)\n",
    "# view_table=view_table.sort_values(by=['Rounded Viewers'],ascending=False)\n",
    "# label=view_table.index\n",
    "# value=view_table.values\n",
    "# index=np.arange(len(label))\n",
    "# plt.bar(index,value)\n",
    "# plt.xticks(index,label,rotation=90)\n",
    "# plt.title(\"view count by contry\")\n",
    "# plt.show()"
   ]
  },
  {
   "cell_type": "markdown",
   "metadata": {},
   "source": [
    "# Categorical encoder"
   ]
  },
  {
   "cell_type": "code",
   "execution_count": 141,
   "metadata": {
    "collapsed": true
   },
   "outputs": [],
   "source": [
    "y_train=train['Rounded Viewers']\n",
    "y_train_log =np.log1p(y_train)\n",
    "X_train=train.drop(columns=['Rounded Viewers'])\n",
    "X_train['month']=X_train['month'].astype('category')\n",
    "# X_train=pd.get_dummies(X_train,drop_first=True)\n",
    "del X_train['Game_ID']\n",
    "del X_train['Game_Date']"
   ]
  },
  {
   "cell_type": "code",
   "execution_count": 142,
   "metadata": {
    "collapsed": true
   },
   "outputs": [],
   "source": [
    "X_test=test.drop(columns=['Total_Viewers','Game_ID',\"Game_Date\"])\n",
    "X_test['month']=X_test['month'].astype('category')\n",
    "X_test=X_test.sort_index(axis=1)"
   ]
  },
  {
   "cell_type": "code",
   "execution_count": 153,
   "metadata": {
    "collapsed": true
   },
   "outputs": [],
   "source": [
    "cat_col =['Away_Team','Home_Team','Season','day_of_week','month','Country']"
   ]
  },
  {
   "cell_type": "code",
   "execution_count": 154,
   "metadata": {},
   "outputs": [],
   "source": [
    "for feature in cat_col:\n",
    "    if feature !=\"month\":\n",
    "        X_train[feature]=X_train[feature].astype('category')\n",
    "        X_test[feature]=X_test[feature].astype('category')"
   ]
  },
  {
   "cell_type": "markdown",
   "metadata": {},
   "source": [
    "# light GBM\n",
    "LightGBM offers good accuracy with integer-encoded categorical features.   \n",
    "LightGBM applies Fisher (1958) to find the optimal split over categories as described here. This often performs better than one-hot encoding.  \n",
    "Use categorical_feature to specify the categorical features. Refer to the parameter categorical_feature in Parameters.  \n",
    "\n",
    "**Categorical features** must be encoded as non-negative integers (int) less than Int32.MaxValue (2147483647). It is best to use a **contiguous range of integers**.  \n",
    "\n",
    "Use **min_data_per_group, cat_smooth** to deal with over-fitting (when #data is small or #category is large).  \n",
    "\n",
    "For a categorical feature with high cardinality (#category is large), it often works best to treat the feature as numeric, either by simply ignoring the categorical interpretation of the integers or by embedding the categories in a low-dimensional numeric space.  \n"
   ]
  },
  {
   "cell_type": "code",
   "execution_count": 155,
   "metadata": {},
   "outputs": [
    {
     "data": {
      "text/plain": [
       "LGBMRegressor(boosting_type='dart', class_weight=None, colsample_bytree=1.0,\n",
       "       learning_rate=0.1, max_depth=-1, metric='rmse',\n",
       "       min_child_samples=20, min_child_weight=0.001, min_data_in_leaf=30,\n",
       "       min_split_gain=0.0, n_estimators=100, n_jobs=-1, num_leaves=10,\n",
       "       objective=None, random_state=None, reg_alpha=0.0, reg_lambda=0.0,\n",
       "       silent=True, subsample=1.0, subsample_for_bin=200000,\n",
       "       subsample_freq=0)"
      ]
     },
     "execution_count": 155,
     "metadata": {},
     "output_type": "execute_result"
    }
   ],
   "source": [
    "# model xgboost\n",
    "import lightgbm as lgb\n",
    "from lightgbm import LGBMRegressor\n",
    "lgb_model=LGBMRegressor()\n",
    "lgbm_params = {\n",
    "#     \"n_estimators\":60,\n",
    "    \"boosting_type\":\"dart\",\n",
    "#     \"application\":\"conitunous\",\n",
    "    \"learning_rate\":0.1,\n",
    "    \"min_data_in_leaf\":30,\n",
    "    \"num_leaves\":10,\n",
    "#     \"min_data_per_group\":[10,30,50],\n",
    "#     \"cat_smooth\":[0,0.5,1],\n",
    "    \"max_depth\":-1,\n",
    "#     \"scale_pos_weight\":2,\n",
    "#     \"drop_rate\":0.02,\n",
    "    \"metric\":\"rmse\",\n",
    "    \"min_split_gain\":0.0,\n",
    "#     \"colsample_bytree\":0.0\n",
    "}\n",
    "lgb_model.set_params(**lgbm_params) #base model"
   ]
  },
  {
   "cell_type": "markdown",
   "metadata": {},
   "source": [
    "###  tune n_booster round/n_estimator"
   ]
  },
  {
   "cell_type": "code",
   "execution_count": 156,
   "metadata": {
    "collapsed": true
   },
   "outputs": [],
   "source": [
    "lgbm_train = lgb.Dataset(data=X_train,\n",
    "                          label=y_train_log,\n",
    "                          categorical_feature=cat_col,\n",
    "                          free_raw_data=False)"
   ]
  },
  {
   "cell_type": "code",
   "execution_count": 151,
   "metadata": {},
   "outputs": [
    {
     "data": {
      "text/plain": [
       "['Away_Team', 'Home_Team', 'Season', 'day_of_week', 'month']"
      ]
     },
     "execution_count": 151,
     "metadata": {},
     "output_type": "execute_result"
    }
   ],
   "source": [
    "# lgbm_train.categorical_feature"
   ]
  },
  {
   "cell_type": "code",
   "execution_count": 164,
   "metadata": {},
   "outputs": [
    {
     "name": "stderr",
     "output_type": "stream",
     "text": [
      "C:\\Wesley_Tao\\6.Software\\Anaconda\\lib\\site-packages\\lightgbm\\basic.py:1040: UserWarning: Using categorical_feature in Dataset.\n",
      "  warnings.warn('Using categorical_feature in Dataset.')\n"
     ]
    },
    {
     "name": "stdout",
     "output_type": "stream",
     "text": [
      "[50]\tcv_agg's mape: 0.126444 + 0.000874043\n",
      "[100]\tcv_agg's mape: 0.127149 + 0.000952954\n",
      "[150]\tcv_agg's mape: 0.117061 + 0.00082969\n",
      "[200]\tcv_agg's mape: 0.0987285 + 0.000642851\n",
      "[250]\tcv_agg's mape: 0.093792 + 0.000584621\n",
      "[300]\tcv_agg's mape: 0.0899228 + 0.000683236\n",
      "[350]\tcv_agg's mape: 0.0884328 + 0.000660017\n",
      "[400]\tcv_agg's mape: 0.0846213 + 0.000603192\n",
      "[450]\tcv_agg's mape: 0.0818887 + 0.000860783\n",
      "[500]\tcv_agg's mape: 0.0806027 + 0.000939973\n",
      "[550]\tcv_agg's mape: 0.0792471 + 0.000795665\n",
      "[600]\tcv_agg's mape: 0.0802976 + 0.000726771\n",
      "[650]\tcv_agg's mape: 0.0783156 + 0.000844792\n",
      "[700]\tcv_agg's mape: 0.0773195 + 0.000969397\n",
      "[750]\tcv_agg's mape: 0.0763154 + 0.000870755\n",
      "[800]\tcv_agg's mape: 0.0761427 + 0.000916257\n",
      "[850]\tcv_agg's mape: 0.0747119 + 0.000884874\n",
      "[900]\tcv_agg's mape: 0.0738479 + 0.00078516\n",
      "[950]\tcv_agg's mape: 0.0734981 + 0.000733744\n",
      "[1000]\tcv_agg's mape: 0.0728744 + 0.000692016\n",
      "[1050]\tcv_agg's mape: 0.0717879 + 0.000653562\n",
      "[1100]\tcv_agg's mape: 0.0714758 + 0.000702523\n",
      "[1150]\tcv_agg's mape: 0.0714017 + 0.000625836\n",
      "[1200]\tcv_agg's mape: 0.0710254 + 0.000582267\n",
      "[1250]\tcv_agg's mape: 0.0702582 + 0.000580744\n",
      "[1300]\tcv_agg's mape: 0.0700583 + 0.000515463\n",
      "[1350]\tcv_agg's mape: 0.0695719 + 0.000429652\n",
      "[1400]\tcv_agg's mape: 0.0682446 + 0.000473683\n",
      "[1450]\tcv_agg's mape: 0.0681783 + 0.00043642\n",
      "[1500]\tcv_agg's mape: 0.0679569 + 0.000519007\n",
      "[1550]\tcv_agg's mape: 0.0677085 + 0.000510245\n",
      "[1600]\tcv_agg's mape: 0.0665813 + 0.000557024\n",
      "[1650]\tcv_agg's mape: 0.066629 + 0.000558989\n",
      "[1700]\tcv_agg's mape: 0.0655167 + 0.000617669\n",
      "[1750]\tcv_agg's mape: 0.0650431 + 0.000577692\n",
      "[1800]\tcv_agg's mape: 0.0646549 + 0.000482321\n",
      "[1850]\tcv_agg's mape: 0.0641052 + 0.000526899\n",
      "[1900]\tcv_agg's mape: 0.063685 + 0.000505468\n",
      "[1950]\tcv_agg's mape: 0.0633844 + 0.000437603\n",
      "[2000]\tcv_agg's mape: 0.0630006 + 0.000393294\n"
     ]
    }
   ],
   "source": [
    "cv_results = lgb.cv(train_set=lgbm_train,\n",
    "                     params=lgbm_params,\n",
    "                     nfold=5,\n",
    "                     num_boost_round=2000,\n",
    "                     early_stopping_rounds=200,\n",
    "                     stratified=False,\n",
    "#                      objective=\"regression\",\n",
    "                     verbose_eval=50,\n",
    "                     metrics=['mape'])"
   ]
  },
  {
   "cell_type": "code",
   "execution_count": 165,
   "metadata": {},
   "outputs": [
    {
     "data": {
      "text/plain": [
       "dict_keys(['mape-mean', 'mape-stdv'])"
      ]
     },
     "execution_count": 165,
     "metadata": {},
     "output_type": "execute_result"
    }
   ],
   "source": [
    "cv_results.keys()"
   ]
  },
  {
   "cell_type": "code",
   "execution_count": 166,
   "metadata": {},
   "outputs": [
    {
     "name": "stdout",
     "output_type": "stream",
     "text": [
      "Optimum boost rounds = 1999\n",
      "Best LGBM CV result = 0.06300056603411168\n"
     ]
    }
   ],
   "source": [
    "optimum_boost_rounds = np.argmin(cv_results['mape-mean'])\n",
    "print('Optimum boost rounds = {}'.format(optimum_boost_rounds))\n",
    "print('Best LGBM CV result = {}'.format(np.min(cv_results['mape-mean'])))"
   ]
  },
  {
   "cell_type": "code",
   "execution_count": 168,
   "metadata": {},
   "outputs": [],
   "source": [
    "# clf = lgb.train(train_set=lgbm_train,\n",
    "#                  params=lgbm_params,\n",
    "#                  num_boost_round=optimum_boost_rounds)"
   ]
  },
  {
   "cell_type": "markdown",
   "metadata": {},
   "source": [
    "# parameter tuning"
   ]
  },
  {
   "cell_type": "markdown",
   "metadata": {},
   "source": [
    "**max num_leaves**  This is the main parameter to control the complexity of the tree model.   \n",
    "Theoretically, we can set num_leaves = 2^(max_depth) to obtain the same number of leaves as depth-wise tree. "
   ]
  },
  {
   "cell_type": "markdown",
   "metadata": {},
   "source": [
    "**min_data_in_leaf** This is a very important parameter to prevent over-fitting in a leaf-wise tree.   \n",
    "Its optimal value depends on the number of training samples and num_leaves.   \n",
    "Setting it to a large value can avoid growing too deep a tree, but may cause under-fitting.   \n",
    "In practice, setting it to hundreds or thousands is enough for a large dataset.\n",
    "\n",
    "**max_depth. ** You also can use max_depth to limit the tree depth explicitly."
   ]
  },
  {
   "cell_type": "code",
   "execution_count": 169,
   "metadata": {
    "collapsed": true
   },
   "outputs": [],
   "source": [
    "# from sklearn.utils import check_arrays\n",
    "def mean_absolute_percentage_error(y, y_pred): \n",
    "    return np.mean(np.abs((y - y_pred) / y))\n",
    "import sklearn.metrics\n",
    "mape=sklearn.metrics.make_scorer(mean_absolute_percentage_error,greater_is_better=True)"
   ]
  },
  {
   "cell_type": "code",
   "execution_count": 172,
   "metadata": {},
   "outputs": [
    {
     "data": {
      "text/plain": [
       "LGBMRegressor(boosting_type='dart', class_weight=None, colsample_bytree=1.0,\n",
       "       learning_rate=0.1, max_depth=-1, metric='rmse',\n",
       "       min_child_samples=20, min_child_weight=0.001, min_data_in_leaf=30,\n",
       "       min_split_gain=0.0, n_estimators=1999, n_jobs=-1, num_leaves=10,\n",
       "       objective=None, random_state=None, reg_alpha=0.0, reg_lambda=0.0,\n",
       "       silent=True, subsample=1.0, subsample_for_bin=200000,\n",
       "       subsample_freq=0)"
      ]
     },
     "execution_count": 172,
     "metadata": {},
     "output_type": "execute_result"
    }
   ],
   "source": [
    "lgb_model.set_params(n_estimators=optimum_boost_rounds)"
   ]
  },
  {
   "cell_type": "code",
   "execution_count": null,
   "metadata": {
    "scrolled": true
   },
   "outputs": [
    {
     "name": "stdout",
     "output_type": "stream",
     "text": [
      "Fitting 5 folds for each of 3 candidates, totalling 15 fits\n"
     ]
    }
   ],
   "source": [
    "from sklearn.model_selection import GridSearchCV\n",
    "param_test1 = {\n",
    "     \"num_leaves\":[10,30,50],\n",
    "#     \"cat_smooth\":[0,0.5,1],\n",
    "#  'min_data_in_leaf':list(range(1,100,20))\n",
    "}\n",
    "gsearch1 = GridSearchCV(estimator = lgb_model, \n",
    "param_grid = param_test1, scoring='neg_mean_absolute_error',n_jobs=4,iid=False, cv=5,verbose=20)\n",
    "\n",
    "gsearch1.fit(X_train,y_train_log)\n",
    "\n",
    "gsearch1.grid_scores_, gsearch1.best_params_, gsearch1.best_score_"
   ]
  },
  {
   "cell_type": "code",
   "execution_count": null,
   "metadata": {},
   "outputs": [],
   "source": [
    "param_test2 = {\n",
    "     \"num_leaves\":list(range(gsearch1.best_params_['num_leaves']-5,gsearch1.best_params_['num_leaves']+5,2)),\n",
    "#     \"cat_smooth\":[0,0.5,1],\n",
    "#  'min_data_in_leaf':list(range(1,100,20))\n",
    "}\n",
    "gsearch2 = GridSearchCV(estimator = lgb_model, \n",
    "param_grid = param_test2, scoring='neg_mean_absolute_error',n_jobs=4,iid=False, cv=5,verbose=20)\n",
    "\n",
    "gsearch2.fit(X_train,y_train_log)\n",
    "\n",
    "gsearch2.grid_scores_, gsearch2.best_params_, gsearch2.best_score_\n"
   ]
  },
  {
   "cell_type": "code",
   "execution_count": null,
   "metadata": {},
   "outputs": [],
   "source": [
    "lgb_model.set_params(**gsearch2.best_params_)"
   ]
  },
  {
   "cell_type": "code",
   "execution_count": null,
   "metadata": {},
   "outputs": [],
   "source": [
    "param_test3 = {\n",
    " 'min_data_in_leaf':list(range(1,1000,100))\n",
    "}\n",
    "gsearch3 = GridSearchCV(estimator = lgb_model, \n",
    "param_grid = param_test3, scoring='neg_mean_squared_error',n_jobs=4,iid=False, cv=5,verbose=10)\n",
    "\n",
    "gsearch3.fit(X_train,y_train_log)\n",
    "\n",
    "gsearch3.grid_scores_, gsearch3.best_params_, gsearch3.best_score_"
   ]
  },
  {
   "cell_type": "code",
   "execution_count": null,
   "metadata": {
    "collapsed": true
   },
   "outputs": [],
   "source": [
    "lower_bound=max(0,gsearch3.best_params_['min_data_in_leaf']-50)"
   ]
  },
  {
   "cell_type": "code",
   "execution_count": null,
   "metadata": {},
   "outputs": [],
   "source": [
    "param_test3 = {\n",
    " 'min_data_in_leaf':list(range(lower_bound,gsearch3.best_params_['min_data_in_leaf']+50,10))\n",
    "}\n",
    "gsearch3 = GridSearchCV(estimator = lgb_model, \n",
    "param_grid = param_test3, scoring='neg_mean_squared_error',n_jobs=4,iid=False, cv=5,verbose=10)\n",
    "\n",
    "gsearch3.fit(X_train,y_train_log)\n",
    "\n",
    "gsearch3.grid_scores_, gsearch3.best_params_, gsearch3.best_score_"
   ]
  },
  {
   "cell_type": "code",
   "execution_count": null,
   "metadata": {},
   "outputs": [],
   "source": [
    "lgb_model.set_params(**gsearch3.best_params_)"
   ]
  },
  {
   "cell_type": "code",
   "execution_count": null,
   "metadata": {
    "collapsed": true
   },
   "outputs": [],
   "source": [
    "# lgb_model.set_params(n_estimators=X_train.shape[1])"
   ]
  },
  {
   "cell_type": "code",
   "execution_count": null,
   "metadata": {},
   "outputs": [],
   "source": [
    "lgb_model.fit(X_train,y_train_log)"
   ]
  },
  {
   "cell_type": "code",
   "execution_count": null,
   "metadata": {
    "collapsed": true
   },
   "outputs": [],
   "source": [
    "def plot_feature(alg,dtrain,top=100):\n",
    "    feat_imp = pd.Series(alg.feature_importances_,index=dtrain.columns).sort_values(ascending=False)[0:top]\n",
    "    feat_imp.plot(kind='bar', title='top {} Feature Importances'.format(top))\n",
    "    plt.ylabel('Feature Importance Score')\n",
    "    plt.show()"
   ]
  },
  {
   "cell_type": "code",
   "execution_count": null,
   "metadata": {},
   "outputs": [],
   "source": [
    "plot_feature(lgb_model,X_train,top=50)"
   ]
  },
  {
   "cell_type": "code",
   "execution_count": null,
   "metadata": {},
   "outputs": [],
   "source": [
    "lgb_model"
   ]
  },
  {
   "cell_type": "code",
   "execution_count": null,
   "metadata": {
    "collapsed": true
   },
   "outputs": [],
   "source": [
    "lgb_model=LGBMRegressor(boosting_type='dart', class_weight=None, colsample_bytree=1.0,\n",
    "       learning_rate=0.1, max_depth=-1, metric='rmse',\n",
    "       min_child_samples=20, min_child_weight=0.001, min_data_in_leaf=151,\n",
    "       min_split_gain=0.0, n_estimators=100, n_jobs=-1, num_leaves=7,\n",
    "       objective=None, random_state=None, reg_alpha=0.0, reg_lambda=0.0,\n",
    "       silent=True, subsample=1.0, subsample_for_bin=200000,\n",
    "       subsample_freq=0)"
   ]
  },
  {
   "cell_type": "markdown",
   "metadata": {},
   "source": [
    "# evaluation\n",
    "### k-fold cross-validation"
   ]
  },
  {
   "cell_type": "code",
   "execution_count": null,
   "metadata": {
    "collapsed": true
   },
   "outputs": [],
   "source": [
    "from sklearn.model_selection import KFold\n",
    "X_train.reset_index(inplace=True,drop=True)\n",
    "y_train.reset_index(inplace=True,drop=True)"
   ]
  },
  {
   "cell_type": "code",
   "execution_count": null,
   "metadata": {
    "collapsed": true
   },
   "outputs": [],
   "source": [
    "def mean_absolute_percentage_error(y, y_pred): \n",
    "    return np.mean(np.abs((y - y_pred) / y))\n",
    "import sklearn.metrics\n",
    "mape=sklearn.metrics.make_scorer(mean_absolute_percentage_error,greater_is_better=True)"
   ]
  },
  {
   "cell_type": "code",
   "execution_count": null,
   "metadata": {
    "collapsed": true
   },
   "outputs": [],
   "source": [
    "def cv_mape(model,X_train,y_train,fold=5):\n",
    "    kf = KFold(n_splits=fold,shuffle=True)\n",
    "    cv_error_list=[]\n",
    "    for train_index,test_index in tqdm(kf.split(X_train)):\n",
    "        model.fit(X_train.loc[train_index],np.log1p(y_train.loc[train_index])) # take logarithm\n",
    "        pred=np.expm1(model.predict(X_train.loc[test_index])) # restore \n",
    "        cv_error_list.append(mean_absolute_percentage_error(y=y_train.loc[test_index],y_pred=pred))\n",
    "        \n",
    "    return np.array(cv_error_list)"
   ]
  },
  {
   "cell_type": "code",
   "execution_count": null,
   "metadata": {},
   "outputs": [],
   "source": [
    "cv_result=cv_mape(lgb_model,X_train,y_train)"
   ]
  },
  {
   "cell_type": "code",
   "execution_count": null,
   "metadata": {},
   "outputs": [],
   "source": [
    "print(\"country level score:{} and std{}\".format(cv_result.mean(),cv_result.std()))"
   ]
  },
  {
   "cell_type": "code",
   "execution_count": null,
   "metadata": {
    "scrolled": true
   },
   "outputs": [],
   "source": [
    "# final score\n",
    "lgb_model.fit(X_train,np.log1p(y_train))\n",
    "y_insample_pred=np.expm1(lgb_model.predict(X_train))\n",
    "plt.hist(np.log1p(y_insample_pred),bins=100)\n",
    "plt.title(\"insample_prediction_contry_level\")\n",
    "plt.show()"
   ]
  },
  {
   "cell_type": "code",
   "execution_count": null,
   "metadata": {
    "scrolled": true
   },
   "outputs": [],
   "source": [
    "plt.hist(np.log1p(y_train),bins=100)\n",
    "plt.title(\"true distribution country level\")\n",
    "plt.show()"
   ]
  },
  {
   "cell_type": "code",
   "execution_count": null,
   "metadata": {
    "collapsed": true
   },
   "outputs": [],
   "source": [
    "train['pred_view']=y_insample_pred"
   ]
  },
  {
   "cell_type": "code",
   "execution_count": null,
   "metadata": {
    "collapsed": true
   },
   "outputs": [],
   "source": [
    "# train.head()"
   ]
  },
  {
   "cell_type": "code",
   "execution_count": null,
   "metadata": {
    "collapsed": true
   },
   "outputs": [],
   "source": [
    "train_game_2000=train[['Game_ID','Rounded Viewers','pred_view']].groupby('Game_ID').sum()"
   ]
  },
  {
   "cell_type": "code",
   "execution_count": null,
   "metadata": {},
   "outputs": [],
   "source": [
    "mean_absolute_percentage_error(train_game_2000['Rounded Viewers'],train_game_2000['pred_view'])"
   ]
  },
  {
   "cell_type": "markdown",
   "metadata": {},
   "source": [
    "# submission"
   ]
  },
  {
   "cell_type": "code",
   "execution_count": null,
   "metadata": {
    "collapsed": true
   },
   "outputs": [],
   "source": [
    "y_pred=np.expm1(lgb_model.predict(X_test))"
   ]
  },
  {
   "cell_type": "code",
   "execution_count": null,
   "metadata": {},
   "outputs": [],
   "source": [
    "plt.hist(y_pred,bins=100)\n",
    "plt.show()"
   ]
  },
  {
   "cell_type": "code",
   "execution_count": null,
   "metadata": {
    "collapsed": true
   },
   "outputs": [],
   "source": [
    "# plt.hist(y_train,bins=100)\n",
    "# plt.show()"
   ]
  },
  {
   "cell_type": "code",
   "execution_count": null,
   "metadata": {
    "collapsed": true
   },
   "outputs": [],
   "source": [
    "test['Total_Viewers']=y_pred"
   ]
  },
  {
   "cell_type": "code",
   "execution_count": null,
   "metadata": {},
   "outputs": [],
   "source": [
    "test.head()"
   ]
  },
  {
   "cell_type": "code",
   "execution_count": null,
   "metadata": {
    "collapsed": true
   },
   "outputs": [],
   "source": [
    "# aggregate over country"
   ]
  },
  {
   "cell_type": "code",
   "execution_count": null,
   "metadata": {
    "collapsed": true
   },
   "outputs": [],
   "source": [
    "submission=test.drop(columns=['month','Country','day_of_week','Away_Count_ASG','Home_Count_ASG'])"
   ]
  },
  {
   "cell_type": "code",
   "execution_count": null,
   "metadata": {
    "collapsed": true
   },
   "outputs": [],
   "source": [
    "submission=submission.groupby(by=['Season','Game_Date','Game_ID','Away_Team','Home_Team']).sum()"
   ]
  },
  {
   "cell_type": "code",
   "execution_count": null,
   "metadata": {
    "collapsed": true
   },
   "outputs": [],
   "source": [
    "submission.reset_index(inplace=True)"
   ]
  },
  {
   "cell_type": "code",
   "execution_count": null,
   "metadata": {
    "collapsed": true
   },
   "outputs": [],
   "source": [
    "submission['Total_Viewers']=submission['Total_Viewers'].round(0)"
   ]
  },
  {
   "cell_type": "code",
   "execution_count": null,
   "metadata": {
    "scrolled": true
   },
   "outputs": [],
   "source": [
    "submission.head()"
   ]
  },
  {
   "cell_type": "code",
   "execution_count": null,
   "metadata": {},
   "outputs": [],
   "source": [
    "submission.to_csv(\"/output/submission_7_11.csv\",index=False)"
   ]
  }
 ],
 "metadata": {
  "kernelspec": {
   "display_name": "Python 3",
   "language": "python",
   "name": "python3"
  },
  "language_info": {
   "codemirror_mode": {
    "name": "ipython",
    "version": 3
   },
   "file_extension": ".py",
   "mimetype": "text/x-python",
   "name": "python",
   "nbconvert_exporter": "python",
   "pygments_lexer": "ipython3",
   "version": "3.6.1"
  }
 },
 "nbformat": 4,
 "nbformat_minor": 2
}

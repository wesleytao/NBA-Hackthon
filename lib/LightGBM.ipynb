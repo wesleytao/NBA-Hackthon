{
 "cells": [
  {
   "cell_type": "code",
   "execution_count": 67,
   "metadata": {
    "collapsed": true
   },
   "outputs": [],
   "source": [
    "import gc\n",
    "import pandas as pd \n",
    "import numpy as np\n",
    "import glob\n",
    "import matplotlib.pyplot as plt\n",
    "from sklearn.preprocessing import LabelEncoder\n",
    "from tqdm import tqdm"
   ]
  },
  {
   "cell_type": "code",
   "execution_count": 2,
   "metadata": {
    "collapsed": true
   },
   "outputs": [],
   "source": [
    "train_data=pd.read_csv(\"../data/BusinessTrack/RAW_training_set.csv\")\n",
    "test_data=pd.read_csv(\"../data/BusinessTrack/RAW_test_set.csv\")\n",
    "player_data=pd.read_csv(\"../data/BusinessTrack/RAW_player_data.csv\")\n",
    "game_data=pd.read_csv(\"../data/BusinessTrack/RAW_game_data.csv\")"
   ]
  },
  {
   "cell_type": "markdown",
   "metadata": {},
   "source": [
    "# Feature Extraction"
   ]
  },
  {
   "cell_type": "markdown",
   "metadata": {},
   "source": [
    "## 1 All star number\n",
    "We believe the number of all star players will play a important role in views prediction  \n",
    "The intuition is if a team has more popular team players, people are more likely to watch that game"
   ]
  },
  {
   "cell_type": "code",
   "execution_count": 3,
   "metadata": {
    "collapsed": true
   },
   "outputs": [],
   "source": [
    "all_start_id = player_data['ASG_Team']!='None'\n",
    "all_star = player_data.loc[all_start_id,['Team','Name']].sort_values(by='Team').reset_index(drop=True)\n",
    "all_star = all_star.drop_duplicates().reset_index(drop=True)\n",
    "all_star_number = all_star.groupby(\"Team\").count().reset_index()\n",
    "all_star_number.columns = ['Team','Count_ASG']\n",
    "patch = pd.DataFrame()\n",
    "patch['Team']=list(set(train_data['Away_Team'])-set(all_star_number['Team']))\n",
    "patch['Count_ASG']=0\n",
    "all_star_number=pd.concat([all_star_number,patch],axis=0).reset_index(drop=True)"
   ]
  },
  {
   "cell_type": "code",
   "execution_count": 4,
   "metadata": {},
   "outputs": [
    {
     "data": {
      "text/html": [
       "<div>\n",
       "<style scoped>\n",
       "    .dataframe tbody tr th:only-of-type {\n",
       "        vertical-align: middle;\n",
       "    }\n",
       "\n",
       "    .dataframe tbody tr th {\n",
       "        vertical-align: top;\n",
       "    }\n",
       "\n",
       "    .dataframe thead th {\n",
       "        text-align: right;\n",
       "    }\n",
       "</style>\n",
       "<table border=\"1\" class=\"dataframe\">\n",
       "  <thead>\n",
       "    <tr style=\"text-align: right;\">\n",
       "      <th></th>\n",
       "      <th>Team</th>\n",
       "      <th>Count_ASG</th>\n",
       "    </tr>\n",
       "  </thead>\n",
       "  <tbody>\n",
       "    <tr>\n",
       "      <th>0</th>\n",
       "      <td>ATL</td>\n",
       "      <td>1</td>\n",
       "    </tr>\n",
       "    <tr>\n",
       "      <th>1</th>\n",
       "      <td>BOS</td>\n",
       "      <td>3</td>\n",
       "    </tr>\n",
       "    <tr>\n",
       "      <th>2</th>\n",
       "      <td>CHA</td>\n",
       "      <td>1</td>\n",
       "    </tr>\n",
       "    <tr>\n",
       "      <th>3</th>\n",
       "      <td>CHI</td>\n",
       "      <td>1</td>\n",
       "    </tr>\n",
       "    <tr>\n",
       "      <th>4</th>\n",
       "      <td>CLE</td>\n",
       "      <td>3</td>\n",
       "    </tr>\n",
       "  </tbody>\n",
       "</table>\n",
       "</div>"
      ],
      "text/plain": [
       "  Team  Count_ASG\n",
       "0  ATL          1\n",
       "1  BOS          3\n",
       "2  CHA          1\n",
       "3  CHI          1\n",
       "4  CLE          3"
      ]
     },
     "execution_count": 4,
     "metadata": {},
     "output_type": "execute_result"
    }
   ],
   "source": [
    "all_star_number.head()"
   ]
  },
  {
   "cell_type": "code",
   "execution_count": 5,
   "metadata": {},
   "outputs": [
    {
     "data": {
      "text/html": [
       "<div>\n",
       "<style scoped>\n",
       "    .dataframe tbody tr th:only-of-type {\n",
       "        vertical-align: middle;\n",
       "    }\n",
       "\n",
       "    .dataframe tbody tr th {\n",
       "        vertical-align: top;\n",
       "    }\n",
       "\n",
       "    .dataframe thead th {\n",
       "        text-align: right;\n",
       "    }\n",
       "</style>\n",
       "<table border=\"1\" class=\"dataframe\">\n",
       "  <thead>\n",
       "    <tr style=\"text-align: right;\">\n",
       "      <th></th>\n",
       "      <th>Season</th>\n",
       "      <th>Game_ID</th>\n",
       "      <th>Game_Date</th>\n",
       "      <th>Away_Team</th>\n",
       "      <th>Home_Team</th>\n",
       "      <th>Country</th>\n",
       "      <th>Rounded Viewers</th>\n",
       "    </tr>\n",
       "  </thead>\n",
       "  <tbody>\n",
       "    <tr>\n",
       "      <th>0</th>\n",
       "      <td>2016-17</td>\n",
       "      <td>21600001</td>\n",
       "      <td>10/25/2016</td>\n",
       "      <td>NYK</td>\n",
       "      <td>CLE</td>\n",
       "      <td>C113</td>\n",
       "      <td>18</td>\n",
       "    </tr>\n",
       "    <tr>\n",
       "      <th>1</th>\n",
       "      <td>2016-17</td>\n",
       "      <td>21600001</td>\n",
       "      <td>10/25/2016</td>\n",
       "      <td>NYK</td>\n",
       "      <td>CLE</td>\n",
       "      <td>C193</td>\n",
       "      <td>1</td>\n",
       "    </tr>\n",
       "    <tr>\n",
       "      <th>2</th>\n",
       "      <td>2016-17</td>\n",
       "      <td>21600001</td>\n",
       "      <td>10/25/2016</td>\n",
       "      <td>NYK</td>\n",
       "      <td>CLE</td>\n",
       "      <td>C126</td>\n",
       "      <td>4</td>\n",
       "    </tr>\n",
       "    <tr>\n",
       "      <th>3</th>\n",
       "      <td>2016-17</td>\n",
       "      <td>21600001</td>\n",
       "      <td>10/25/2016</td>\n",
       "      <td>NYK</td>\n",
       "      <td>CLE</td>\n",
       "      <td>C163</td>\n",
       "      <td>11</td>\n",
       "    </tr>\n",
       "    <tr>\n",
       "      <th>4</th>\n",
       "      <td>2016-17</td>\n",
       "      <td>21600001</td>\n",
       "      <td>10/25/2016</td>\n",
       "      <td>NYK</td>\n",
       "      <td>CLE</td>\n",
       "      <td>C73</td>\n",
       "      <td>3</td>\n",
       "    </tr>\n",
       "  </tbody>\n",
       "</table>\n",
       "</div>"
      ],
      "text/plain": [
       "    Season   Game_ID   Game_Date Away_Team Home_Team Country  Rounded Viewers\n",
       "0  2016-17  21600001  10/25/2016       NYK       CLE    C113               18\n",
       "1  2016-17  21600001  10/25/2016       NYK       CLE    C193                1\n",
       "2  2016-17  21600001  10/25/2016       NYK       CLE    C126                4\n",
       "3  2016-17  21600001  10/25/2016       NYK       CLE    C163               11\n",
       "4  2016-17  21600001  10/25/2016       NYK       CLE     C73                3"
      ]
     },
     "execution_count": 5,
     "metadata": {},
     "output_type": "execute_result"
    }
   ],
   "source": [
    "train_data.head()"
   ]
  },
  {
   "cell_type": "code",
   "execution_count": 6,
   "metadata": {
    "collapsed": true
   },
   "outputs": [],
   "source": [
    "train_data=pd.merge(train_data,all_star_number,how='outer',left_on='Away_Team',right_on='Team')\n",
    "train_data=train_data.drop(columns=['Team']).rename(mapper={\"Count_ASG\":\"Away_Count_ASG\"},axis='columns')"
   ]
  },
  {
   "cell_type": "code",
   "execution_count": 7,
   "metadata": {
    "collapsed": true
   },
   "outputs": [],
   "source": [
    "train_data=pd.merge(train_data,all_star_number,how='outer',left_on='Home_Team',right_on='Team')\n",
    "train_data=train_data.drop(columns=['Team']).rename(mapper={\"Count_ASG\":\"Home_Count_ASG\"},axis='columns')"
   ]
  },
  {
   "cell_type": "code",
   "execution_count": 8,
   "metadata": {
    "collapsed": true
   },
   "outputs": [],
   "source": [
    "test_data=pd.merge(test_data,all_star_number,how='outer',left_on='Away_Team',right_on='Team')\n",
    "test_data=test_data.drop(columns=['Team']).rename(mapper={\"Count_ASG\":\"Away_Count_ASG\"},axis='columns')\n",
    "test_data=pd.merge(test_data,all_star_number,how='outer',left_on='Home_Team',right_on='Team')\n",
    "test_data=test_data.drop(columns=['Team']).rename(mapper={\"Count_ASG\":\"Home_Count_ASG\"},axis='columns')"
   ]
  },
  {
   "cell_type": "markdown",
   "metadata": {},
   "source": [
    "## 2.Date\n",
    "we believe weekday or month will influence the future trend."
   ]
  },
  {
   "cell_type": "code",
   "execution_count": 76,
   "metadata": {
    "collapsed": true
   },
   "outputs": [],
   "source": [
    "train_data['Game_Date']=pd.to_datetime(train_data['Game_Date'])\n",
    "train_data['day_of_week']=train_data['Game_Date'].dt.weekday_name\n",
    "train_data['month']=train_data['Game_Date'].dt.month\n",
    "test_data['Game_Date']=pd.to_datetime(test_data['Game_Date'])\n",
    "test_data['day_of_week']=test_data['Game_Date'].dt.weekday_name\n",
    "test_data['month']=test_data['Game_Date'].dt.month\n",
    "train_data.to_csv(\"../output/train.csv\",index=False)\n",
    "test_data.to_csv(\"../output/test.csv\",index=False)"
   ]
  },
  {
   "cell_type": "code",
   "execution_count": 9,
   "metadata": {
    "collapsed": true
   },
   "outputs": [],
   "source": [
    "train_data=pd.read_csv(\"../output/train.csv\")\n",
    "test_data=pd.read_csv(\"../output/test.csv\")"
   ]
  },
  {
   "cell_type": "markdown",
   "metadata": {},
   "source": [
    "## 3.country"
   ]
  },
  {
   "cell_type": "code",
   "execution_count": 10,
   "metadata": {},
   "outputs": [
    {
     "name": "stdout",
     "output_type": "stream",
     "text": [
      "there are 228 countries.\n"
     ]
    }
   ],
   "source": [
    "print(\"there are {} countries.\".format(len(np.unique(train_data['Country']))))"
   ]
  },
  {
   "cell_type": "code",
   "execution_count": 11,
   "metadata": {},
   "outputs": [
    {
     "data": {
      "image/png": "[encoded data removed]",
      "text/plain": [
       "<matplotlib.figure.Figure at 0x1d76df75400>"
      ]
     },
     "metadata": {},
     "output_type": "display_data"
    }
   ],
   "source": [
    "view_table=pd.pivot_table(train_data,values='Rounded Viewers',index='Country',aggfunc=np.sum)\n",
    "view_table=view_table.sort_values(by=['Rounded Viewers'],ascending=False)\n",
    "label=view_table.index[0:30]\n",
    "value=view_table.values[0:30]\n",
    "index=np.arange(len(label))\n",
    "plt.bar(index,value)\n",
    "plt.xticks(index,label,rotation=90)\n",
    "plt.title(\"view count by contry\")\n",
    "plt.show()"
   ]
  },
  {
   "cell_type": "code",
   "execution_count": 12,
   "metadata": {
    "collapsed": true
   },
   "outputs": [],
   "source": [
    "# choose top 50 and put all other into 'others' catogory"
   ]
  },
  {
   "cell_type": "code",
   "execution_count": 13,
   "metadata": {
    "collapsed": true
   },
   "outputs": [],
   "source": [
    "top_50_country=view_table.index[0:50]\n",
    "top_50_idx=list(map(lambda thiscountry: True if thiscountry in top_50_country else False, train_data['Country']))\n",
    "not_top_50_idx=[not idx  for idx in top_50_idx]"
   ]
  },
  {
   "cell_type": "code",
   "execution_count": 14,
   "metadata": {},
   "outputs": [
    {
     "name": "stdout",
     "output_type": "stream",
     "text": [
      "top 50 country shape (99988, 11)\n"
     ]
    }
   ],
   "source": [
    "print (\"top 50 country shape\",train_data[top_50_idx].shape)"
   ]
  },
  {
   "cell_type": "code",
   "execution_count": 17,
   "metadata": {},
   "outputs": [],
   "source": [
    "# print(\"reset shape \",train_data[not_top_50_idx].shape) reset shape  (180637, 11)"
   ]
  },
  {
   "cell_type": "code",
   "execution_count": 16,
   "metadata": {},
   "outputs": [],
   "source": [
    "# print(\"total data shape\",train_data.shape) total data shape (280625, 11)"
   ]
  },
  {
   "cell_type": "code",
   "execution_count": 18,
   "metadata": {
    "collapsed": true
   },
   "outputs": [],
   "source": [
    "top_50_train_data =train_data[top_50_idx].copy()\n",
    "other=train_data[not_top_50_idx].copy()"
   ]
  },
  {
   "cell_type": "code",
   "execution_count": 19,
   "metadata": {
    "collapsed": true
   },
   "outputs": [],
   "source": [
    "other_count=other.groupby(['Game_ID']).sum()\n",
    "del other_count['month']\n",
    "del other_count['Away_Count_ASG']\n",
    "del other_count['Home_Count_ASG']\n",
    "other_count.reset_index(inplace=True)\n",
    "del other['Rounded Viewers']\n",
    "del other['Country']"
   ]
  },
  {
   "cell_type": "code",
   "execution_count": 21,
   "metadata": {
    "collapsed": true
   },
   "outputs": [],
   "source": [
    "aggregate_df =pd.DataFrame()\n",
    "aggregate_df=other.drop_duplicates().reset_index(drop=True)\n",
    "aggregate_df['Country']='other'\n",
    "aggregate_df.sort_values(['Game_ID'],inplace=True)\n",
    "aggregate_df=aggregate_df.merge(other_count, left_on='Game_ID', right_on='Game_ID', how='outer')"
   ]
  },
  {
   "cell_type": "code",
   "execution_count": 22,
   "metadata": {
    "collapsed": true
   },
   "outputs": [],
   "source": [
    "new_train_data=pd.concat([aggregate_df,top_50_train_data],axis=0)"
   ]
  },
  {
   "cell_type": "code",
   "execution_count": 25,
   "metadata": {},
   "outputs": [],
   "source": [
    "# new_train_data.shape"
   ]
  },
  {
   "cell_type": "code",
   "execution_count": 26,
   "metadata": {},
   "outputs": [],
   "source": [
    "# new_train_data.shape[0]==top_50_train_data.shape[0]+2000 "
   ]
  },
  {
   "cell_type": "code",
   "execution_count": 27,
   "metadata": {
    "collapsed": true
   },
   "outputs": [],
   "source": [
    "country_list=list(set(new_train_data['Country']))"
   ]
  },
  {
   "cell_type": "code",
   "execution_count": 93,
   "metadata": {
    "collapsed": true
   },
   "outputs": [],
   "source": [
    "# insert country into test_data"
   ]
  },
  {
   "cell_type": "code",
   "execution_count": 28,
   "metadata": {
    "collapsed": true
   },
   "outputs": [],
   "source": [
    "country_df=pd.DataFrame(country_list,columns=['Country'])\n",
    "# country_df\n",
    "country_df['key'] = 0\n",
    "test_data['key'] = 0\n",
    "new_test=pd.merge(test_data,country_df,on='key')\n",
    "del new_test['key']"
   ]
  },
  {
   "cell_type": "code",
   "execution_count": 29,
   "metadata": {
    "collapsed": true
   },
   "outputs": [],
   "source": [
    "# new_test.shape[0]==len(country_df)*len(test_data)"
   ]
  },
  {
   "cell_type": "code",
   "execution_count": 132,
   "metadata": {
    "collapsed": true
   },
   "outputs": [],
   "source": [
    "test=new_test\n",
    "train=new_train_data\n",
    "# del new_test\n",
    "# del new_train_data"
   ]
  },
  {
   "cell_type": "code",
   "execution_count": 31,
   "metadata": {},
   "outputs": [
    {
     "data": {
      "text/plain": [
       "12071"
      ]
     },
     "execution_count": 31,
     "metadata": {},
     "output_type": "execute_result"
    }
   ],
   "source": [
    "gc.collect()"
   ]
  },
  {
   "cell_type": "code",
   "execution_count": 32,
   "metadata": {},
   "outputs": [
    {
     "data": {
      "image/png": "[encoded data removed]",
      "text/plain": [
       "<matplotlib.figure.Figure at 0x1d76c8227f0>"
      ]
     },
     "metadata": {},
     "output_type": "display_data"
    }
   ],
   "source": [
    "view_table=pd.pivot_table(train,values='Rounded Viewers',index='Country',aggfunc=np.sum)\n",
    "view_table=view_table.sort_values(by=['Rounded Viewers'],ascending=False)\n",
    "label=view_table.index\n",
    "value=view_table.values\n",
    "index=np.arange(len(label))\n",
    "plt.bar(index,value)\n",
    "plt.xticks(index,label,rotation=90)\n",
    "plt.title(\"view count by contry\")\n",
    "plt.show()"
   ]
  },
  {
   "cell_type": "markdown",
   "metadata": {},
   "source": [
    "# Categorical encoder"
   ]
  },
  {
   "cell_type": "code",
   "execution_count": 33,
   "metadata": {
    "collapsed": true
   },
   "outputs": [],
   "source": [
    "y_train=train['Rounded Viewers']\n",
    "y_train_log =np.log1p(y_train)\n",
    "X_train=train.drop(columns=['Rounded Viewers'])\n",
    "X_train['month']=X_train['month'].astype('category')\n",
    "# X_train=pd.get_dummies(X_train,drop_first=True)\n",
    "del X_train['Game_ID']\n",
    "del X_train['Game_Date']"
   ]
  },
  {
   "cell_type": "code",
   "execution_count": 34,
   "metadata": {
    "collapsed": true
   },
   "outputs": [],
   "source": [
    "X_test=test.drop(columns=['Total_Viewers','Game_ID',\"Game_Date\"])\n",
    "X_test['month']=X_test['month'].astype('category')\n",
    "X_test=X_test.sort_index(axis=1)"
   ]
  },
  {
   "cell_type": "code",
   "execution_count": 35,
   "metadata": {
    "collapsed": true
   },
   "outputs": [],
   "source": [
    "cat_col=set(X_train.columns)-set(['Away_Count_ASG','Home_Count_ASG','month'])"
   ]
  },
  {
   "cell_type": "code",
   "execution_count": 36,
   "metadata": {
    "collapsed": true
   },
   "outputs": [],
   "source": [
    "for feature in cat_col:\n",
    "    if feature !=\"month\":\n",
    "        X_train[feature]=X_train[feature].astype('category')\n",
    "        X_test[feature]=X_test[feature].astype('category')"
   ]
  },
  {
   "cell_type": "markdown",
   "metadata": {},
   "source": [
    "# light GBM\n",
    "LightGBM offers good accuracy with integer-encoded categorical features.   \n",
    "LightGBM applies Fisher (1958) to find the optimal split over categories as described here. This often performs better than one-hot encoding.  \n",
    "Use categorical_feature to specify the categorical features. Refer to the parameter categorical_feature in Parameters.  \n",
    "\n",
    "**Categorical features** must be encoded as non-negative integers (int) less than Int32.MaxValue (2147483647). It is best to use a **contiguous range of integers**.  \n",
    "\n",
    "Use **min_data_per_group, cat_smooth** to deal with over-fitting (when #data is small or #category is large).  \n",
    "\n",
    "For a categorical feature with high cardinality (#category is large), it often works best to treat the feature as numeric, either by simply ignoring the categorical interpretation of the integers or by embedding the categories in a low-dimensional numeric space.  \n"
   ]
  },
  {
   "cell_type": "code",
   "execution_count": 37,
   "metadata": {},
   "outputs": [
    {
     "data": {
      "text/plain": [
       "LGBMRegressor(boosting_type='dart', class_weight=None, colsample_bytree=1.0,\n",
       "       learning_rate=0.1, max_depth=-1, metric='rmse',\n",
       "       min_child_samples=20, min_child_weight=0.001, min_data_in_leaf=30,\n",
       "       min_split_gain=0.0, n_estimators=100, n_jobs=-1, num_leaves=10,\n",
       "       objective=None, random_state=None, reg_alpha=0.0, reg_lambda=0.0,\n",
       "       silent=True, subsample=1.0, subsample_for_bin=200000,\n",
       "       subsample_freq=0)"
      ]
     },
     "execution_count": 37,
     "metadata": {},
     "output_type": "execute_result"
    }
   ],
   "source": [
    "# model xgboost\n",
    "import lightgbm as lgb\n",
    "from lightgbm import LGBMRegressor\n",
    "lgb_model=LGBMRegressor()\n",
    "lgbm_params = {\n",
    "#     \"n_estimators\":60,\n",
    "    \"boosting_type\":\"dart\",\n",
    "#     \"application\":\"conitunous\",\n",
    "    \"learning_rate\":0.1,\n",
    "    \"min_data_in_leaf\":30,\n",
    "    \"num_leaves\":10,\n",
    "#     \"min_data_per_group\":[10,30,50],\n",
    "#     \"cat_smooth\":[0,0.5,1],\n",
    "    \"max_depth\":-1,\n",
    "#     \"scale_pos_weight\":2,\n",
    "#     \"drop_rate\":0.02,\n",
    "    \"metric\":\"rmse\",\n",
    "    \"min_split_gain\":0.0,\n",
    "#     \"colsample_bytree\":0.0\n",
    "}\n",
    "lgb_model.set_params(**lgbm_params) #base model"
   ]
  },
  {
   "cell_type": "markdown",
   "metadata": {},
   "source": [
    "###  tune n_booster round/n_estimator"
   ]
  },
  {
   "cell_type": "code",
   "execution_count": 185,
   "metadata": {
    "collapsed": true
   },
   "outputs": [],
   "source": [
    "# lgbm_train = lgb.Dataset(data=X_train,\n",
    "#                           label=y_train_log,\n",
    "# #                           categorical_feature=cat_col,\n",
    "#                           free_raw_data=False)"
   ]
  },
  {
   "cell_type": "code",
   "execution_count": 38,
   "metadata": {},
   "outputs": [],
   "source": [
    "# lgbm_train.categorical_feature"
   ]
  },
  {
   "cell_type": "code",
   "execution_count": 39,
   "metadata": {},
   "outputs": [],
   "source": [
    "# cv_results = lgb.cv(train_set=lgbm_train,\n",
    "#                      params=lgbm_params,\n",
    "#                      nfold=5,\n",
    "#                      num_boost_round=1000,\n",
    "#                      early_stopping_rounds=200,\n",
    "#                      stratified=False,\n",
    "# #                      objective=\"regression\",\n",
    "#                      verbose_eval=50,\n",
    "#                      metrics=['mse'])"
   ]
  },
  {
   "cell_type": "code",
   "execution_count": 40,
   "metadata": {
    "collapsed": true
   },
   "outputs": [],
   "source": [
    "# cv_results"
   ]
  },
  {
   "cell_type": "code",
   "execution_count": 41,
   "metadata": {
    "collapsed": true
   },
   "outputs": [],
   "source": [
    "# optimum_boost_rounds = np.argmax(cv_results['l2-mean'])\n",
    "# print('Optimum boost rounds = {}'.format(optimum_boost_rounds))\n",
    "# print('Best LGBM CV result = {}'.format(np.max(cv_results['l2-mean'])))"
   ]
  },
  {
   "cell_type": "code",
   "execution_count": 42,
   "metadata": {
    "collapsed": true
   },
   "outputs": [],
   "source": [
    "# clf = lgb.train(train_set=lgbm_train,\n",
    "#                  params=lgbm_params,\n",
    "#                  num_boost_round=60)"
   ]
  },
  {
   "cell_type": "markdown",
   "metadata": {},
   "source": [
    "# parameter tuning"
   ]
  },
  {
   "cell_type": "markdown",
   "metadata": {},
   "source": [
    "**max num_leaves**  This is the main parameter to control the complexity of the tree model.   \n",
    "Theoretically, we can set num_leaves = 2^(max_depth) to obtain the same number of leaves as depth-wise tree. "
   ]
  },
  {
   "cell_type": "markdown",
   "metadata": {},
   "source": [
    "**min_data_in_leaf** This is a very important parameter to prevent over-fitting in a leaf-wise tree.   \n",
    "Its optimal value depends on the number of training samples and num_leaves.   \n",
    "Setting it to a large value can avoid growing too deep a tree, but may cause under-fitting.   \n",
    "In practice, setting it to hundreds or thousands is enough for a large dataset.\n",
    "\n",
    "**max_depth. ** You also can use max_depth to limit the tree depth explicitly."
   ]
  },
  {
   "cell_type": "code",
   "execution_count": 43,
   "metadata": {
    "collapsed": true
   },
   "outputs": [],
   "source": [
    "# from sklearn.utils import check_arrays\n",
    "def mean_absolute_percentage_error(y, y_pred): \n",
    "    return np.mean(np.abs((y - y_pred) / y))\n",
    "import sklearn.metrics\n",
    "mape=sklearn.metrics.make_scorer(mean_absolute_percentage_error,greater_is_better=True)"
   ]
  },
  {
   "cell_type": "code",
   "execution_count": 44,
   "metadata": {},
   "outputs": [
    {
     "data": {
      "text/plain": [
       "LGBMRegressor(boosting_type='dart', class_weight=None, colsample_bytree=1.0,\n",
       "       learning_rate=0.1, max_depth=-1, metric='rmse',\n",
       "       min_child_samples=20, min_child_weight=0.001, min_data_in_leaf=30,\n",
       "       min_split_gain=0.0, n_estimators=100, n_jobs=-1, num_leaves=10,\n",
       "       objective=None, random_state=None, reg_alpha=0.0, reg_lambda=0.0,\n",
       "       silent=True, subsample=1.0, subsample_for_bin=200000,\n",
       "       subsample_freq=0)"
      ]
     },
     "execution_count": 44,
     "metadata": {},
     "output_type": "execute_result"
    }
   ],
   "source": [
    "lgb_model"
   ]
  },
  {
   "cell_type": "code",
   "execution_count": 30,
   "metadata": {},
   "outputs": [
    {
     "name": "stdout",
     "output_type": "stream",
     "text": [
      "Fitting 5 folds for each of 3 candidates, totalling 15 fits\n"
     ]
    },
    {
     "name": "stderr",
     "output_type": "stream",
     "text": [
      "[Parallel(n_jobs=4)]: Done   1 tasks      | elapsed:    7.4s\n",
      "[Parallel(n_jobs=4)]: Done   2 tasks      | elapsed:   10.7s\n",
      "[Parallel(n_jobs=4)]: Done   3 tasks      | elapsed:   13.8s\n",
      "[Parallel(n_jobs=4)]: Done   4 tasks      | elapsed:   15.6s\n",
      "[Parallel(n_jobs=4)]: Done   5 tasks      | elapsed:   15.9s\n",
      "[Parallel(n_jobs=4)]: Done   6 tasks      | elapsed:   25.0s\n",
      "[Parallel(n_jobs=4)]: Done   7 tasks      | elapsed:   28.2s\n",
      "[Parallel(n_jobs=4)]: Done   8 tasks      | elapsed:   29.3s\n",
      "[Parallel(n_jobs=4)]: Done   9 out of  15 | elapsed:   30.4s remaining:   20.3s\n",
      "[Parallel(n_jobs=4)]: Done  10 out of  15 | elapsed:   36.1s remaining:   18.0s\n",
      "[Parallel(n_jobs=4)]: Done  11 out of  15 | elapsed:   44.3s remaining:   16.1s\n",
      "[Parallel(n_jobs=4)]: Done  12 out of  15 | elapsed:   45.6s remaining:   11.3s\n",
      "[Parallel(n_jobs=4)]: Done  13 out of  15 | elapsed:   46.9s remaining:    7.1s\n",
      "[Parallel(n_jobs=4)]: Done  15 out of  15 | elapsed:   54.8s remaining:    0.0s\n",
      "[Parallel(n_jobs=4)]: Done  15 out of  15 | elapsed:   54.8s finished\n",
      "C:\\Wesley_Tao\\6.Software\\Anaconda\\lib\\site-packages\\sklearn\\model_selection\\_search.py:761: DeprecationWarning: The grid_scores_ attribute was deprecated in version 0.18 in favor of the more elaborate cv_results_ attribute. The grid_scores_ attribute will not be available from 0.20\n",
      "  DeprecationWarning)\n"
     ]
    },
    {
     "data": {
      "text/plain": [
       "([mean: -0.74573, std: 0.16140, params: {'num_leaves': 10},\n",
       "  mean: -0.74759, std: 0.17135, params: {'num_leaves': 30},\n",
       "  mean: -0.74705, std: 0.17403, params: {'num_leaves': 50}],\n",
       " {'num_leaves': 10},\n",
       " -0.7457297561654588)"
      ]
     },
     "execution_count": 30,
     "metadata": {},
     "output_type": "execute_result"
    }
   ],
   "source": [
    "from sklearn.model_selection import GridSearchCV\n",
    "param_test1 = {\n",
    "     \"num_leaves\":[10,30,50],\n",
    "#     \"cat_smooth\":[0,0.5,1],\n",
    "#  'min_data_in_leaf':list(range(1,100,20))\n",
    "}\n",
    "gsearch1 = GridSearchCV(estimator = lgb_model, \n",
    "param_grid = param_test1, scoring='neg_mean_absolute_error',n_jobs=4,iid=False, cv=5,verbose=20)\n",
    "\n",
    "gsearch1.fit(X_train,y_train_log)\n",
    "\n",
    "gsearch1.grid_scores_, gsearch1.best_params_, gsearch1.best_score_"
   ]
  },
  {
   "cell_type": "code",
   "execution_count": 34,
   "metadata": {},
   "outputs": [
    {
     "name": "stdout",
     "output_type": "stream",
     "text": [
      "Fitting 5 folds for each of 5 candidates, totalling 25 fits\n"
     ]
    },
    {
     "name": "stderr",
     "output_type": "stream",
     "text": [
      "[Parallel(n_jobs=4)]: Done   1 tasks      | elapsed:    5.9s\n",
      "[Parallel(n_jobs=4)]: Done   2 tasks      | elapsed:    8.7s\n",
      "[Parallel(n_jobs=4)]: Done   3 tasks      | elapsed:   10.8s\n",
      "[Parallel(n_jobs=4)]: Done   4 tasks      | elapsed:   14.2s\n",
      "[Parallel(n_jobs=4)]: Done   5 tasks      | elapsed:   14.3s\n",
      "[Parallel(n_jobs=4)]: Done   6 tasks      | elapsed:   17.1s\n",
      "[Parallel(n_jobs=4)]: Done   7 tasks      | elapsed:   20.2s\n",
      "[Parallel(n_jobs=4)]: Done   8 tasks      | elapsed:   25.7s\n",
      "[Parallel(n_jobs=4)]: Done   9 tasks      | elapsed:   26.8s\n",
      "[Parallel(n_jobs=4)]: Done  10 tasks      | elapsed:   32.3s\n",
      "[Parallel(n_jobs=4)]: Done  11 tasks      | elapsed:   38.3s\n",
      "[Parallel(n_jobs=4)]: Done  12 tasks      | elapsed:   41.7s\n",
      "[Parallel(n_jobs=4)]: Done  13 tasks      | elapsed:   42.5s\n",
      "[Parallel(n_jobs=4)]: Done  14 tasks      | elapsed:   45.1s\n",
      "[Parallel(n_jobs=4)]: Done  15 tasks      | elapsed:   47.5s\n",
      "[Parallel(n_jobs=4)]: Done  16 tasks      | elapsed:   50.7s\n",
      "[Parallel(n_jobs=4)]: Done  17 tasks      | elapsed:   51.5s\n",
      "[Parallel(n_jobs=4)]: Done  18 tasks      | elapsed:   53.7s\n",
      "[Parallel(n_jobs=4)]: Done  20 out of  25 | elapsed:  1.0min remaining:   15.2s\n",
      "[Parallel(n_jobs=4)]: Done  22 out of  25 | elapsed:  1.1min remaining:    8.9s\n",
      "[Parallel(n_jobs=4)]: Done  25 out of  25 | elapsed:  1.2min finished\n",
      "C:\\Wesley_Tao\\6.Software\\Anaconda\\lib\\site-packages\\sklearn\\model_selection\\_search.py:761: DeprecationWarning: The grid_scores_ attribute was deprecated in version 0.18 in favor of the more elaborate cv_results_ attribute. The grid_scores_ attribute will not be available from 0.20\n",
      "  DeprecationWarning)\n"
     ]
    },
    {
     "data": {
      "text/plain": [
       "([mean: -0.74415, std: 0.15824, params: {'num_leaves': 5},\n",
       "  mean: -0.74249, std: 0.15374, params: {'num_leaves': 7},\n",
       "  mean: -0.74641, std: 0.15861, params: {'num_leaves': 9},\n",
       "  mean: -0.74913, std: 0.16106, params: {'num_leaves': 11},\n",
       "  mean: -0.74468, std: 0.16591, params: {'num_leaves': 13}],\n",
       " {'num_leaves': 7},\n",
       " -0.7424879254015564)"
      ]
     },
     "execution_count": 34,
     "metadata": {},
     "output_type": "execute_result"
    }
   ],
   "source": [
    "param_test2 = {\n",
    "     \"num_leaves\":list(range(gsearch1.best_params_['num_leaves']-5,gsearch1.best_params_['num_leaves']+5,2)),\n",
    "#     \"cat_smooth\":[0,0.5,1],\n",
    "#  'min_data_in_leaf':list(range(1,100,20))\n",
    "}\n",
    "gsearch2 = GridSearchCV(estimator = lgb_model, \n",
    "param_grid = param_test2, scoring='neg_mean_absolute_error',n_jobs=4,iid=False, cv=5,verbose=20)\n",
    "\n",
    "gsearch2.fit(X_train,y_train_log)\n",
    "\n",
    "gsearch2.grid_scores_, gsearch2.best_params_, gsearch2.best_score_\n"
   ]
  },
  {
   "cell_type": "code",
   "execution_count": 35,
   "metadata": {},
   "outputs": [
    {
     "data": {
      "text/plain": [
       "LGBMRegressor(boosting_type='dart', class_weight=None, colsample_bytree=1.0,\n",
       "       learning_rate=0.1, max_depth=-1, metric='rmse',\n",
       "       min_child_samples=20, min_child_weight=0.001, min_data_in_leaf=30,\n",
       "       min_split_gain=0.0, n_estimators=100, n_jobs=-1, num_leaves=7,\n",
       "       objective=None, random_state=None, reg_alpha=0.0, reg_lambda=0.0,\n",
       "       silent=True, subsample=1.0, subsample_for_bin=200000,\n",
       "       subsample_freq=0)"
      ]
     },
     "execution_count": 35,
     "metadata": {},
     "output_type": "execute_result"
    }
   ],
   "source": [
    "lgb_model.set_params(**gsearch2.best_params_)"
   ]
  },
  {
   "cell_type": "code",
   "execution_count": 38,
   "metadata": {},
   "outputs": [
    {
     "name": "stdout",
     "output_type": "stream",
     "text": [
      "Fitting 5 folds for each of 10 candidates, totalling 50 fits\n"
     ]
    },
    {
     "name": "stderr",
     "output_type": "stream",
     "text": [
      "[Parallel(n_jobs=4)]: Done   5 tasks      | elapsed:   15.8s\n",
      "[Parallel(n_jobs=4)]: Done  10 tasks      | elapsed:   26.9s\n",
      "[Parallel(n_jobs=4)]: Done  17 tasks      | elapsed:   39.8s\n",
      "[Parallel(n_jobs=4)]: Done  24 tasks      | elapsed:   55.2s\n",
      "[Parallel(n_jobs=4)]: Done  33 tasks      | elapsed:  1.3min\n",
      "[Parallel(n_jobs=4)]: Done  42 tasks      | elapsed:  1.6min\n",
      "[Parallel(n_jobs=4)]: Done  50 out of  50 | elapsed:  1.8min finished\n",
      "C:\\Wesley_Tao\\6.Software\\Anaconda\\lib\\site-packages\\sklearn\\model_selection\\_search.py:761: DeprecationWarning: The grid_scores_ attribute was deprecated in version 0.18 in favor of the more elaborate cv_results_ attribute. The grid_scores_ attribute will not be available from 0.20\n",
      "  DeprecationWarning)\n"
     ]
    },
    {
     "data": {
      "text/plain": [
       "([mean: -0.85528, std: 0.37442, params: {'min_data_in_leaf': 1},\n",
       "  mean: -0.85528, std: 0.37442, params: {'min_data_in_leaf': 101},\n",
       "  mean: -0.85383, std: 0.37528, params: {'min_data_in_leaf': 201},\n",
       "  mean: -0.85383, std: 0.37528, params: {'min_data_in_leaf': 301},\n",
       "  mean: -0.85529, std: 0.37820, params: {'min_data_in_leaf': 401},\n",
       "  mean: -0.85529, std: 0.37820, params: {'min_data_in_leaf': 501},\n",
       "  mean: -0.85609, std: 0.37779, params: {'min_data_in_leaf': 601},\n",
       "  mean: -0.85458, std: 0.37479, params: {'min_data_in_leaf': 701},\n",
       "  mean: -0.85458, std: 0.37479, params: {'min_data_in_leaf': 801},\n",
       "  mean: -0.85458, std: 0.37479, params: {'min_data_in_leaf': 901}],\n",
       " {'min_data_in_leaf': 201},\n",
       " -0.8538324728486796)"
      ]
     },
     "execution_count": 38,
     "metadata": {},
     "output_type": "execute_result"
    }
   ],
   "source": [
    "param_test3 = {\n",
    " 'min_data_in_leaf':list(range(1,1000,100))\n",
    "}\n",
    "gsearch3 = GridSearchCV(estimator = lgb_model, \n",
    "param_grid = param_test3, scoring='neg_mean_squared_error',n_jobs=4,iid=False, cv=5,verbose=10)\n",
    "\n",
    "gsearch3.fit(X_train,y_train_log)\n",
    "\n",
    "gsearch3.grid_scores_, gsearch3.best_params_, gsearch3.best_score_"
   ]
  },
  {
   "cell_type": "code",
   "execution_count": 41,
   "metadata": {
    "collapsed": true
   },
   "outputs": [],
   "source": [
    "lower_bound=max(0,gsearch3.best_params_['min_data_in_leaf']-50)"
   ]
  },
  {
   "cell_type": "code",
   "execution_count": 43,
   "metadata": {},
   "outputs": [
    {
     "name": "stdout",
     "output_type": "stream",
     "text": [
      "Fitting 5 folds for each of 10 candidates, totalling 50 fits\n"
     ]
    },
    {
     "name": "stderr",
     "output_type": "stream",
     "text": [
      "[Parallel(n_jobs=4)]: Done   5 tasks      | elapsed:   15.3s\n",
      "[Parallel(n_jobs=4)]: Done  10 tasks      | elapsed:   26.7s\n",
      "[Parallel(n_jobs=4)]: Done  17 tasks      | elapsed:   38.3s\n",
      "[Parallel(n_jobs=4)]: Done  24 tasks      | elapsed:   51.8s\n",
      "[Parallel(n_jobs=4)]: Done  33 tasks      | elapsed:  1.1min\n",
      "[Parallel(n_jobs=4)]: Done  42 tasks      | elapsed:  1.5min\n",
      "[Parallel(n_jobs=4)]: Done  50 out of  50 | elapsed:  1.8min finished\n",
      "C:\\Wesley_Tao\\6.Software\\Anaconda\\lib\\site-packages\\sklearn\\model_selection\\_search.py:761: DeprecationWarning: The grid_scores_ attribute was deprecated in version 0.18 in favor of the more elaborate cv_results_ attribute. The grid_scores_ attribute will not be available from 0.20\n",
      "  DeprecationWarning)\n"
     ]
    },
    {
     "data": {
      "text/plain": [
       "([mean: -0.85383, std: 0.37528, params: {'min_data_in_leaf': 151},\n",
       "  mean: -0.85383, std: 0.37528, params: {'min_data_in_leaf': 161},\n",
       "  mean: -0.85383, std: 0.37528, params: {'min_data_in_leaf': 171},\n",
       "  mean: -0.85383, std: 0.37528, params: {'min_data_in_leaf': 181},\n",
       "  mean: -0.85383, std: 0.37528, params: {'min_data_in_leaf': 191},\n",
       "  mean: -0.85383, std: 0.37528, params: {'min_data_in_leaf': 201},\n",
       "  mean: -0.85383, std: 0.37528, params: {'min_data_in_leaf': 211},\n",
       "  mean: -0.85383, std: 0.37528, params: {'min_data_in_leaf': 221},\n",
       "  mean: -0.85383, std: 0.37528, params: {'min_data_in_leaf': 231},\n",
       "  mean: -0.85383, std: 0.37528, params: {'min_data_in_leaf': 241}],\n",
       " {'min_data_in_leaf': 151},\n",
       " -0.8538324728486796)"
      ]
     },
     "execution_count": 43,
     "metadata": {},
     "output_type": "execute_result"
    }
   ],
   "source": [
    "param_test3 = {\n",
    " 'min_data_in_leaf':list(range(lower_bound,gsearch3.best_params_['min_data_in_leaf']+50,10))\n",
    "}\n",
    "gsearch3 = GridSearchCV(estimator = lgb_model, \n",
    "param_grid = param_test3, scoring='neg_mean_squared_error',n_jobs=4,iid=False, cv=5,verbose=10)\n",
    "\n",
    "gsearch3.fit(X_train,y_train_log)\n",
    "\n",
    "gsearch3.grid_scores_, gsearch3.best_params_, gsearch3.best_score_"
   ]
  },
  {
   "cell_type": "code",
   "execution_count": 44,
   "metadata": {},
   "outputs": [
    {
     "data": {
      "text/plain": [
       "LGBMRegressor(boosting_type='dart', class_weight=None, colsample_bytree=1.0,\n",
       "       learning_rate=0.1, max_depth=-1, metric='rmse',\n",
       "       min_child_samples=20, min_child_weight=0.001, min_data_in_leaf=151,\n",
       "       min_split_gain=0.0, n_estimators=100, n_jobs=-1, num_leaves=7,\n",
       "       objective=None, random_state=None, reg_alpha=0.0, reg_lambda=0.0,\n",
       "       silent=True, subsample=1.0, subsample_for_bin=200000,\n",
       "       subsample_freq=0)"
      ]
     },
     "execution_count": 44,
     "metadata": {},
     "output_type": "execute_result"
    }
   ],
   "source": [
    "lgb_model.set_params(**gsearch3.best_params_)"
   ]
  },
  {
   "cell_type": "code",
   "execution_count": null,
   "metadata": {
    "collapsed": true
   },
   "outputs": [],
   "source": [
    "# lgb_model.set_params(n_estimators=X_train.shape[1])"
   ]
  },
  {
   "cell_type": "code",
   "execution_count": 45,
   "metadata": {},
   "outputs": [
    {
     "data": {
      "text/plain": [
       "LGBMRegressor(boosting_type='dart', class_weight=None, colsample_bytree=1.0,\n",
       "       learning_rate=0.1, max_depth=-1, metric='rmse',\n",
       "       min_child_samples=20, min_child_weight=0.001, min_data_in_leaf=151,\n",
       "       min_split_gain=0.0, n_estimators=100, n_jobs=-1, num_leaves=7,\n",
       "       objective=None, random_state=None, reg_alpha=0.0, reg_lambda=0.0,\n",
       "       silent=True, subsample=1.0, subsample_for_bin=200000,\n",
       "       subsample_freq=0)"
      ]
     },
     "execution_count": 45,
     "metadata": {},
     "output_type": "execute_result"
    }
   ],
   "source": [
    "lgb_model.fit(X_train,y_train_log)"
   ]
  },
  {
   "cell_type": "code",
   "execution_count": 46,
   "metadata": {
    "collapsed": true
   },
   "outputs": [],
   "source": [
    "def plot_feature(alg,dtrain,top=100):\n",
    "    feat_imp = pd.Series(alg.feature_importances_,index=dtrain.columns).sort_values(ascending=False)[0:top]\n",
    "    feat_imp.plot(kind='bar', title='top {} Feature Importances'.format(top))\n",
    "    plt.ylabel('Feature Importance Score')\n",
    "    plt.show()"
   ]
  },
  {
   "cell_type": "code",
   "execution_count": 47,
   "metadata": {},
   "outputs": [
    {
     "data": {
      "image/png": "[encoded data removed]",
      "text/plain": [
       "<matplotlib.figure.Figure at 0x212ab534e80>"
      ]
     },
     "metadata": {},
     "output_type": "display_data"
    }
   ],
   "source": [
    "plot_feature(lgb_model,X_train,top=50)"
   ]
  },
  {
   "cell_type": "code",
   "execution_count": 51,
   "metadata": {},
   "outputs": [
    {
     "data": {
      "text/plain": [
       "LGBMRegressor(boosting_type='dart', class_weight=None, colsample_bytree=1.0,\n",
       "       learning_rate=0.1, max_depth=-1, metric='rmse',\n",
       "       min_child_samples=20, min_child_weight=0.001, min_data_in_leaf=151,\n",
       "       min_split_gain=0.0, n_estimators=100, n_jobs=-1, num_leaves=7,\n",
       "       objective=None, random_state=None, reg_alpha=0.0, reg_lambda=0.0,\n",
       "       silent=True, subsample=1.0, subsample_for_bin=200000,\n",
       "       subsample_freq=0)"
      ]
     },
     "execution_count": 51,
     "metadata": {},
     "output_type": "execute_result"
    }
   ],
   "source": [
    "lgb_model"
   ]
  },
  {
   "cell_type": "code",
   "execution_count": 45,
   "metadata": {
    "collapsed": true
   },
   "outputs": [],
   "source": [
    "lgb_model=LGBMRegressor(boosting_type='dart', class_weight=None, colsample_bytree=1.0,\n",
    "       learning_rate=0.1, max_depth=-1, metric='rmse',\n",
    "       min_child_samples=20, min_child_weight=0.001, min_data_in_leaf=151,\n",
    "       min_split_gain=0.0, n_estimators=100, n_jobs=-1, num_leaves=7,\n",
    "       objective=None, random_state=None, reg_alpha=0.0, reg_lambda=0.0,\n",
    "       silent=True, subsample=1.0, subsample_for_bin=200000,\n",
    "       subsample_freq=0)"
   ]
  },
  {
   "cell_type": "markdown",
   "metadata": {},
   "source": [
    "# evaluation\n",
    "### k-fold cross-validation"
   ]
  },
  {
   "cell_type": "code",
   "execution_count": 49,
   "metadata": {},
   "outputs": [],
   "source": [
    "from sklearn.model_selection import KFold\n",
    "X_train.reset_index(inplace=True,drop=True)\n",
    "y_train.reset_index(inplace=True,drop=True)"
   ]
  },
  {
   "cell_type": "code",
   "execution_count": 98,
   "metadata": {},
   "outputs": [],
   "source": [
    "def mean_absolute_percentage_error(y, y_pred): \n",
    "    return np.mean(np.abs((y - y_pred) / y))\n",
    "import sklearn.metrics\n",
    "mape=sklearn.metrics.make_scorer(mean_absolute_percentage_error,greater_is_better=True)"
   ]
  },
  {
   "cell_type": "code",
   "execution_count": 109,
   "metadata": {
    "collapsed": true
   },
   "outputs": [],
   "source": [
    "def cv_mape(model,X_train,y_train,fold=5):\n",
    "    kf = KFold(n_splits=fold,shuffle=True)\n",
    "    cv_error_list=[]\n",
    "    for train_index,test_index in tqdm(kf.split(X_train)):\n",
    "        model.fit(X_train.loc[train_index],np.log1p(y_train.loc[train_index])) # take logarithm\n",
    "        pred=np.expm1(model.predict(X_train.loc[test_index])) # restore \n",
    "        cv_error_list.append(mean_absolute_percentage_error(y=y_train.loc[test_index],y_pred=pred))\n",
    "        \n",
    "    return np.array(cv_error_list)"
   ]
  },
  {
   "cell_type": "code",
   "execution_count": 110,
   "metadata": {},
   "outputs": [
    {
     "name": "stderr",
     "output_type": "stream",
     "text": [
      "5it [00:09,  1.90s/it]\n"
     ]
    }
   ],
   "source": [
    "cv_result=cv_mape(lgb_model,X_train,y_train)"
   ]
  },
  {
   "cell_type": "code",
   "execution_count": 119,
   "metadata": {},
   "outputs": [
    {
     "name": "stdout",
     "output_type": "stream",
     "text": [
      "country level score:0.48719452556823767 and std0.0018991117285270726\n"
     ]
    }
   ],
   "source": [
    "print(\"country level score:{} and std{}\".format(cv_result.mean(),cv_result.std()))"
   ]
  },
  {
   "cell_type": "code",
   "execution_count": 122,
   "metadata": {},
   "outputs": [
    {
     "data": {
      "image/png": "[encoded data removed]",
      "text/plain": [
       "<matplotlib.figure.Figure at 0x1d775c73f98>"
      ]
     },
     "metadata": {},
     "output_type": "display_data"
    }
   ],
   "source": [
    "# final score\n",
    "lgb_model.fit(X_train,np.log1p(y_train))\n",
    "y_insample_pred=np.expm1(lgb_model.predict(X_train))\n",
    "plt.hist(np.log1p(y_insample_pred),bins=100)\n",
    "plt.title(\"insample_prediction_contry_level\")\n",
    "plt.show()"
   ]
  },
  {
   "cell_type": "code",
   "execution_count": 124,
   "metadata": {},
   "outputs": [
    {
     "data": {
      "image/png": "[encoded data removed]",
      "text/plain": [
       "<matplotlib.figure.Figure at 0x1d775c6cc88>"
      ]
     },
     "metadata": {},
     "output_type": "display_data"
    }
   ],
   "source": [
    "plt.hist(np.log1p(y_train),bins=100)\n",
    "plt.title(\"true distribution country level\")\n",
    "plt.show()"
   ]
  },
  {
   "cell_type": "code",
   "execution_count": 134,
   "metadata": {
    "collapsed": true
   },
   "outputs": [],
   "source": [
    "train['pred_view']=y_insample_pred"
   ]
  },
  {
   "cell_type": "code",
   "execution_count": 138,
   "metadata": {},
   "outputs": [],
   "source": [
    "# train.head()"
   ]
  },
  {
   "cell_type": "code",
   "execution_count": 136,
   "metadata": {},
   "outputs": [],
   "source": [
    "train_game_2000=train[['Game_ID','Rounded Viewers','pred_view']].groupby('Game_ID').sum()"
   ]
  },
  {
   "cell_type": "code",
   "execution_count": 137,
   "metadata": {},
   "outputs": [
    {
     "data": {
      "text/plain": [
       "0.5038079944518666"
      ]
     },
     "execution_count": 137,
     "metadata": {},
     "output_type": "execute_result"
    }
   ],
   "source": [
    "mean_absolute_percentage_error(train_game_2000['Rounded Viewers'],train_game_2000['pred_view'])"
   ]
  },
  {
   "cell_type": "markdown",
   "metadata": {},
   "source": [
    "# submission"
   ]
  },
  {
   "cell_type": "code",
   "execution_count": 142,
   "metadata": {},
   "outputs": [],
   "source": [
    "y_pred=np.expm1(lgb_model.predict(X_test))"
   ]
  },
  {
   "cell_type": "code",
   "execution_count": 143,
   "metadata": {},
   "outputs": [
    {
     "data": {
      "image/png": "[encoded data removed]",
      "text/plain": [
       "<matplotlib.figure.Figure at 0x1d775b9c630>"
      ]
     },
     "metadata": {},
     "output_type": "display_data"
    }
   ],
   "source": [
    "plt.hist(y_pred,bins=100)\n",
    "plt.show()"
   ]
  },
  {
   "cell_type": "code",
   "execution_count": 145,
   "metadata": {},
   "outputs": [],
   "source": [
    "# plt.hist(y_train,bins=100)\n",
    "# plt.show()"
   ]
  },
  {
   "cell_type": "code",
   "execution_count": 153,
   "metadata": {
    "collapsed": true
   },
   "outputs": [],
   "source": [
    "test['Total_Viewers']=y_pred"
   ]
  },
  {
   "cell_type": "code",
   "execution_count": 154,
   "metadata": {},
   "outputs": [
    {
     "data": {
      "text/html": [
       "<div>\n",
       "<style scoped>\n",
       "    .dataframe tbody tr th:only-of-type {\n",
       "        vertical-align: middle;\n",
       "    }\n",
       "\n",
       "    .dataframe tbody tr th {\n",
       "        vertical-align: top;\n",
       "    }\n",
       "\n",
       "    .dataframe thead th {\n",
       "        text-align: right;\n",
       "    }\n",
       "</style>\n",
       "<table border=\"1\" class=\"dataframe\">\n",
       "  <thead>\n",
       "    <tr style=\"text-align: right;\">\n",
       "      <th></th>\n",
       "      <th>Season</th>\n",
       "      <th>Game_ID</th>\n",
       "      <th>Game_Date</th>\n",
       "      <th>Away_Team</th>\n",
       "      <th>Home_Team</th>\n",
       "      <th>Total_Viewers</th>\n",
       "      <th>Away_Count_ASG</th>\n",
       "      <th>Home_Count_ASG</th>\n",
       "      <th>day_of_week</th>\n",
       "      <th>month</th>\n",
       "      <th>Country</th>\n",
       "    </tr>\n",
       "  </thead>\n",
       "  <tbody>\n",
       "    <tr>\n",
       "      <th>0</th>\n",
       "      <td>2016-17</td>\n",
       "      <td>21600010</td>\n",
       "      <td>2016-10-26</td>\n",
       "      <td>DEN</td>\n",
       "      <td>NOP</td>\n",
       "      <td>302.691241</td>\n",
       "      <td>0</td>\n",
       "      <td>2</td>\n",
       "      <td>Wednesday</td>\n",
       "      <td>10</td>\n",
       "      <td>C169</td>\n",
       "    </tr>\n",
       "    <tr>\n",
       "      <th>1</th>\n",
       "      <td>2016-17</td>\n",
       "      <td>21600010</td>\n",
       "      <td>2016-10-26</td>\n",
       "      <td>DEN</td>\n",
       "      <td>NOP</td>\n",
       "      <td>58.160873</td>\n",
       "      <td>0</td>\n",
       "      <td>2</td>\n",
       "      <td>Wednesday</td>\n",
       "      <td>10</td>\n",
       "      <td>C117</td>\n",
       "    </tr>\n",
       "    <tr>\n",
       "      <th>2</th>\n",
       "      <td>2016-17</td>\n",
       "      <td>21600010</td>\n",
       "      <td>2016-10-26</td>\n",
       "      <td>DEN</td>\n",
       "      <td>NOP</td>\n",
       "      <td>228.937598</td>\n",
       "      <td>0</td>\n",
       "      <td>2</td>\n",
       "      <td>Wednesday</td>\n",
       "      <td>10</td>\n",
       "      <td>C47</td>\n",
       "    </tr>\n",
       "    <tr>\n",
       "      <th>3</th>\n",
       "      <td>2016-17</td>\n",
       "      <td>21600010</td>\n",
       "      <td>2016-10-26</td>\n",
       "      <td>DEN</td>\n",
       "      <td>NOP</td>\n",
       "      <td>209.003197</td>\n",
       "      <td>0</td>\n",
       "      <td>2</td>\n",
       "      <td>Wednesday</td>\n",
       "      <td>10</td>\n",
       "      <td>C114</td>\n",
       "    </tr>\n",
       "    <tr>\n",
       "      <th>4</th>\n",
       "      <td>2016-17</td>\n",
       "      <td>21600010</td>\n",
       "      <td>2016-10-26</td>\n",
       "      <td>DEN</td>\n",
       "      <td>NOP</td>\n",
       "      <td>66.044404</td>\n",
       "      <td>0</td>\n",
       "      <td>2</td>\n",
       "      <td>Wednesday</td>\n",
       "      <td>10</td>\n",
       "      <td>C208</td>\n",
       "    </tr>\n",
       "  </tbody>\n",
       "</table>\n",
       "</div>"
      ],
      "text/plain": [
       "    Season   Game_ID   Game_Date Away_Team Home_Team  Total_Viewers  \\\n",
       "0  2016-17  21600010  2016-10-26       DEN       NOP     302.691241   \n",
       "1  2016-17  21600010  2016-10-26       DEN       NOP      58.160873   \n",
       "2  2016-17  21600010  2016-10-26       DEN       NOP     228.937598   \n",
       "3  2016-17  21600010  2016-10-26       DEN       NOP     209.003197   \n",
       "4  2016-17  21600010  2016-10-26       DEN       NOP      66.044404   \n",
       "\n",
       "   Away_Count_ASG  Home_Count_ASG day_of_week  month Country  \n",
       "0               0               2   Wednesday     10    C169  \n",
       "1               0               2   Wednesday     10    C117  \n",
       "2               0               2   Wednesday     10     C47  \n",
       "3               0               2   Wednesday     10    C114  \n",
       "4               0               2   Wednesday     10    C208  "
      ]
     },
     "execution_count": 154,
     "metadata": {},
     "output_type": "execute_result"
    }
   ],
   "source": [
    "test.head()"
   ]
  },
  {
   "cell_type": "code",
   "execution_count": null,
   "metadata": {
    "collapsed": true
   },
   "outputs": [],
   "source": [
    "# aggregate over country"
   ]
  },
  {
   "cell_type": "code",
   "execution_count": 155,
   "metadata": {
    "collapsed": true
   },
   "outputs": [],
   "source": [
    "submission=test.drop(columns=['month','Country','day_of_week','Away_Count_ASG','Home_Count_ASG'])"
   ]
  },
  {
   "cell_type": "code",
   "execution_count": 156,
   "metadata": {
    "collapsed": true
   },
   "outputs": [],
   "source": [
    "submission=submission.groupby(by=['Season','Game_Date','Game_ID','Away_Team','Home_Team']).sum()"
   ]
  },
  {
   "cell_type": "code",
   "execution_count": 157,
   "metadata": {
    "collapsed": true
   },
   "outputs": [],
   "source": [
    "submission.reset_index(inplace=True)"
   ]
  },
  {
   "cell_type": "code",
   "execution_count": 158,
   "metadata": {
    "collapsed": true
   },
   "outputs": [],
   "source": [
    "submission['Total_Viewers']=submission['Total_Viewers'].round(0)"
   ]
  },
  {
   "cell_type": "code",
   "execution_count": 159,
   "metadata": {},
   "outputs": [
    {
     "data": {
      "text/html": [
       "<div>\n",
       "<style scoped>\n",
       "    .dataframe tbody tr th:only-of-type {\n",
       "        vertical-align: middle;\n",
       "    }\n",
       "\n",
       "    .dataframe tbody tr th {\n",
       "        vertical-align: top;\n",
       "    }\n",
       "\n",
       "    .dataframe thead th {\n",
       "        text-align: right;\n",
       "    }\n",
       "</style>\n",
       "<table border=\"1\" class=\"dataframe\">\n",
       "  <thead>\n",
       "    <tr style=\"text-align: right;\">\n",
       "      <th></th>\n",
       "      <th>Season</th>\n",
       "      <th>Game_Date</th>\n",
       "      <th>Game_ID</th>\n",
       "      <th>Away_Team</th>\n",
       "      <th>Home_Team</th>\n",
       "      <th>Total_Viewers</th>\n",
       "    </tr>\n",
       "  </thead>\n",
       "  <tbody>\n",
       "    <tr>\n",
       "      <th>0</th>\n",
       "      <td>2016-17</td>\n",
       "      <td>2016-10-26</td>\n",
       "      <td>21600010</td>\n",
       "      <td>DEN</td>\n",
       "      <td>NOP</td>\n",
       "      <td>5845.0</td>\n",
       "    </tr>\n",
       "    <tr>\n",
       "      <th>1</th>\n",
       "      <td>2016-17</td>\n",
       "      <td>2016-10-28</td>\n",
       "      <td>21600023</td>\n",
       "      <td>HOU</td>\n",
       "      <td>DAL</td>\n",
       "      <td>8641.0</td>\n",
       "    </tr>\n",
       "    <tr>\n",
       "      <th>2</th>\n",
       "      <td>2016-17</td>\n",
       "      <td>2016-10-29</td>\n",
       "      <td>21600026</td>\n",
       "      <td>ATL</td>\n",
       "      <td>PHI</td>\n",
       "      <td>8144.0</td>\n",
       "    </tr>\n",
       "    <tr>\n",
       "      <th>3</th>\n",
       "      <td>2016-17</td>\n",
       "      <td>2016-10-29</td>\n",
       "      <td>21600027</td>\n",
       "      <td>BOS</td>\n",
       "      <td>CHA</td>\n",
       "      <td>10258.0</td>\n",
       "    </tr>\n",
       "    <tr>\n",
       "      <th>4</th>\n",
       "      <td>2016-17</td>\n",
       "      <td>2016-11-01</td>\n",
       "      <td>21600048</td>\n",
       "      <td>LAL</td>\n",
       "      <td>IND</td>\n",
       "      <td>8459.0</td>\n",
       "    </tr>\n",
       "  </tbody>\n",
       "</table>\n",
       "</div>"
      ],
      "text/plain": [
       "    Season   Game_Date   Game_ID Away_Team Home_Team  Total_Viewers\n",
       "0  2016-17  2016-10-26  21600010       DEN       NOP         5845.0\n",
       "1  2016-17  2016-10-28  21600023       HOU       DAL         8641.0\n",
       "2  2016-17  2016-10-29  21600026       ATL       PHI         8144.0\n",
       "3  2016-17  2016-10-29  21600027       BOS       CHA        10258.0\n",
       "4  2016-17  2016-11-01  21600048       LAL       IND         8459.0"
      ]
     },
     "execution_count": 159,
     "metadata": {},
     "output_type": "execute_result"
    }
   ],
   "source": [
    "submission.head()"
   ]
  },
  {
   "cell_type": "code",
   "execution_count": 160,
   "metadata": {},
   "outputs": [
    {
     "ename": "FileNotFoundError",
     "evalue": "[Errno 2] No such file or directory: '/output/submission_7_11.csv'",
     "output_type": "error",
     "traceback": [
      "\u001b[1;31m---------------------------------------------------------------------------\u001b[0m",
      "\u001b[1;31mFileNotFoundError\u001b[0m                         Traceback (most recent call last)",
      "\u001b[1;32m<ipython-input-160-b7c0164a70a9>\u001b[0m in \u001b[0;36m<module>\u001b[1;34m()\u001b[0m\n\u001b[1;32m----> 1\u001b[1;33m \u001b[0msubmission\u001b[0m\u001b[1;33m.\u001b[0m\u001b[0mto_csv\u001b[0m\u001b[1;33m(\u001b[0m\u001b[1;34m\"/output/submission_7_11.csv\"\u001b[0m\u001b[1;33m,\u001b[0m\u001b[0mindex\u001b[0m\u001b[1;33m=\u001b[0m\u001b[1;32mFalse\u001b[0m\u001b[1;33m)\u001b[0m\u001b[1;33m\u001b[0m\u001b[0m\n\u001b[0m",
      "\u001b[1;32mC:\\Wesley_Tao\\6.Software\\Anaconda\\lib\\site-packages\\pandas\\core\\frame.py\u001b[0m in \u001b[0;36mto_csv\u001b[1;34m(self, path_or_buf, sep, na_rep, float_format, columns, header, index, index_label, mode, encoding, compression, quoting, quotechar, line_terminator, chunksize, tupleize_cols, date_format, doublequote, escapechar, decimal)\u001b[0m\n\u001b[0;32m   1522\u001b[0m                                      \u001b[0mdoublequote\u001b[0m\u001b[1;33m=\u001b[0m\u001b[0mdoublequote\u001b[0m\u001b[1;33m,\u001b[0m\u001b[1;33m\u001b[0m\u001b[0m\n\u001b[0;32m   1523\u001b[0m                                      escapechar=escapechar, decimal=decimal)\n\u001b[1;32m-> 1524\u001b[1;33m         \u001b[0mformatter\u001b[0m\u001b[1;33m.\u001b[0m\u001b[0msave\u001b[0m\u001b[1;33m(\u001b[0m\u001b[1;33m)\u001b[0m\u001b[1;33m\u001b[0m\u001b[0m\n\u001b[0m\u001b[0;32m   1525\u001b[0m \u001b[1;33m\u001b[0m\u001b[0m\n\u001b[0;32m   1526\u001b[0m         \u001b[1;32mif\u001b[0m \u001b[0mpath_or_buf\u001b[0m \u001b[1;32mis\u001b[0m \u001b[1;32mNone\u001b[0m\u001b[1;33m:\u001b[0m\u001b[1;33m\u001b[0m\u001b[0m\n",
      "\u001b[1;32mC:\\Wesley_Tao\\6.Software\\Anaconda\\lib\\site-packages\\pandas\\io\\formats\\format.py\u001b[0m in \u001b[0;36msave\u001b[1;34m(self)\u001b[0m\n\u001b[0;32m   1635\u001b[0m             f, handles = _get_handle(self.path_or_buf, self.mode,\n\u001b[0;32m   1636\u001b[0m                                      \u001b[0mencoding\u001b[0m\u001b[1;33m=\u001b[0m\u001b[0mencoding\u001b[0m\u001b[1;33m,\u001b[0m\u001b[1;33m\u001b[0m\u001b[0m\n\u001b[1;32m-> 1637\u001b[1;33m                                      compression=self.compression)\n\u001b[0m\u001b[0;32m   1638\u001b[0m             \u001b[0mclose\u001b[0m \u001b[1;33m=\u001b[0m \u001b[1;32mTrue\u001b[0m\u001b[1;33m\u001b[0m\u001b[0m\n\u001b[0;32m   1639\u001b[0m \u001b[1;33m\u001b[0m\u001b[0m\n",
      "\u001b[1;32mC:\\Wesley_Tao\\6.Software\\Anaconda\\lib\\site-packages\\pandas\\io\\common.py\u001b[0m in \u001b[0;36m_get_handle\u001b[1;34m(path_or_buf, mode, encoding, compression, memory_map, is_text)\u001b[0m\n\u001b[0;32m    388\u001b[0m         \u001b[1;32melif\u001b[0m \u001b[0mencoding\u001b[0m\u001b[1;33m:\u001b[0m\u001b[1;33m\u001b[0m\u001b[0m\n\u001b[0;32m    389\u001b[0m             \u001b[1;31m# Python 3 and encoding\u001b[0m\u001b[1;33m\u001b[0m\u001b[1;33m\u001b[0m\u001b[0m\n\u001b[1;32m--> 390\u001b[1;33m             \u001b[0mf\u001b[0m \u001b[1;33m=\u001b[0m \u001b[0mopen\u001b[0m\u001b[1;33m(\u001b[0m\u001b[0mpath_or_buf\u001b[0m\u001b[1;33m,\u001b[0m \u001b[0mmode\u001b[0m\u001b[1;33m,\u001b[0m \u001b[0mencoding\u001b[0m\u001b[1;33m=\u001b[0m\u001b[0mencoding\u001b[0m\u001b[1;33m)\u001b[0m\u001b[1;33m\u001b[0m\u001b[0m\n\u001b[0m\u001b[0;32m    391\u001b[0m         \u001b[1;32melif\u001b[0m \u001b[0mis_text\u001b[0m\u001b[1;33m:\u001b[0m\u001b[1;33m\u001b[0m\u001b[0m\n\u001b[0;32m    392\u001b[0m             \u001b[1;31m# Python 3 and no explicit encoding\u001b[0m\u001b[1;33m\u001b[0m\u001b[1;33m\u001b[0m\u001b[0m\n",
      "\u001b[1;31mFileNotFoundError\u001b[0m: [Errno 2] No such file or directory: '/output/submission_7_11.csv'"
     ]
    }
   ],
   "source": [
    "submission.to_csv(\"/output/submission_7_11.csv\",index=False)"
   ]
  }
 ],
 "metadata": {
  "kernelspec": {
   "display_name": "Python 3",
   "language": "python",
   "name": "python3"
  },
  "language_info": {
   "codemirror_mode": {
    "name": "ipython",
    "version": 3
   },
   "file_extension": ".py",
   "mimetype": "text/x-python",
   "name": "python",
   "nbconvert_exporter": "python",
   "pygments_lexer": "ipython3",
   "version": "3.6.1"
  }
 },
 "nbformat": 4,
 "nbformat_minor": 2
}
